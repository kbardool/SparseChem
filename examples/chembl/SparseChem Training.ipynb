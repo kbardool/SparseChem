{
 "cells": [
  {
   "cell_type": "code",
   "execution_count": 1,
   "id": "8aaf2ad3",
   "metadata": {
    "ExecuteTime": {
     "end_time": "2022-01-03T23:55:37.981669Z",
     "start_time": "2022-01-03T23:55:37.954345Z"
    }
   },
   "outputs": [
    {
     "data": {
      "text/html": [
       "<style>.container { width:90% !important; }</style>"
      ],
      "text/plain": [
       "<IPython.core.display.HTML object>"
      ]
     },
     "metadata": {},
     "output_type": "display_data"
    }
   ],
   "source": [
    "from IPython.core.display import display, HTML\n",
    "display(HTML(\"<style>.container { width:90% !important; }</style>\"))\n",
    "%load_ext autoreload\n",
    "%autoreload 2"
   ]
  },
  {
   "cell_type": "code",
   "execution_count": 2,
   "id": "d02f52c3",
   "metadata": {
    "ExecuteTime": {
     "end_time": "2022-01-03T23:55:39.082205Z",
     "start_time": "2022-01-03T23:55:39.071257Z"
    }
   },
   "outputs": [
    {
     "name": "stdout",
     "output_type": "stream",
     "text": [
      "['/home/kbardool/kusanagi/SparseChemDev/examples/chembl', '/home/kbardool/miniconda3/envs/pyt-gpu/lib/python39.zip', '/home/kbardool/miniconda3/envs/pyt-gpu/lib/python3.9', '/home/kbardool/miniconda3/envs/pyt-gpu/lib/python3.9/lib-dynload', '', '/home/kbardool/miniconda3/envs/pyt-gpu/lib/python3.9/site-packages', '/home/kbardool/miniconda3/envs/pyt-gpu/lib/python3.9/site-packages/IPython/extensions', '/home/kbardool/.ipython', '../..']\n"
     ]
    }
   ],
   "source": [
    "import sys\n",
    "if ('../..' not in sys.path):\n",
    "    sys.path.append('../..')\n",
    "print(sys.path)\n"
   ]
  },
  {
   "cell_type": "code",
   "execution_count": 3,
   "id": "a67f3c6e",
   "metadata": {
    "ExecuteTime": {
     "end_time": "2022-01-03T23:55:41.045788Z",
     "start_time": "2022-01-03T23:55:40.014776Z"
    }
   },
   "outputs": [],
   "source": [
    "import os\n",
    "import shutil\n",
    "import subprocess\n",
    "import sparsechem as sc\n",
    "import numpy as np\n",
    "import string\n",
    "import glob\n",
    "import scipy.sparse\n",
    "import pandas as pd\n",
    "from urllib.request import urlretrieve\n",
    "from test_train import random_str\n",
    "import torch \n",
    "from torch.utils.data import DataLoader\n",
    "from torch.optim.lr_scheduler import MultiStepLR\n",
    "from torchinfo import summary\n",
    "from torch.utils.tensorboard import SummaryWriter\n",
    "import pprint\n",
    "import time\n",
    "\n",
    "pp = pprint.PrettyPrinter(indent=4)"
   ]
  },
  {
   "cell_type": "code",
   "execution_count": 4,
   "id": "759088b0",
   "metadata": {
    "ExecuteTime": {
     "end_time": "2022-01-03T23:55:41.070474Z",
     "start_time": "2022-01-03T23:55:41.048393Z"
    }
   },
   "outputs": [],
   "source": [
    "def display_input_parms(args):\n",
    "    \"\"\"Display Configuration values.\"\"\"\n",
    "    print(\"\\n   Arguments passed :\")\n",
    "    print(\"   --------------------\")\n",
    "    for a in dir(args):\n",
    "        if not a.startswith(\"__\") and not callable(getattr(args, a)):\n",
    "            print(\"   {:30} {}\".format(a, getattr(args, a)))\n",
    "    print(\"\\n\")\n",
    "    \n",
    "# def vprint(s=\"\"):\n",
    "#     if args.verbose:\n",
    "#         print(s)\n",
    "\n",
    " "
   ]
  },
  {
   "cell_type": "code",
   "execution_count": 5,
   "id": "e5248d2e",
   "metadata": {
    "ExecuteTime": {
     "end_time": "2022-01-03T23:55:42.121723Z",
     "start_time": "2022-01-03T23:55:42.099817Z"
    }
   },
   "outputs": [
    {
     "name": "stdout",
     "output_type": "stream",
     "text": [
      "Call test_classification with dev: cpu , data_dir: test_chembl23 \n",
      "\n",
      "Output dir : ./test_chembl23/models-qrwhyyahcbvi/\n"
     ]
    }
   ],
   "source": [
    "dev = \"cpu\"\n",
    "data_dir=\"test_chembl23\"\n",
    "rstr = random_str(12)\n",
    "output_dir = f\"./{data_dir}/models-{rstr}/\"\n",
    "print(f\"Call test_classification with dev: {dev} , data_dir: {data_dir} \\n\")  \n",
    "print(f\"Output dir : {output_dir}\")"
   ]
  },
  {
   "cell_type": "markdown",
   "id": "ee1826f0",
   "metadata": {
    "heading_collapsed": true
   },
   "source": [
    "## Exploring Variables and Tensors"
   ]
  },
  {
   "cell_type": "markdown",
   "id": "67cc5c97",
   "metadata": {
    "hidden": true
   },
   "source": [
    "#### Panda Create Weights Dataframe\n",
    "\n",
    "Create a dataframe of 100 rows consisting of random training weights and task types. "
   ]
  },
  {
   "cell_type": "code",
   "execution_count": 89,
   "id": "e1101d1c",
   "metadata": {
    "ExecuteTime": {
     "end_time": "2021-10-22T13:00:47.068550Z",
     "start_time": "2021-10-22T13:00:47.063651Z"
    },
    "hidden": true
   },
   "outputs": [],
   "source": [
    "    df = pd.DataFrame({\n",
    "        \"task_id\":         np.arange(100),\n",
    "        \"training_weight\": np.clip(np.random.randn(100), 0, 1),\n",
    "        \"task_type\":       np.random.choice([\"adme\", \"panel\", \"other\"], size=100),\n",
    "    })"
   ]
  },
  {
   "cell_type": "code",
   "execution_count": 90,
   "id": "b2d2dedc",
   "metadata": {
    "ExecuteTime": {
     "end_time": "2021-10-22T13:00:47.271934Z",
     "start_time": "2021-10-22T13:00:47.262402Z"
    },
    "hidden": true
   },
   "outputs": [
    {
     "data": {
      "text/html": [
       "<div>\n",
       "<style scoped>\n",
       "    .dataframe tbody tr th:only-of-type {\n",
       "        vertical-align: middle;\n",
       "    }\n",
       "\n",
       "    .dataframe tbody tr th {\n",
       "        vertical-align: top;\n",
       "    }\n",
       "\n",
       "    .dataframe thead th {\n",
       "        text-align: right;\n",
       "    }\n",
       "</style>\n",
       "<table border=\"1\" class=\"dataframe\">\n",
       "  <thead>\n",
       "    <tr style=\"text-align: right;\">\n",
       "      <th></th>\n",
       "      <th>task_id</th>\n",
       "      <th>training_weight</th>\n",
       "      <th>task_type</th>\n",
       "    </tr>\n",
       "  </thead>\n",
       "  <tbody>\n",
       "    <tr>\n",
       "      <th>0</th>\n",
       "      <td>0</td>\n",
       "      <td>0.600169</td>\n",
       "      <td>adme</td>\n",
       "    </tr>\n",
       "    <tr>\n",
       "      <th>1</th>\n",
       "      <td>1</td>\n",
       "      <td>0.000000</td>\n",
       "      <td>adme</td>\n",
       "    </tr>\n",
       "    <tr>\n",
       "      <th>2</th>\n",
       "      <td>2</td>\n",
       "      <td>0.616482</td>\n",
       "      <td>panel</td>\n",
       "    </tr>\n",
       "    <tr>\n",
       "      <th>3</th>\n",
       "      <td>3</td>\n",
       "      <td>0.335386</td>\n",
       "      <td>panel</td>\n",
       "    </tr>\n",
       "    <tr>\n",
       "      <th>4</th>\n",
       "      <td>4</td>\n",
       "      <td>1.000000</td>\n",
       "      <td>adme</td>\n",
       "    </tr>\n",
       "  </tbody>\n",
       "</table>\n",
       "</div>"
      ],
      "text/plain": [
       "   task_id  training_weight task_type\n",
       "0        0         0.600169      adme\n",
       "1        1         0.000000      adme\n",
       "2        2         0.616482     panel\n",
       "3        3         0.335386     panel\n",
       "4        4         1.000000      adme"
      ]
     },
     "execution_count": 90,
     "metadata": {},
     "output_type": "execute_result"
    }
   ],
   "source": [
    "df.head(5)"
   ]
  },
  {
   "cell_type": "code",
   "execution_count": 48,
   "id": "95a118ba",
   "metadata": {
    "ExecuteTime": {
     "end_time": "2021-10-22T12:58:54.911618Z",
     "start_time": "2021-10-22T12:58:54.904558Z"
    },
    "hidden": true
   },
   "outputs": [
    {
     "name": "stdout",
     "output_type": "stream",
     "text": [
      "Conf file : []\n"
     ]
    }
   ],
   "source": [
    "conf_file  = glob.glob(f\"{output_dir}/*.json\")\n",
    "model_file = glob.glob(f\"{output_dir}/*.pt\")\n",
    "\n",
    "print(f\"Conf file : {conf_file}\")\n",
    "# results = sc.load_results(conf_file)"
   ]
  },
  {
   "cell_type": "markdown",
   "id": "cf7fde18",
   "metadata": {
    "hidden": true
   },
   "source": [
    "#### Compressed Sparse Row Formatted Matrix Manipulation"
   ]
  },
  {
   "cell_type": "code",
   "execution_count": 49,
   "id": "1fda1746",
   "metadata": {
    "ExecuteTime": {
     "end_time": "2021-10-22T12:58:54.929465Z",
     "start_time": "2021-10-22T12:58:54.914904Z"
    },
    "hidden": true
   },
   "outputs": [],
   "source": [
    "ecfp = np.load(f\"./{data_dir}/chembl_23mini_x.npy\", allow_pickle=True)\n"
   ]
  },
  {
   "cell_type": "code",
   "execution_count": 50,
   "id": "6bd7e11f",
   "metadata": {
    "ExecuteTime": {
     "end_time": "2021-10-22T12:58:54.946361Z",
     "start_time": "2021-10-22T12:58:54.932739Z"
    },
    "hidden": true
   },
   "outputs": [
    {
     "name": "stdout",
     "output_type": "stream",
     "text": [
      "ecfp     :  <class 'numpy.ndarray'>\n",
      "ecfp_item:   <class 'scipy.sparse.csr.csr_matrix'> \n",
      "ecfp_tocsr:  <class 'scipy.sparse.csr.csr_matrix'>\n",
      " Matricies are equal\n"
     ]
    }
   ],
   "source": [
    "print('ecfp     : ' ,type(ecfp))\n",
    "print('ecfp_item:  ', type(ecfp_item := ecfp.item()),\n",
    "      '\\necfp_tocsr: ', type(ecfp_tocsr := ecfp.item().tocsr()))\n",
    "if (ecfp_item - ecfp_tocsr).nnz == 0:\n",
    "    print(' Matricies are equal')"
   ]
  },
  {
   "cell_type": "code",
   "execution_count": 51,
   "id": "568d2627",
   "metadata": {
    "ExecuteTime": {
     "end_time": "2021-10-22T12:58:54.953767Z",
     "start_time": "2021-10-22T12:58:54.949656Z"
    },
    "hidden": true
   },
   "outputs": [
    {
     "name": "stdout",
     "output_type": "stream",
     "text": [
      "<18388x85277 sparse matrix of type '<class 'numpy.float64'>'\n",
      "\twith 1494038 stored elements in Compressed Sparse Row format>\n",
      "<18388x85277 sparse matrix of type '<class 'numpy.float64'>'\n",
      "\twith 1494038 stored elements in Compressed Sparse Row format>\n"
     ]
    }
   ],
   "source": [
    "print(repr(ecfp_item))\n",
    "print(repr(ecfp_tocsr))"
   ]
  },
  {
   "cell_type": "markdown",
   "id": "9f88aee0",
   "metadata": {
    "hidden": true
   },
   "source": [
    "#### `y_class`"
   ]
  },
  {
   "cell_type": "code",
   "execution_count": 52,
   "id": "7f57e1e3",
   "metadata": {
    "ExecuteTime": {
     "end_time": "2021-10-22T12:58:54.970625Z",
     "start_time": "2021-10-22T12:58:54.956705Z"
    },
    "hidden": true
   },
   "outputs": [
    {
     "name": "stdout",
     "output_type": "stream",
     "text": [
      "y_class      :  <class 'numpy.ndarray'> ()\n",
      "y_class_item :  <class 'scipy.sparse.csr.csr_matrix'> (18388, 100) \n",
      "y_class_tocsr:  <class 'scipy.sparse.csr.csr_matrix'> (18388, 100)\n",
      " Matricies are equal\n",
      "Y_class:  array(<18388x100 sparse matrix of type '<class 'numpy.float64'>'\n",
      "\twith 21149 stored elements in Compressed Sparse Row format>, dtype=object)\n",
      "Y_class_item:  <18388x100 sparse matrix of type '<class 'numpy.float64'>'\n",
      "\twith 21149 stored elements in Compressed Sparse Row format>\n",
      "Y_class_to_csr:  <18388x100 sparse matrix of type '<class 'numpy.float64'>'\n",
      "\twith 21149 stored elements in Compressed Sparse Row format>\n"
     ]
    }
   ],
   "source": [
    "y_class = np.load(f\"./{data_dir}/chembl_23mini_y.npy\", allow_pickle=True)\n",
    "\n",
    "print('y_class      : ', type(y_class), y_class.shape)\n",
    "print('y_class_item : ', type(y_class_item := y_class.item()) , y_class_item.shape,\n",
    "    '\\ny_class_tocsr: ', type(y_class_tocsr := y_class.item().tocsr()), y_class_tocsr.shape)\n",
    "if (y_class_item - y_class_tocsr).nnz == 0:\n",
    "    print(' Matricies are equal')\n",
    "print('Y_class: ', repr(y_class))\n",
    "print('Y_class_item: ', repr(y_class_item))\n",
    "print('Y_class_to_csr: ', repr(y_class_tocsr))"
   ]
  },
  {
   "cell_type": "code",
   "execution_count": 53,
   "id": "3a5c1314",
   "metadata": {
    "ExecuteTime": {
     "end_time": "2021-10-22T12:58:54.979183Z",
     "start_time": "2021-10-22T12:58:54.973572Z"
    },
    "hidden": true
   },
   "outputs": [
    {
     "name": "stdout",
     "output_type": "stream",
     "text": [
      "(18388, 100)\n",
      "(18388, 100)\n"
     ]
    }
   ],
   "source": [
    "print((y_class_tocsr == +1).shape)\n",
    "print((y_class_tocsr > 0.0).shape)"
   ]
  },
  {
   "cell_type": "code",
   "execution_count": 54,
   "id": "ece0bbce",
   "metadata": {
    "ExecuteTime": {
     "end_time": "2021-10-22T12:58:54.992594Z",
     "start_time": "2021-10-22T12:58:54.982149Z"
    },
    "hidden": true
   },
   "outputs": [
    {
     "name": "stdout",
     "output_type": "stream",
     "text": [
      " num pos  : [ 884   59   59  284   55   43  749   14  292  342  423   13  119    1\n",
      "  281  213    0   11  190   27   46   36   16   43    9   70    7  163\n",
      " 1399   35  447    1    0  675  327  142    6   31  552   52   27  325\n",
      "    1  350  535   72   94   36   55  259 1366    3   24    9 1408  148\n",
      "  971  113   31   55   70   74   63    0   86   58    2    0  465  273\n",
      "    9  317   91  146  199    0  251  232   62   14  230   79   30   41\n",
      "   32 1610   74   16   22    0    0    0  102    1    0   32   14    0\n",
      "   10    1]\n",
      " num neg  : [ 83   0   0   0   0   3  29   7   9  11   0   0   0  12   3   0   0   0\n",
      "   0   9   0  13  21   0   0   0   0   0  45   0   0 143   0   9   0  56\n",
      "   9  18  17   0   0   1   1   1  72   0  10   0 280   2   0   2  48 245\n",
      "  17  77   4   0   0   9   0   5   3   2  57   1   0   1   5   2  44   2\n",
      "  64  11   1  24   3   0 101  21  38   0  19   0   1 220  16  13 400  32\n",
      "   0  27   1  17   0   0   2   0  32  14]\n",
      " num class: [ 967   59   59  284   55   46  778   21  301  353  423   13  119   13\n",
      "  284  213    0   11  190   36   46   49   37   43    9   70    7  163\n",
      " 1444   35  447  144    0  684  327  198   15   49  569   52   27  326\n",
      "    2  351  607   72  104   36  335  261 1366    5   72  254 1425  225\n",
      "  975  113   31   64   70   79   66    2  143   59    2    1  470  275\n",
      "   53  319  155  157  200   24  254  232  163   35  268   79   49   41\n",
      "   33 1830   90   29  422   32    0   27  103   18    0   32   16    0\n",
      "   42   15]\n"
     ]
    }
   ],
   "source": [
    "num_pos    = np.array((y_class_tocsr == +1).sum(0)).flatten()\n",
    "num_neg    = np.array((y_class_tocsr == -1).sum(0)).flatten()\n",
    "num_class  = np.array((y_class_tocsr != 0).sum(0)).flatten()\n",
    "print(f' num pos  : {num_pos[:100]}')\n",
    "print(f' num neg  : {num_neg[:100]}')\n",
    "print(f' num class: {num_class[:100]}')"
   ]
  },
  {
   "cell_type": "code",
   "execution_count": 55,
   "id": "1aa2f84f",
   "metadata": {
    "ExecuteTime": {
     "end_time": "2021-10-22T12:58:54.998833Z",
     "start_time": "2021-10-22T12:58:54.994962Z"
    },
    "hidden": true
   },
   "outputs": [],
   "source": [
    "if (num_class != num_pos + num_neg).any():\n",
    "    print(\"For classification all y values (--y_class/--y) must be 1 or -1.\")"
   ]
  },
  {
   "cell_type": "code",
   "execution_count": null,
   "id": "5a3f6b6b",
   "metadata": {
    "hidden": true
   },
   "outputs": [],
   "source": []
  },
  {
   "cell_type": "markdown",
   "id": "d06e17a1",
   "metadata": {
    "hidden": true
   },
   "source": [
    "### `y_censor`\n",
    "\n",
    "`y_censor` is a sparse matrix : row_count x class_count"
   ]
  },
  {
   "cell_type": "code",
   "execution_count": 56,
   "id": "15a3f794",
   "metadata": {
    "ExecuteTime": {
     "end_time": "2021-10-22T12:58:55.015984Z",
     "start_time": "2021-10-22T12:58:55.002004Z"
    },
    "hidden": true
   },
   "outputs": [
    {
     "name": "stdout",
     "output_type": "stream",
     "text": [
      "y_censor      :  <class 'numpy.ndarray'> ()\n",
      "y_censor_item :  <class 'scipy.sparse.csr.csr_matrix'> (18388, 100) \n",
      "y_censor_tocsr:  <class 'scipy.sparse.csr.csr_matrix'> (18388, 100)\n",
      " Matricies are equal\n",
      "Y_censor:  array(<18388x100 sparse matrix of type '<class 'numpy.float64'>'\n",
      "\twith 21149 stored elements in Compressed Sparse Row format>, dtype=object)\n",
      "Y_censor_item:  <18388x100 sparse matrix of type '<class 'numpy.float64'>'\n",
      "\twith 21149 stored elements in Compressed Sparse Row format>\n",
      "Y_censor_to_csr:  <18388x100 sparse matrix of type '<class 'numpy.float64'>'\n",
      "\twith 21149 stored elements in Compressed Sparse Row format>\n"
     ]
    }
   ],
   "source": [
    "y_censor = np.load(f\"./{data_dir}/chembl_23mini_y_censored.npy\", allow_pickle=True)\n",
    "\n",
    "print('y_censor      : ', type(y_censor), y_censor.shape)\n",
    "print('y_censor_item : ', type(y_censor_item := y_censor.item()) , y_censor_item.shape,\n",
    "    '\\ny_censor_tocsr: ', type(y_censor_tocsr := y_censor.item().tocsr()), y_censor_tocsr.shape)\n",
    "if (y_censor_item - y_censor_tocsr).nnz == 0:\n",
    "    print(' Matricies are equal')\n",
    " \n",
    "print('Y_censor: ', repr(y_censor))\n",
    "print('Y_censor_item: ', repr(y_censor_item))\n",
    "print('Y_censor_to_csr: ', repr(y_censor_tocsr))"
   ]
  },
  {
   "cell_type": "code",
   "execution_count": 57,
   "id": "3dd6fcf9",
   "metadata": {
    "ExecuteTime": {
     "end_time": "2021-10-22T12:58:55.022135Z",
     "start_time": "2021-10-22T12:58:55.018487Z"
    },
    "hidden": true
   },
   "outputs": [],
   "source": [
    "# print(y_censor_tocsr)\n"
   ]
  },
  {
   "cell_type": "markdown",
   "id": "f077710c",
   "metadata": {
    "hidden": true
   },
   "source": [
    "###  `y_regr`\n",
    "\n",
    "`y_regr` is a sparse matrix : row_count x class_count"
   ]
  },
  {
   "cell_type": "code",
   "execution_count": 58,
   "id": "8a57c5f9",
   "metadata": {
    "ExecuteTime": {
     "end_time": "2021-10-22T12:58:55.041154Z",
     "start_time": "2021-10-22T12:58:55.026292Z"
    },
    "hidden": true
   },
   "outputs": [
    {
     "name": "stdout",
     "output_type": "stream",
     "text": [
      "y_regr      :  <class 'numpy.ndarray'> ()\n",
      "y_regr_item :  <class 'scipy.sparse.csr.csr_matrix'> (18388, 100) \n",
      "y_regr_tocsr:  <class 'scipy.sparse.csr.csr_matrix'> (18388, 100)\n",
      " Matricies y_regr_item and y_regr_tocsr are equal\n",
      "Y_regr:  array(<18388x100 sparse matrix of type '<class 'numpy.float64'>'\n",
      "\twith 21149 stored elements in Compressed Sparse Row format>, dtype=object)\n",
      "Y_regr_item:  <18388x100 sparse matrix of type '<class 'numpy.float64'>'\n",
      "\twith 21149 stored elements in Compressed Sparse Row format>\n",
      "Y_regr_to_csr:  <18388x100 sparse matrix of type '<class 'numpy.float64'>'\n",
      "\twith 21149 stored elements in Compressed Sparse Row format>\n"
     ]
    }
   ],
   "source": [
    "y_regr = np.load(f\"./{data_dir}/chembl_23mini_y.npy\", allow_pickle=True)\n",
    "\n",
    "print('y_regr      : ', type(y_regr), y_regr.shape)\n",
    "print('y_regr_item : ', type(y_regr_item := y_regr.item()) , y_regr_item.shape,\n",
    "    '\\ny_regr_tocsr: ', type(y_regr_tocsr := y_regr.item().tocsr()), y_regr_tocsr.shape)\n",
    "if (y_regr_item - y_regr_tocsr).nnz == 0:\n",
    "    print(' Matricies y_regr_item and y_regr_tocsr are equal')\n",
    " \n",
    "\n",
    "print('Y_regr: ', repr(y_regr))\n",
    "print('Y_regr_item: ', repr(y_regr_item))\n",
    "print('Y_regr_to_csr: ', repr(y_regr_tocsr))"
   ]
  },
  {
   "cell_type": "code",
   "execution_count": 59,
   "id": "3fcdfa6b",
   "metadata": {
    "ExecuteTime": {
     "end_time": "2021-10-22T12:58:55.048257Z",
     "start_time": "2021-10-22T12:58:55.045001Z"
    },
    "hidden": true
   },
   "outputs": [],
   "source": [
    "# print(y_regr_tocsr)\n"
   ]
  },
  {
   "cell_type": "markdown",
   "id": "b0e41fdc",
   "metadata": {
    "hidden": true
   },
   "source": [
    "### Folding"
   ]
  },
  {
   "cell_type": "code",
   "execution_count": 60,
   "id": "41c0dfad",
   "metadata": {
    "ExecuteTime": {
     "end_time": "2021-10-22T12:58:55.060282Z",
     "start_time": "2021-10-22T12:58:55.051537Z"
    },
    "hidden": true,
    "scrolled": true
   },
   "outputs": [
    {
     "name": "stdout",
     "output_type": "stream",
     "text": [
      "array([4, 0, 0, ..., 3, 0, 2]) (18388,)\n",
      "[0 1 2 3 4]\n",
      "[3755 3759 3661 3658 3555]\n"
     ]
    }
   ],
   "source": [
    "folding = np.load(f\"./{data_dir}/chembl_23mini_folds.npy\")\n",
    "print(repr(folding), folding.shape)\n",
    "print(np.unique(folding))\n",
    "print(np.bincount(folding))"
   ]
  },
  {
   "cell_type": "code",
   "execution_count": 61,
   "id": "827126d9",
   "metadata": {
    "ExecuteTime": {
     "end_time": "2021-10-22T12:58:55.069439Z",
     "start_time": "2021-10-22T12:58:55.063119Z"
    },
    "hidden": true
   },
   "outputs": [
    {
     "data": {
      "text/plain": [
       "<3555x100 sparse matrix of type '<class 'numpy.float64'>'\n",
       "\twith 4093 stored elements in Compressed Sparse Row format>"
      ]
     },
     "execution_count": 61,
     "metadata": {},
     "output_type": "execute_result"
    }
   ],
   "source": [
    "y1= y_class_tocsr[folding == 4]\n",
    "y1"
   ]
  },
  {
   "cell_type": "code",
   "execution_count": 62,
   "id": "9d6b3e8a",
   "metadata": {
    "ExecuteTime": {
     "end_time": "2021-10-22T12:58:55.075020Z",
     "start_time": "2021-10-22T12:58:55.072399Z"
    },
    "hidden": true
   },
   "outputs": [],
   "source": [
    "# print(y_class_tocsr)"
   ]
  },
  {
   "cell_type": "code",
   "execution_count": 63,
   "id": "879cb3cd",
   "metadata": {
    "ExecuteTime": {
     "end_time": "2021-10-22T12:58:55.080933Z",
     "start_time": "2021-10-22T12:58:55.077659Z"
    },
    "hidden": true
   },
   "outputs": [],
   "source": [
    "# print(y1)"
   ]
  },
  {
   "cell_type": "code",
   "execution_count": 64,
   "id": "29f04dc8",
   "metadata": {
    "ExecuteTime": {
     "end_time": "2021-10-22T12:58:55.091148Z",
     "start_time": "2021-10-22T12:58:55.083768Z"
    },
    "hidden": true
   },
   "outputs": [
    {
     "data": {
      "text/plain": [
       "array([182,  27,   7,  60,   6,   5, 157,   3,  44,  91,  62,   6,  17,\n",
       "         1,  38,  33,   0,   1,  48,  11,  13,   2,   0,   9,   2,  15,\n",
       "         5,  39, 319,   9, 114,   0,   0, 129,  55,  40,   0,   8, 112,\n",
       "         6,   0,  31,   0,  62,  80,   7,  17,   0,  10,  67, 254,   1,\n",
       "         4,   0, 277,  22, 241,   2,  14,  10,   4,  11,   3,   0,  18,\n",
       "         1,   1,   0,  95,  40,   3,  42,   9,  37,  11,   0,  50,  47,\n",
       "        22,   0,  47,  15,   0,  10,   6, 326,  12,   5,   7,   0,   0,\n",
       "         0,  21,   0,   0,   4,   2,   0,   5,   0])"
      ]
     },
     "execution_count": 64,
     "metadata": {},
     "output_type": "execute_result"
    }
   ],
   "source": [
    "# del n_pos, n_neg\n",
    "n_pos =   np.array((y1 == +1).sum(0))\n",
    "n_pos.shape\n",
    "n_pos.flatten()\n",
    "# n_neg =   np.array((y1 == -1).sum(0)).flatten()"
   ]
  },
  {
   "cell_type": "code",
   "execution_count": 65,
   "id": "ede52147",
   "metadata": {
    "ExecuteTime": {
     "end_time": "2021-10-22T12:58:55.125555Z",
     "start_time": "2021-10-22T12:58:55.093615Z"
    },
    "hidden": true
   },
   "outputs": [
    {
     "name": "stdout",
     "output_type": "stream",
     "text": [
      " Fold: 0\n",
      " ------------\n",
      "num_pos:  [array([115,  31,  17,  54,   7,  18, 203,   3,  55,  76,  63,   1,  42,\n",
      "         0,  75,  36,   0,   1,  43,   2,   7,   7,   0,   3,   0,  21,\n",
      "         1,  37, 330,  11,  86,   0,   0, 142,  27,  25,   4,   7, 111,\n",
      "        12,   7,  79,   0,  97, 129,  15,  10,   9,   9,  38, 272,   1,\n",
      "         2,   0, 285,  63, 185,   1,   0,   4,  19,  21,  13,   0,  18,\n",
      "        12,   0,   0,  93,  55,   1,  73,  29,  41,  18,   0,  46,  37,\n",
      "        14,   0,  40,  18,   6,   8,  10, 330,   6,   4,   1,   0,   0,\n",
      "         0,   8,   0,   0,   0,   3,   0,   1,   0])]\n",
      "num_neg:  [array([17,  0,  0,  0,  0,  1,  3,  4,  2,  2,  0,  0,  0,  1,  2,  0,  0,\n",
      "        0,  0,  2,  0,  0, 13,  0,  0,  0,  0,  0,  6,  0,  0, 30,  0,  0,\n",
      "        0,  3,  3,  3,  2,  0,  0,  1,  1,  1, 18,  0,  2,  0, 85,  0,  0,\n",
      "        2, 13, 47,  1, 11,  0,  0,  0,  2,  0,  1,  1,  1,  3,  0,  0,  0,\n",
      "        0,  0, 18,  0,  9,  3,  0,  4,  1,  0, 23, 11,  6,  0,  5,  0,  0,\n",
      "       46,  4,  4, 73,  2,  0,  7,  1,  0,  0,  0,  0,  0,  4,  0])]\n",
      " Fold: 1\n",
      " ------------\n",
      "num_pos:  [array([115,  31,  17,  54,   7,  18, 203,   3,  55,  76,  63,   1,  42,\n",
      "         0,  75,  36,   0,   1,  43,   2,   7,   7,   0,   3,   0,  21,\n",
      "         1,  37, 330,  11,  86,   0,   0, 142,  27,  25,   4,   7, 111,\n",
      "        12,   7,  79,   0,  97, 129,  15,  10,   9,   9,  38, 272,   1,\n",
      "         2,   0, 285,  63, 185,   1,   0,   4,  19,  21,  13,   0,  18,\n",
      "        12,   0,   0,  93,  55,   1,  73,  29,  41,  18,   0,  46,  37,\n",
      "        14,   0,  40,  18,   6,   8,  10, 330,   6,   4,   1,   0,   0,\n",
      "         0,   8,   0,   0,   0,   3,   0,   1,   0]), array([179,   1,  13,  70,   8,   8, 124,   3,  57,  65,  10,   3,  28,\n",
      "         0,  62,  75,   0,   5,  21,   3,  11,  13,   4,   0,   1,  11,\n",
      "         0,  32, 300,   8, 118,   0,   0, 153,  57,  25,   2,   5, 111,\n",
      "        12,   2,  59,   1,  47, 110,  15,  21,   1,   6,  43, 276,   1,\n",
      "         4,   4, 329,   7, 185, 108,   1,  11,  34,  14,   7,   0,  20,\n",
      "        19,   1,   0, 101,  75,   1,  68,  14,  21,  29,   0,  83,  61,\n",
      "         9,   0,  50,   2,   5,   6,   2, 359,  24,   1,   4,   0,   0,\n",
      "         0,   5,   0,   0,   6,   0,   0,   1,   0])]\n",
      "num_neg:  [array([17,  0,  0,  0,  0,  1,  3,  4,  2,  2,  0,  0,  0,  1,  2,  0,  0,\n",
      "        0,  0,  2,  0,  0, 13,  0,  0,  0,  0,  0,  6,  0,  0, 30,  0,  0,\n",
      "        0,  3,  3,  3,  2,  0,  0,  1,  1,  1, 18,  0,  2,  0, 85,  0,  0,\n",
      "        2, 13, 47,  1, 11,  0,  0,  0,  2,  0,  1,  1,  1,  3,  0,  0,  0,\n",
      "        0,  0, 18,  0,  9,  3,  0,  4,  1,  0, 23, 11,  6,  0,  5,  0,  0,\n",
      "       46,  4,  4, 73,  2,  0,  7,  1,  0,  0,  0,  0,  0,  4,  0]), array([ 27,   0,   0,   0,   0,   0,   2,   2,   5,   4,   0,   0,   0,\n",
      "         3,   0,   0,   0,   0,   0,   2,   0,   5,   0,   0,   0,   0,\n",
      "         0,   0,  11,   0,   0,  34,   0,   4,   0,  17,   0,   3,   1,\n",
      "         0,   0,   0,   0,   0,   6,   0,   0,   0,  37,   2,   0,   0,\n",
      "        11,  79,   4,  28,   0,   0,   0,   1,   0,   2,   0,   1,  13,\n",
      "         0,   0,   0,   1,   1,   2,   1,   2,   2,   0,   7,   0,   0,\n",
      "        23,   4,   9,   0,   4,   0,   0,  35,   1,   3, 115,   1,   0,\n",
      "         2,   0,   5,   0,   0,   1,   0,  13,   4])]\n",
      " Fold: 2\n",
      " ------------\n",
      "num_pos:  [array([115,  31,  17,  54,   7,  18, 203,   3,  55,  76,  63,   1,  42,\n",
      "         0,  75,  36,   0,   1,  43,   2,   7,   7,   0,   3,   0,  21,\n",
      "         1,  37, 330,  11,  86,   0,   0, 142,  27,  25,   4,   7, 111,\n",
      "        12,   7,  79,   0,  97, 129,  15,  10,   9,   9,  38, 272,   1,\n",
      "         2,   0, 285,  63, 185,   1,   0,   4,  19,  21,  13,   0,  18,\n",
      "        12,   0,   0,  93,  55,   1,  73,  29,  41,  18,   0,  46,  37,\n",
      "        14,   0,  40,  18,   6,   8,  10, 330,   6,   4,   1,   0,   0,\n",
      "         0,   8,   0,   0,   0,   3,   0,   1,   0]), array([179,   1,  13,  70,   8,   8, 124,   3,  57,  65,  10,   3,  28,\n",
      "         0,  62,  75,   0,   5,  21,   3,  11,  13,   4,   0,   1,  11,\n",
      "         0,  32, 300,   8, 118,   0,   0, 153,  57,  25,   2,   5, 111,\n",
      "        12,   2,  59,   1,  47, 110,  15,  21,   1,   6,  43, 276,   1,\n",
      "         4,   4, 329,   7, 185, 108,   1,  11,  34,  14,   7,   0,  20,\n",
      "        19,   1,   0, 101,  75,   1,  68,  14,  21,  29,   0,  83,  61,\n",
      "         9,   0,  50,   2,   5,   6,   2, 359,  24,   1,   4,   0,   0,\n",
      "         0,   5,   0,   0,   6,   0,   0,   1,   0]), array([237,   0,  10,  63,  15,   6, 144,   3,  59,  64,  67,   2,  14,\n",
      "         0,  48,  34,   0,   4,  25,   6,   3,   8,  12,   4,   4,   6,\n",
      "         1,  35, 250,   3,  66,   0,   0, 119, 133,  24,   0,   8, 117,\n",
      "        12,  18,  31,   0,  78,  78,   9,  26,  12,  10,  38, 296,   0,\n",
      "         4,   3, 280,  45, 172,   1,   5,  14,   5,  11,  20,   0,  16,\n",
      "        24,   0,   0,  85,  65,   0,  73,  25,  20,  16,   0,  51,  42,\n",
      "        13,   0,  58,  22,  10,   8,  10, 347,  20,   3,   9,   0,   0,\n",
      "         0,  23,   0,   0,  12,   3,   0,   0,   1])]\n",
      "num_neg:  [array([17,  0,  0,  0,  0,  1,  3,  4,  2,  2,  0,  0,  0,  1,  2,  0,  0,\n",
      "        0,  0,  2,  0,  0, 13,  0,  0,  0,  0,  0,  6,  0,  0, 30,  0,  0,\n",
      "        0,  3,  3,  3,  2,  0,  0,  1,  1,  1, 18,  0,  2,  0, 85,  0,  0,\n",
      "        2, 13, 47,  1, 11,  0,  0,  0,  2,  0,  1,  1,  1,  3,  0,  0,  0,\n",
      "        0,  0, 18,  0,  9,  3,  0,  4,  1,  0, 23, 11,  6,  0,  5,  0,  0,\n",
      "       46,  4,  4, 73,  2,  0,  7,  1,  0,  0,  0,  0,  0,  4,  0]), array([ 27,   0,   0,   0,   0,   0,   2,   2,   5,   4,   0,   0,   0,\n",
      "         3,   0,   0,   0,   0,   0,   2,   0,   5,   0,   0,   0,   0,\n",
      "         0,   0,  11,   0,   0,  34,   0,   4,   0,  17,   0,   3,   1,\n",
      "         0,   0,   0,   0,   0,   6,   0,   0,   0,  37,   2,   0,   0,\n",
      "        11,  79,   4,  28,   0,   0,   0,   1,   0,   2,   0,   1,  13,\n",
      "         0,   0,   0,   1,   1,   2,   1,   2,   2,   0,   7,   0,   0,\n",
      "        23,   4,   9,   0,   4,   0,   0,  35,   1,   3, 115,   1,   0,\n",
      "         2,   0,   5,   0,   0,   1,   0,  13,   4]), array([18,  0,  0,  0,  0,  1, 15,  0,  0,  2,  0,  0,  0,  2,  0,  0,  0,\n",
      "        0,  0,  2,  0,  2,  2,  0,  0,  0,  0,  0,  9,  0,  0, 33,  0,  2,\n",
      "        0, 17,  1,  5,  5,  0,  0,  0,  0,  0, 11,  0,  0,  0, 51,  0,  0,\n",
      "        0,  5, 48,  3, 23,  2,  0,  0,  1,  0,  0,  0,  0,  5,  1,  0,  0,\n",
      "        1,  0,  5,  1, 16,  2,  0,  6,  0,  0, 22,  2,  6,  0,  2,  0,  0,\n",
      "       42,  1,  4, 52,  5,  0, 18,  0,  5,  0,  0,  0,  0,  9,  4])]\n",
      " Fold: 3\n",
      " ------------\n",
      "num_pos:  [array([115,  31,  17,  54,   7,  18, 203,   3,  55,  76,  63,   1,  42,\n",
      "         0,  75,  36,   0,   1,  43,   2,   7,   7,   0,   3,   0,  21,\n",
      "         1,  37, 330,  11,  86,   0,   0, 142,  27,  25,   4,   7, 111,\n",
      "        12,   7,  79,   0,  97, 129,  15,  10,   9,   9,  38, 272,   1,\n",
      "         2,   0, 285,  63, 185,   1,   0,   4,  19,  21,  13,   0,  18,\n",
      "        12,   0,   0,  93,  55,   1,  73,  29,  41,  18,   0,  46,  37,\n",
      "        14,   0,  40,  18,   6,   8,  10, 330,   6,   4,   1,   0,   0,\n",
      "         0,   8,   0,   0,   0,   3,   0,   1,   0]), array([179,   1,  13,  70,   8,   8, 124,   3,  57,  65,  10,   3,  28,\n",
      "         0,  62,  75,   0,   5,  21,   3,  11,  13,   4,   0,   1,  11,\n",
      "         0,  32, 300,   8, 118,   0,   0, 153,  57,  25,   2,   5, 111,\n",
      "        12,   2,  59,   1,  47, 110,  15,  21,   1,   6,  43, 276,   1,\n",
      "         4,   4, 329,   7, 185, 108,   1,  11,  34,  14,   7,   0,  20,\n",
      "        19,   1,   0, 101,  75,   1,  68,  14,  21,  29,   0,  83,  61,\n",
      "         9,   0,  50,   2,   5,   6,   2, 359,  24,   1,   4,   0,   0,\n",
      "         0,   5,   0,   0,   6,   0,   0,   1,   0]), array([237,   0,  10,  63,  15,   6, 144,   3,  59,  64,  67,   2,  14,\n",
      "         0,  48,  34,   0,   4,  25,   6,   3,   8,  12,   4,   4,   6,\n",
      "         1,  35, 250,   3,  66,   0,   0, 119, 133,  24,   0,   8, 117,\n",
      "        12,  18,  31,   0,  78,  78,   9,  26,  12,  10,  38, 296,   0,\n",
      "         4,   3, 280,  45, 172,   1,   5,  14,   5,  11,  20,   0,  16,\n",
      "        24,   0,   0,  85,  65,   0,  73,  25,  20,  16,   0,  51,  42,\n",
      "        13,   0,  58,  22,  10,   8,  10, 347,  20,   3,   9,   0,   0,\n",
      "         0,  23,   0,   0,  12,   3,   0,   0,   1]), array([171,   0,  12,  37,  19,   6, 121,   2,  77,  46, 221,   1,  18,\n",
      "         0,  58,  35,   0,   0,  53,   5,  12,   6,   0,  27,   2,  17,\n",
      "         0,  20, 200,   4,  63,   1,   0, 132,  55,  28,   0,   3, 101,\n",
      "        10,   0, 125,   0,  66, 138,  26,  20,  14,  20,  73, 268,   0,\n",
      "        10,   2, 237,  11, 188,   1,  11,  16,   8,  17,  20,   0,  14,\n",
      "         2,   0,   0,  91,  38,   4,  61,  14,  27, 125,   0,  21,  45,\n",
      "         4,  14,  35,  22,   9,   9,   4, 248,  12,   3,   1,   0,   0,\n",
      "         0,  45,   1,   0,  10,   6,   0,   3,   0])]\n",
      "num_neg:  [array([17,  0,  0,  0,  0,  1,  3,  4,  2,  2,  0,  0,  0,  1,  2,  0,  0,\n",
      "        0,  0,  2,  0,  0, 13,  0,  0,  0,  0,  0,  6,  0,  0, 30,  0,  0,\n",
      "        0,  3,  3,  3,  2,  0,  0,  1,  1,  1, 18,  0,  2,  0, 85,  0,  0,\n",
      "        2, 13, 47,  1, 11,  0,  0,  0,  2,  0,  1,  1,  1,  3,  0,  0,  0,\n",
      "        0,  0, 18,  0,  9,  3,  0,  4,  1,  0, 23, 11,  6,  0,  5,  0,  0,\n",
      "       46,  4,  4, 73,  2,  0,  7,  1,  0,  0,  0,  0,  0,  4,  0]), array([ 27,   0,   0,   0,   0,   0,   2,   2,   5,   4,   0,   0,   0,\n",
      "         3,   0,   0,   0,   0,   0,   2,   0,   5,   0,   0,   0,   0,\n",
      "         0,   0,  11,   0,   0,  34,   0,   4,   0,  17,   0,   3,   1,\n",
      "         0,   0,   0,   0,   0,   6,   0,   0,   0,  37,   2,   0,   0,\n",
      "        11,  79,   4,  28,   0,   0,   0,   1,   0,   2,   0,   1,  13,\n",
      "         0,   0,   0,   1,   1,   2,   1,   2,   2,   0,   7,   0,   0,\n",
      "        23,   4,   9,   0,   4,   0,   0,  35,   1,   3, 115,   1,   0,\n",
      "         2,   0,   5,   0,   0,   1,   0,  13,   4]), array([18,  0,  0,  0,  0,  1, 15,  0,  0,  2,  0,  0,  0,  2,  0,  0,  0,\n",
      "        0,  0,  2,  0,  2,  2,  0,  0,  0,  0,  0,  9,  0,  0, 33,  0,  2,\n",
      "        0, 17,  1,  5,  5,  0,  0,  0,  0,  0, 11,  0,  0,  0, 51,  0,  0,\n",
      "        0,  5, 48,  3, 23,  2,  0,  0,  1,  0,  0,  0,  0,  5,  1,  0,  0,\n",
      "        1,  0,  5,  1, 16,  2,  0,  6,  0,  0, 22,  2,  6,  0,  2,  0,  0,\n",
      "       42,  1,  4, 52,  5,  0, 18,  0,  5,  0,  0,  0,  0,  9,  4]), array([ 5,  0,  0,  0,  0,  1,  7,  1,  0,  3,  0,  0,  0,  1,  1,  0,  0,\n",
      "        0,  0,  3,  0,  3,  1,  0,  0,  0,  0,  0, 16,  0,  0, 19,  0,  0,\n",
      "        0, 15,  2,  3,  3,  0,  0,  0,  0,  0, 11,  0,  3,  0, 56,  0,  0,\n",
      "        0, 16, 19,  5,  6,  0,  0,  0,  3,  0,  0,  2,  0, 18,  0,  0,  1,\n",
      "        3,  0, 15,  0, 22,  4,  1,  4,  0,  0, 16,  1,  9,  0,  3,  0,  0,\n",
      "       61,  5,  1, 86,  2,  0,  0,  0,  4,  0,  0,  1,  0,  3,  2])]\n",
      " Fold: 4\n",
      " ------------\n",
      "num_pos:  [array([115,  31,  17,  54,   7,  18, 203,   3,  55,  76,  63,   1,  42,\n",
      "         0,  75,  36,   0,   1,  43,   2,   7,   7,   0,   3,   0,  21,\n",
      "         1,  37, 330,  11,  86,   0,   0, 142,  27,  25,   4,   7, 111,\n",
      "        12,   7,  79,   0,  97, 129,  15,  10,   9,   9,  38, 272,   1,\n",
      "         2,   0, 285,  63, 185,   1,   0,   4,  19,  21,  13,   0,  18,\n",
      "        12,   0,   0,  93,  55,   1,  73,  29,  41,  18,   0,  46,  37,\n",
      "        14,   0,  40,  18,   6,   8,  10, 330,   6,   4,   1,   0,   0,\n",
      "         0,   8,   0,   0,   0,   3,   0,   1,   0]), array([179,   1,  13,  70,   8,   8, 124,   3,  57,  65,  10,   3,  28,\n",
      "         0,  62,  75,   0,   5,  21,   3,  11,  13,   4,   0,   1,  11,\n",
      "         0,  32, 300,   8, 118,   0,   0, 153,  57,  25,   2,   5, 111,\n",
      "        12,   2,  59,   1,  47, 110,  15,  21,   1,   6,  43, 276,   1,\n",
      "         4,   4, 329,   7, 185, 108,   1,  11,  34,  14,   7,   0,  20,\n",
      "        19,   1,   0, 101,  75,   1,  68,  14,  21,  29,   0,  83,  61,\n",
      "         9,   0,  50,   2,   5,   6,   2, 359,  24,   1,   4,   0,   0,\n",
      "         0,   5,   0,   0,   6,   0,   0,   1,   0]), array([237,   0,  10,  63,  15,   6, 144,   3,  59,  64,  67,   2,  14,\n",
      "         0,  48,  34,   0,   4,  25,   6,   3,   8,  12,   4,   4,   6,\n",
      "         1,  35, 250,   3,  66,   0,   0, 119, 133,  24,   0,   8, 117,\n",
      "        12,  18,  31,   0,  78,  78,   9,  26,  12,  10,  38, 296,   0,\n",
      "         4,   3, 280,  45, 172,   1,   5,  14,   5,  11,  20,   0,  16,\n",
      "        24,   0,   0,  85,  65,   0,  73,  25,  20,  16,   0,  51,  42,\n",
      "        13,   0,  58,  22,  10,   8,  10, 347,  20,   3,   9,   0,   0,\n",
      "         0,  23,   0,   0,  12,   3,   0,   0,   1]), array([171,   0,  12,  37,  19,   6, 121,   2,  77,  46, 221,   1,  18,\n",
      "         0,  58,  35,   0,   0,  53,   5,  12,   6,   0,  27,   2,  17,\n",
      "         0,  20, 200,   4,  63,   1,   0, 132,  55,  28,   0,   3, 101,\n",
      "        10,   0, 125,   0,  66, 138,  26,  20,  14,  20,  73, 268,   0,\n",
      "        10,   2, 237,  11, 188,   1,  11,  16,   8,  17,  20,   0,  14,\n",
      "         2,   0,   0,  91,  38,   4,  61,  14,  27, 125,   0,  21,  45,\n",
      "         4,  14,  35,  22,   9,   9,   4, 248,  12,   3,   1,   0,   0,\n",
      "         0,  45,   1,   0,  10,   6,   0,   3,   0]), array([182,  27,   7,  60,   6,   5, 157,   3,  44,  91,  62,   6,  17,\n",
      "         1,  38,  33,   0,   1,  48,  11,  13,   2,   0,   9,   2,  15,\n",
      "         5,  39, 319,   9, 114,   0,   0, 129,  55,  40,   0,   8, 112,\n",
      "         6,   0,  31,   0,  62,  80,   7,  17,   0,  10,  67, 254,   1,\n",
      "         4,   0, 277,  22, 241,   2,  14,  10,   4,  11,   3,   0,  18,\n",
      "         1,   1,   0,  95,  40,   3,  42,   9,  37,  11,   0,  50,  47,\n",
      "        22,   0,  47,  15,   0,  10,   6, 326,  12,   5,   7,   0,   0,\n",
      "         0,  21,   0,   0,   4,   2,   0,   5,   0])]\n",
      "num_neg:  [array([17,  0,  0,  0,  0,  1,  3,  4,  2,  2,  0,  0,  0,  1,  2,  0,  0,\n",
      "        0,  0,  2,  0,  0, 13,  0,  0,  0,  0,  0,  6,  0,  0, 30,  0,  0,\n",
      "        0,  3,  3,  3,  2,  0,  0,  1,  1,  1, 18,  0,  2,  0, 85,  0,  0,\n",
      "        2, 13, 47,  1, 11,  0,  0,  0,  2,  0,  1,  1,  1,  3,  0,  0,  0,\n",
      "        0,  0, 18,  0,  9,  3,  0,  4,  1,  0, 23, 11,  6,  0,  5,  0,  0,\n",
      "       46,  4,  4, 73,  2,  0,  7,  1,  0,  0,  0,  0,  0,  4,  0]), array([ 27,   0,   0,   0,   0,   0,   2,   2,   5,   4,   0,   0,   0,\n",
      "         3,   0,   0,   0,   0,   0,   2,   0,   5,   0,   0,   0,   0,\n",
      "         0,   0,  11,   0,   0,  34,   0,   4,   0,  17,   0,   3,   1,\n",
      "         0,   0,   0,   0,   0,   6,   0,   0,   0,  37,   2,   0,   0,\n",
      "        11,  79,   4,  28,   0,   0,   0,   1,   0,   2,   0,   1,  13,\n",
      "         0,   0,   0,   1,   1,   2,   1,   2,   2,   0,   7,   0,   0,\n",
      "        23,   4,   9,   0,   4,   0,   0,  35,   1,   3, 115,   1,   0,\n",
      "         2,   0,   5,   0,   0,   1,   0,  13,   4]), array([18,  0,  0,  0,  0,  1, 15,  0,  0,  2,  0,  0,  0,  2,  0,  0,  0,\n",
      "        0,  0,  2,  0,  2,  2,  0,  0,  0,  0,  0,  9,  0,  0, 33,  0,  2,\n",
      "        0, 17,  1,  5,  5,  0,  0,  0,  0,  0, 11,  0,  0,  0, 51,  0,  0,\n",
      "        0,  5, 48,  3, 23,  2,  0,  0,  1,  0,  0,  0,  0,  5,  1,  0,  0,\n",
      "        1,  0,  5,  1, 16,  2,  0,  6,  0,  0, 22,  2,  6,  0,  2,  0,  0,\n",
      "       42,  1,  4, 52,  5,  0, 18,  0,  5,  0,  0,  0,  0,  9,  4]), array([ 5,  0,  0,  0,  0,  1,  7,  1,  0,  3,  0,  0,  0,  1,  1,  0,  0,\n",
      "        0,  0,  3,  0,  3,  1,  0,  0,  0,  0,  0, 16,  0,  0, 19,  0,  0,\n",
      "        0, 15,  2,  3,  3,  0,  0,  0,  0,  0, 11,  0,  3,  0, 56,  0,  0,\n",
      "        0, 16, 19,  5,  6,  0,  0,  0,  3,  0,  0,  2,  0, 18,  0,  0,  1,\n",
      "        3,  0, 15,  0, 22,  4,  1,  4,  0,  0, 16,  1,  9,  0,  3,  0,  0,\n",
      "       61,  5,  1, 86,  2,  0,  0,  0,  4,  0,  0,  1,  0,  3,  2]), array([16,  0,  0,  0,  0,  0,  2,  0,  2,  0,  0,  0,  0,  5,  0,  0,  0,\n",
      "        0,  0,  0,  0,  3,  5,  0,  0,  0,  0,  0,  3,  0,  0, 27,  0,  3,\n",
      "        0,  4,  3,  4,  6,  0,  0,  0,  0,  0, 26,  0,  5,  0, 51,  0,  0,\n",
      "        0,  3, 52,  4,  9,  2,  0,  0,  2,  0,  2,  0,  0, 18,  0,  0,  0,\n",
      "        0,  1,  4,  0, 15,  0,  0,  3,  2,  0, 17,  3,  8,  0,  5,  0,  1,\n",
      "       36,  5,  1, 74, 22,  0,  0,  0,  3,  0,  0,  0,  0,  3,  4])]\n"
     ]
    }
   ],
   "source": [
    "folds = np.unique(folding)\n",
    "num_pos = []\n",
    "num_neg = []\n",
    "for fold in folds:\n",
    "    yf = y_class_tocsr[folding == fold]\n",
    "    num_pos.append( np.array((yf == +1).sum(0)).flatten() )\n",
    "    num_neg.append( np.array((yf == -1).sum(0)).flatten() )\n",
    "    print(f' Fold: {fold}')\n",
    "    print(f' ------------')\n",
    "    print('num_pos: ' , num_pos)\n",
    "    print('num_neg: ', num_neg)"
   ]
  },
  {
   "cell_type": "code",
   "execution_count": 66,
   "id": "3689babd",
   "metadata": {
    "ExecuteTime": {
     "end_time": "2021-10-22T12:58:55.133831Z",
     "start_time": "2021-10-22T12:58:55.127688Z"
    },
    "hidden": true
   },
   "outputs": [
    {
     "data": {
      "text/plain": [
       "array([[115,  31,  17,  54,   7],\n",
       "       [179,   1,  13,  70,   8],\n",
       "       [237,   0,  10,  63,  15],\n",
       "       [171,   0,  12,  37,  19],\n",
       "       [182,  27,   7,  60,   6]])"
      ]
     },
     "execution_count": 66,
     "metadata": {},
     "output_type": "execute_result"
    }
   ],
   "source": [
    "num_pos_stack = np.row_stack(num_pos)\n",
    "\n",
    "num_pos_stack.shape\n",
    "num_pos_stack[:,:5]"
   ]
  },
  {
   "cell_type": "markdown",
   "id": "d7ec00e9",
   "metadata": {
    "hidden": true
   },
   "source": [
    "### Input File Folding and Transformation"
   ]
  },
  {
   "cell_type": "code",
   "execution_count": 67,
   "id": "e71f8be3",
   "metadata": {
    "ExecuteTime": {
     "end_time": "2021-10-22T12:58:55.235880Z",
     "start_time": "2021-10-22T12:58:55.136836Z"
    },
    "hidden": true
   },
   "outputs": [],
   "source": [
    "folding_size = 2\n",
    "ecfp_folded = sc.fold_transform_inputs(ecfp_tocsr, folding_size=folding_size)\n"
   ]
  },
  {
   "cell_type": "code",
   "execution_count": 68,
   "id": "79d13fd3",
   "metadata": {
    "ExecuteTime": {
     "end_time": "2021-10-22T12:58:55.243279Z",
     "start_time": "2021-10-22T12:58:55.238495Z"
    },
    "hidden": true
   },
   "outputs": [
    {
     "name": "stdout",
     "output_type": "stream",
     "text": [
      "<18388x85277 sparse matrix of type '<class 'numpy.float64'>'\n",
      "\twith 1494038 stored elements in Compressed Sparse Row format>\n",
      "<18388x2 sparse matrix of type '<class 'numpy.float64'>'\n",
      "\twith 36776 stored elements in Compressed Sparse Row format>\n"
     ]
    }
   ],
   "source": [
    "print(repr(ecfp_tocsr))\n",
    "print(repr(ecfp_folded))"
   ]
  },
  {
   "cell_type": "code",
   "execution_count": 69,
   "id": "72c84ebf",
   "metadata": {
    "ExecuteTime": {
     "end_time": "2021-10-22T12:58:55.360153Z",
     "start_time": "2021-10-22T12:58:55.245869Z"
    },
    "hidden": true
   },
   "outputs": [
    {
     "name": "stdout",
     "output_type": "stream",
     "text": [
      "\n",
      " [    0     0     0 ... 18387 18387 18387] (1494038,) \n",
      " [   10    13    21 ... 84737 84738 84741] (1494038,)\n",
      "[10 13 21 ... 57 58 61] 1494038\n",
      "<18388x73 sparse matrix of type '<class 'numpy.float64'>'\n",
      "\twith 899350 stored elements in Compressed Sparse Row format>\n",
      "<18388x73 sparse matrix of type '<class 'numpy.float64'>'\n",
      "\twith 899350 stored elements in Compressed Sparse Row format>\n"
     ]
    }
   ],
   "source": [
    "folding_size = 73\n",
    "idx = ecfp_tocsr.nonzero()\n",
    "print('\\n', idx[0], idx[0].shape,'\\n', idx[1], idx[1].shape)\n",
    "\n",
    "folded = idx[1] % folding_size\n",
    "print(folded, len(folded))\n",
    "x = scipy.sparse.csr_matrix((ecfp_tocsr.data, (idx[0], folded)), shape=(ecfp_tocsr.shape[0], folding_size))\n",
    "print(repr(x))\n",
    "\n",
    "## Eliminate dups by adding them together.\n",
    "x.sum_duplicates()\n",
    "print(repr(x))"
   ]
  },
  {
   "cell_type": "code",
   "execution_count": 70,
   "id": "c12c41e2",
   "metadata": {
    "ExecuteTime": {
     "end_time": "2021-10-22T12:58:55.367377Z",
     "start_time": "2021-10-22T12:58:55.363557Z"
    },
    "hidden": true
   },
   "outputs": [],
   "source": [
    "# print(x)"
   ]
  },
  {
   "cell_type": "markdown",
   "id": "ab8b6adb",
   "metadata": {},
   "source": [
    "## Training Setup"
   ]
  },
  {
   "cell_type": "code",
   "execution_count": 6,
   "id": "ec41f1f8",
   "metadata": {
    "ExecuteTime": {
     "end_time": "2022-01-03T23:55:51.641677Z",
     "start_time": "2022-01-03T23:55:51.471988Z"
    }
   },
   "outputs": [
    {
     "ename": "ImportError",
     "evalue": "cannot import name 'vprint' from 'sparsechem.utils' (/home/kbardool/kusanagi/SparseChemDev/examples/chembl/../../sparsechem/utils.py)",
     "output_type": "error",
     "traceback": [
      "\u001b[0;31m---------------------------------------------------------------------------\u001b[0m",
      "\u001b[0;31mImportError\u001b[0m                               Traceback (most recent call last)",
      "\u001b[0;32m/tmp/ipykernel_5421/1751772259.py\u001b[0m in \u001b[0;36m<module>\u001b[0;34m\u001b[0m\n\u001b[0;32m----> 1\u001b[0;31m \u001b[0;32mfrom\u001b[0m \u001b[0msparsechem\u001b[0m\u001b[0;34m.\u001b[0m\u001b[0mutils\u001b[0m \u001b[0;32mimport\u001b[0m \u001b[0mtraining_arguments\u001b[0m\u001b[0;34m,\u001b[0m \u001b[0mvprint\u001b[0m\u001b[0;34m\u001b[0m\u001b[0;34m\u001b[0m\u001b[0m\n\u001b[0m\u001b[1;32m      2\u001b[0m \u001b[0;31m# %load_ext autoreload\u001b[0m\u001b[0;34m\u001b[0m\u001b[0;34m\u001b[0m\u001b[0;34m\u001b[0m\u001b[0m\n\u001b[1;32m      3\u001b[0m \u001b[0;31m# %autoreload 2\u001b[0m\u001b[0;34m\u001b[0m\u001b[0;34m\u001b[0m\u001b[0;34m\u001b[0m\u001b[0m\n\u001b[1;32m      4\u001b[0m \u001b[0;31m# import sparsechem as sc\u001b[0m\u001b[0;34m\u001b[0m\u001b[0;34m\u001b[0m\u001b[0;34m\u001b[0m\u001b[0m\n",
      "\u001b[0;31mImportError\u001b[0m: cannot import name 'vprint' from 'sparsechem.utils' (/home/kbardool/kusanagi/SparseChemDev/examples/chembl/../../sparsechem/utils.py)"
     ]
    }
   ],
   "source": [
    "from sparsechem.utils import training_arguments, vprint\n",
    "# %load_ext autoreload\n",
    "# %autoreload 2\n",
    "# import sparsechem as sc"
   ]
  },
  {
   "cell_type": "code",
   "execution_count": null,
   "id": "51df64e1",
   "metadata": {
    "ExecuteTime": {
     "end_time": "2022-01-03T23:55:54.455093Z",
     "start_time": "2022-01-03T23:55:54.427473Z"
    }
   },
   "outputs": [],
   "source": [
    "parser = training_arguments()\n",
    "\n",
    "dev = \"cpu\" \n",
    "data_dir=\"test_chembl23\"\n",
    "rm_output=False\n",
    "rstr = random_str(12)\n",
    "output_dir = f\"./{data_dir}/models-{rstr}/\""
   ]
  },
  {
   "cell_type": "code",
   "execution_count": 7,
   "id": "03f25d37",
   "metadata": {
    "ExecuteTime": {
     "end_time": "2022-01-03T23:55:54.455093Z",
     "start_time": "2022-01-03T23:55:54.427473Z"
    }
   },
   "outputs": [],
   "source": [
    "cmd = (\n",
    "        f\" --x ./{data_dir}/chembl_23mini_x.npy\" +\n",
    "        f\" --y_class ./{data_dir}/chembl_23mini_y.npy\" +\n",
    "        f\" --folding ./{data_dir}/chembl_23mini_folds.npy\" +\n",
    "        f\" --batch_ratio 0.1\" +\n",
    "        f\" --output_dir {output_dir}\" +\n",
    "        f\" --hidden_sizes 20 30 40 \" +\n",
    "        f\" --epochs 2\" +\n",
    "        f\" --lr 1e-3\" +\n",
    "        f\" --lr_steps 1\" +\n",
    "        f\" --dev {dev}\" +\n",
    "        f\" --verbose 1\"\n",
    "#         f\" --input_size_freq  40\"\n",
    "#         f\" --tail_hidden_size  10\"\n",
    ")\n",
    "\n",
    "args = parser.parse_args(cmd.split())\n",
    "\n",
    "def vprint(s=\"\"):\n",
    "    if args.verbose:\n",
    "        print(s)\n",
    "# vprint(f\"\\nArgs : \\n--------------\")"
   ]
  },
  {
   "cell_type": "code",
   "execution_count": 124,
   "id": "03fabf4a",
   "metadata": {
    "ExecuteTime": {
     "end_time": "2021-11-04T13:43:45.323965Z",
     "start_time": "2021-11-04T13:43:45.290066Z"
    }
   },
   "outputs": [
    {
     "name": "stdout",
     "output_type": "stream",
     "text": [
      "\n",
      "   Arguments passed :\n",
      "   --------------------\n",
      "   batch_ratio                    0.1\n",
      "   censored_loss                  1\n",
      "   dev                            cpu\n",
      "   epochs                         2\n",
      "   eval_frequency                 1\n",
      "   eval_train                     0\n",
      "   fold_inputs                    None\n",
      "   fold_te                        None\n",
      "   fold_va                        0\n",
      "   folding                        ./test_chembl23/chembl_23mini_folds.npy\n",
      "   hidden_sizes                   [20, 30, 40]\n",
      "   input_size_freq                None\n",
      "   input_transform                none\n",
      "   internal_batch_max             None\n",
      "   last_dropout                   0.2\n",
      "   last_non_linearity             relu\n",
      "   lr                             0.001\n",
      "   lr_alpha                       0.3\n",
      "   lr_steps                       [1]\n",
      "   middle_dropout                 0.0\n",
      "   middle_non_linearity           relu\n",
      "   min_samples_auc                None\n",
      "   min_samples_class              5\n",
      "   min_samples_regr               10\n",
      "   normalize_loss                 None\n",
      "   output_dir                     ./test_chembl23/models-wiwiylsqzbfw/\n",
      "   prefix                         run\n",
      "   run_name                       None\n",
      "   save_board                     1\n",
      "   save_model                     1\n",
      "   verbose                        1\n",
      "   weight_decay                   0.0\n",
      "   weights_class                  None\n",
      "   weights_regr                   None\n",
      "   x                              ./test_chembl23/chembl_23mini_x.npy\n",
      "   y_censor                       None\n",
      "   y_class                        ./test_chembl23/chembl_23mini_y.npy\n",
      "   y_regr                         None\n",
      "\n",
      "\n"
     ]
    }
   ],
   "source": [
    "display_input_parms(args)"
   ]
  },
  {
   "cell_type": "code",
   "execution_count": 62,
   "id": "7e1f6eaf",
   "metadata": {
    "ExecuteTime": {
     "end_time": "2021-11-04T12:53:23.858037Z",
     "start_time": "2021-11-04T12:53:23.819951Z"
    }
   },
   "outputs": [
    {
     "name": "stdout",
     "output_type": "stream",
     "text": [
      "\n",
      "Run name is 'sc_run_h20.20_ldo0.2_wd0.0_lr0.001_lrsteps1_ep2_fva0_fteNone'.\n"
     ]
    }
   ],
   "source": [
    "##\n",
    "## Generate runname if one wasn't provided in input args \n",
    "##\n",
    "if args.run_name is not None:\n",
    "    name = args.run_name\n",
    "else:\n",
    "    name  = f\"sc_{args.prefix}_h{'.'.join([str(h) for h in args.hidden_sizes])}_ldo{args.last_dropout:.1f}_wd{args.weight_decay}\"\n",
    "    name += f\"_lr{args.lr}_lrsteps{'.'.join([str(s) for s in args.lr_steps])}_ep{args.epochs}\"\n",
    "    name += f\"_fva{args.fold_va}_fte{args.fold_te}\"\n",
    "print(f\"\\nRun name is '{name}'.\")"
   ]
  },
  {
   "cell_type": "markdown",
   "id": "ceb93a30",
   "metadata": {
    "ExecuteTime": {
     "end_time": "2021-10-22T13:00:51.447888Z",
     "start_time": "2021-10-22T13:00:51.440245Z"
    },
    "heading_collapsed": true
   },
   "source": [
    "#### if args.save_board, Setup tensorboard writer"
   ]
  },
  {
   "cell_type": "code",
   "execution_count": 26,
   "id": "32c74271",
   "metadata": {
    "ExecuteTime": {
     "end_time": "2021-11-04T11:21:52.412683Z",
     "start_time": "2021-11-04T11:21:52.379948Z"
    },
    "hidden": true
   },
   "outputs": [
    {
     "name": "stdout",
     "output_type": "stream",
     "text": [
      "\n",
      "args.save_board is '1' - will be written to ./test_chembl23/models-zqwhrybwrbxo/boards/sc_run_h20.20_ldo0.2_wd0.0_lr0.001_lrsteps1_ep2_fva0_fteNone.\n"
     ]
    },
    {
     "ename": "AssertionError",
     "evalue": "Using tail compression not yet supported.",
     "output_type": "error",
     "traceback": [
      "\u001b[0;31m---------------------------------------------------------------------------\u001b[0m",
      "\u001b[0;31mAssertionError\u001b[0m                            Traceback (most recent call last)",
      "\u001b[0;32m<ipython-input-26-d6d0945991e8>\u001b[0m in \u001b[0;36m<module>\u001b[0;34m\u001b[0m\n\u001b[1;32m      6\u001b[0m     \u001b[0mwriter\u001b[0m \u001b[0;34m=\u001b[0m \u001b[0mNothing\u001b[0m\u001b[0;34m(\u001b[0m\u001b[0;34m)\u001b[0m\u001b[0;34m\u001b[0m\u001b[0;34m\u001b[0m\u001b[0m\n\u001b[1;32m      7\u001b[0m \u001b[0;34m\u001b[0m\u001b[0m\n\u001b[0;32m----> 8\u001b[0;31m \u001b[0;32massert\u001b[0m \u001b[0margs\u001b[0m\u001b[0;34m.\u001b[0m\u001b[0minput_size_freq\u001b[0m \u001b[0;32mis\u001b[0m \u001b[0;32mNone\u001b[0m\u001b[0;34m,\u001b[0m \u001b[0;34m\"Using tail compression not yet supported.\"\u001b[0m\u001b[0;34m\u001b[0m\u001b[0;34m\u001b[0m\u001b[0m\n\u001b[0m",
      "\u001b[0;31mAssertionError\u001b[0m: Using tail compression not yet supported."
     ]
    }
   ],
   "source": [
    "if args.save_board:\n",
    "    tb_name = os.path.join(args.output_dir, \"boards\", name)\n",
    "    print(f\"\\nargs.save_board is '{args.save_board}' - will be written to {tb_name}.\")\n",
    "    writer  = SummaryWriter(tb_name)\n",
    "else:\n",
    "    writer = Nothing()\n",
    "\n",
    "assert args.input_size_freq is None, \"Using tail compression not yet supported.\""
   ]
  },
  {
   "cell_type": "markdown",
   "id": "590877fd",
   "metadata": {
    "ExecuteTime": {
     "end_time": "2021-10-22T13:00:51.447888Z",
     "start_time": "2021-10-22T13:00:51.440245Z"
    },
    "heading_collapsed": true
   },
   "source": [
    "#### load datasets   "
   ]
  },
  {
   "cell_type": "code",
   "execution_count": 63,
   "id": "005523f8",
   "metadata": {
    "ExecuteTime": {
     "end_time": "2021-11-04T12:53:52.421015Z",
     "start_time": "2021-11-04T12:53:52.380993Z"
    },
    "hidden": true
   },
   "outputs": [
    {
     "name": "stdout",
     "output_type": "stream",
     "text": [
      "ecfp shape                   : (18388, 85277)\n",
      "y_class shape                : (18388, 100)\n",
      "Created y_regr shape         : (18388, 0)\n",
      "Created y_censor shape       : (18388, 0)\n",
      "folding shape                : (18388,)\n",
      "\n",
      "x shape              : (18388, 85277)\n",
      "y_class shape        : (18388, 100)\n",
      "y_regr shape         : (18388, 0)\n",
      "y_censor shape       : (18388, 0)\n"
     ]
    }
   ],
   "source": [
    "## Verify presence of Y label data\n",
    "if (args.y_class is None) and (args.y_regr is None):\n",
    "    raise ValueError(\"No label data specified, please add --y_class and/or --y_regr.\")\n",
    "\n",
    "##\n",
    "\n",
    "\n",
    "\n",
    "ecfp     = sc.load_sparse(args.x)\n",
    "y_class  = sc.load_sparse(args.y_class)\n",
    "y_regr   = sc.load_sparse(args.y_regr)\n",
    "y_censor = sc.load_sparse(args.y_censor)\n",
    " \n",
    "vprint(f\"ecfp shape                   : {ecfp.shape}\")\n",
    "vprint(f\"y_class shape                : {y_class.shape}\")\n",
    "\n",
    "if (y_regr is not None):\n",
    "    vprint(f\"y_regr shape         : {y_regr.shape}\")\n",
    "\n",
    "if (y_censor is not None):\n",
    "    vprint(f\"y_censor shape       : {y_censor.shape}\")\n",
    "\n",
    "if (y_regr is None) and (y_censor is not None):\n",
    "    raise ValueError(\"y_censor provided please also provide --y_regr.\")\n",
    "\n",
    "if y_class is None:\n",
    "    y_class = scipy.sparse.csr_matrix((ecfp.shape[0], 0))\n",
    "    vprint(f\"Created y_class shape        : {y_class.shape}\")\n",
    "\n",
    "if y_regr is None:\n",
    "    y_regr  = scipy.sparse.csr_matrix((ecfp.shape[0], 0))\n",
    "    vprint(f\"Created y_regr shape         : {y_regr.shape}\")\n",
    "\n",
    "if y_censor is None:\n",
    "    y_censor = scipy.sparse.csr_matrix(y_regr.shape)\n",
    "    vprint(f\"Created y_censor shape       : {y_censor.shape}\")\n",
    "    \n",
    "folding = np.load(args.folding)\n",
    "assert ecfp.shape[0] == folding.shape[0], \"x and folding must have same number of rows\"\n",
    "vprint(f\"folding shape                : {folding.shape}\")\n",
    "\n",
    "\n",
    "vprint() \n",
    "vprint(f\"x shape              : {ecfp.shape}\")\n",
    "vprint(f\"y_class shape        : {y_class.shape}\")\n",
    "vprint(f\"y_regr shape         : {y_regr.shape}\")\n",
    "vprint(f\"y_censor shape       : {y_censor.shape}\")"
   ]
  },
  {
   "cell_type": "markdown",
   "id": "f3f17847",
   "metadata": {
    "heading_collapsed": true
   },
   "source": [
    "#### Loading task weights"
   ]
  },
  {
   "cell_type": "code",
   "execution_count": 64,
   "id": "73b51a0b",
   "metadata": {
    "ExecuteTime": {
     "end_time": "2021-11-04T12:53:58.265600Z",
     "start_time": "2021-11-04T12:53:58.245877Z"
    },
    "hidden": true
   },
   "outputs": [
    {
     "data": {
      "text/plain": [
       "scipy.sparse.csr.csr_matrix"
      ]
     },
     "execution_count": 64,
     "metadata": {},
     "output_type": "execute_result"
    }
   ],
   "source": [
    "type(y_class)"
   ]
  },
  {
   "cell_type": "code",
   "execution_count": 65,
   "id": "f016d4a9",
   "metadata": {
    "ExecuteTime": {
     "end_time": "2021-11-04T12:53:59.641017Z",
     "start_time": "2021-11-04T12:53:59.610451Z"
    },
    "hidden": true
   },
   "outputs": [
    {
     "name": "stdout",
     "output_type": "stream",
     "text": [
      " load_task_weights - filename: None label: y_class\n",
      " load_task_weights - no weights file provided, training_weights for all classes set to 1\n",
      " load_task_weights - filename: None label: y_regr\n",
      " load_task_weights - no weights file provided, training_weights for all classes set to 1\n",
      "tasks_class torch.Size([100]): \n",
      "namespace(aggregation_weight=None, censored_weight=tensor([]), task_type=None, training_weight=tensor([1., 1., 1., 1., 1., 1., 1., 1., 1., 1., 1., 1., 1., 1., 1., 1., 1., 1.,\n",
      "        1., 1., 1., 1., 1., 1., 1., 1., 1., 1., 1., 1., 1., 1., 1., 1., 1., 1.,\n",
      "        1., 1., 1., 1., 1., 1., 1., 1., 1., 1., 1., 1., 1., 1., 1., 1., 1., 1.,\n",
      "        1., 1., 1., 1., 1., 1., 1., 1., 1., 1., 1., 1., 1., 1., 1., 1., 1., 1.,\n",
      "        1., 1., 1., 1., 1., 1., 1., 1., 1., 1., 1., 1., 1., 1., 1., 1., 1., 1.,\n",
      "        1., 1., 1., 1., 1., 1., 1., 1., 1., 1.])) \n",
      "\n",
      "tasks_regr  torch.Size([0]): \n",
      "namespace(aggregation_weight=None, censored_weight=tensor([]), task_type=None, training_weight=tensor([]))  \n",
      "\n"
     ]
    }
   ],
   "source": [
    "tasks_class = sc.load_task_weights(args.weights_class, y=y_class, label=\"y_class\")\n",
    "tasks_regr  = sc.load_task_weights(args.weights_regr , y=y_regr, label=\"y_regr\")\n",
    "\n",
    "vprint(f\"tasks_class {tasks_class.training_weight.shape}: \\n{tasks_class} \\n\")\n",
    "vprint(f\"tasks_regr  {tasks_regr.training_weight.shape}: \\n{tasks_regr}  \\n\")"
   ]
  },
  {
   "cell_type": "markdown",
   "id": "09d46ea9",
   "metadata": {
    "heading_collapsed": true
   },
   "source": [
    "#### Input folding & transformation"
   ]
  },
  {
   "cell_type": "code",
   "execution_count": 66,
   "id": "b8ac6061",
   "metadata": {
    "ExecuteTime": {
     "end_time": "2021-11-04T12:54:00.340262Z",
     "start_time": "2021-11-04T12:54:00.319783Z"
    },
    "hidden": true
   },
   "outputs": [
    {
     "name": "stdout",
     "output_type": "stream",
     "text": [
      "args.fold_inputs : None \t\t  transform: none\n",
      "\n",
      "<18388x85277 sparse matrix of type '<class 'numpy.float64'>'\n",
      "\twith 1494038 stored elements in Compressed Sparse Row format>\n",
      "<18388x85277 sparse matrix of type '<class 'numpy.float64'>'\n",
      "\twith 1494038 stored elements in Compressed Sparse Row format>\n"
     ]
    }
   ],
   "source": [
    "print(f\"args.fold_inputs : {args.fold_inputs} \\t\\t  transform: {args.input_transform}\\n\")\n",
    "print(repr(ecfp))\n",
    "ecfp = sc.fold_transform_inputs(ecfp, folding_size=args.fold_inputs, transform=args.input_transform)##\n",
    "print(repr(ecfp))"
   ]
  },
  {
   "cell_type": "markdown",
   "id": "9b511a22",
   "metadata": {
    "heading_collapsed": true
   },
   "source": [
    "#### Get number of positive / neg and total for each classes"
   ]
  },
  {
   "cell_type": "code",
   "execution_count": 67,
   "id": "bbf681f2",
   "metadata": {
    "ExecuteTime": {
     "end_time": "2021-11-04T12:54:01.025030Z",
     "start_time": "2021-11-04T12:54:01.001615Z"
    },
    "hidden": true
   },
   "outputs": [
    {
     "name": "stdout",
     "output_type": "stream",
     "text": [
      "[]\n"
     ]
    }
   ],
   "source": [
    "num_pos    = np.array((y_class == +1).sum(0)).flatten()\n",
    "num_neg    = np.array((y_class == -1).sum(0)).flatten()\n",
    "num_class  = np.array((y_class != 0).sum(0)).flatten()\n",
    "if (num_class != num_pos + num_neg).any():\n",
    "    raise ValueError(\"For classification all y values (--y_class/--y) must be 1 or -1.\")\n",
    "\n",
    "num_regr   = np.bincount(y_regr.indices, minlength=y_regr.shape[1])\n",
    "\n",
    "print(num_regr)"
   ]
  },
  {
   "cell_type": "code",
   "execution_count": 68,
   "id": "786aaa03",
   "metadata": {
    "ExecuteTime": {
     "end_time": "2021-11-04T12:54:01.354860Z",
     "start_time": "2021-11-04T12:54:01.335094Z"
    },
    "hidden": true
   },
   "outputs": [
    {
     "name": "stdout",
     "output_type": "stream",
     "text": [
      "None\n",
      "[4 0 0 ... 3 0 2]\n"
     ]
    }
   ],
   "source": [
    "print(tasks_class.aggregation_weight)\n",
    "print(folding)"
   ]
  },
  {
   "cell_type": "code",
   "execution_count": 69,
   "id": "c3b48e49",
   "metadata": {
    "ExecuteTime": {
     "end_time": "2021-11-04T12:54:01.634722Z",
     "start_time": "2021-11-04T12:54:01.609590Z"
    },
    "hidden": true
   },
   "outputs": [],
   "source": [
    "if tasks_class.aggregation_weight is None:\n",
    "    '''\n",
    "    fold classes \n",
    "    '''\n",
    "    ## using min_samples rule\n",
    "    fold_pos, fold_neg = sc.class_fold_counts(y_class, folding)\n",
    "    n = args.min_samples_class\n",
    "    tasks_class.aggregation_weight = ((fold_pos >= n).all(0) & (fold_neg >= n)).all(0).astype(np.float64)"
   ]
  },
  {
   "cell_type": "code",
   "execution_count": 70,
   "id": "08ad3002",
   "metadata": {
    "ExecuteTime": {
     "end_time": "2021-11-04T12:54:01.914257Z",
     "start_time": "2021-11-04T12:54:01.895452Z"
    },
    "hidden": true
   },
   "outputs": [
    {
     "data": {
      "text/plain": [
       "(100,)"
      ]
     },
     "execution_count": 70,
     "metadata": {},
     "output_type": "execute_result"
    }
   ],
   "source": [
    "tasks_class.aggregation_weight.shape"
   ]
  },
  {
   "cell_type": "code",
   "execution_count": 71,
   "id": "a79413f0",
   "metadata": {
    "ExecuteTime": {
     "end_time": "2021-11-04T12:54:02.286896Z",
     "start_time": "2021-11-04T12:54:02.251192Z"
    },
    "hidden": true
   },
   "outputs": [
    {
     "name": "stdout",
     "output_type": "stream",
     "text": [
      "proceed\n"
     ]
    }
   ],
   "source": [
    "if tasks_regr.aggregation_weight is None:\n",
    "    print(\"proceed\")\n",
    "    if y_censor.nnz == 0:\n",
    "        y_regr2 = y_regr.copy()\n",
    "        y_regr2.data[:] = 1\n",
    "    else:\n",
    "        ## only counting uncensored data\n",
    "        y_regr2      = y_censor.copy()\n",
    "        y_regr2.data = (y_regr2.data == 0).astype(np.int32)\n",
    "  \n",
    "    fold_regr, _ = sc.class_fold_counts(y_regr2, folding)\n",
    "    del y_regr2\n",
    "    tasks_regr.aggregation_weight = (fold_regr >= args.min_samples_regr).all(0).astype(np.float64)"
   ]
  },
  {
   "cell_type": "code",
   "execution_count": 72,
   "id": "7a5d1dfc",
   "metadata": {
    "ExecuteTime": {
     "end_time": "2021-11-04T12:54:02.615881Z",
     "start_time": "2021-11-04T12:54:02.580239Z"
    },
    "hidden": true
   },
   "outputs": [
    {
     "name": "stdout",
     "output_type": "stream",
     "text": [
      "Input dimension      : 85277\n",
      "#samples             : 18388\n",
      "#classification tasks: 100\n",
      "#regression tasks    : 0\n",
      "Using 6 classification tasks for calculating aggregated metrics (AUCROC, F1_max, etc).\n",
      "Using 0 regression tasks for calculating metrics (RMSE, Rsquared, correlation).\n",
      "args.fold_te         : None\n"
     ]
    }
   ],
   "source": [
    "vprint(f\"Input dimension      : {ecfp.shape[1]}\")\n",
    "vprint(f\"#samples             : {ecfp.shape[0]}\")\n",
    "vprint(f\"#classification tasks: {y_class.shape[1]}\")\n",
    "vprint(f\"#regression tasks    : {y_regr.shape[1]}\")\n",
    "vprint(f\"Using {(tasks_class.aggregation_weight > 0).sum()} classification tasks for calculating aggregated metrics (AUCROC, F1_max, etc).\")\n",
    "vprint(f\"Using {(tasks_regr.aggregation_weight > 0).sum()} regression tasks for calculating metrics (RMSE, Rsquared, correlation).\")\n",
    "vprint(f\"args.fold_te         : {args.fold_te}\")"
   ]
  },
  {
   "cell_type": "code",
   "execution_count": 73,
   "id": "0feb11e3",
   "metadata": {
    "ExecuteTime": {
     "end_time": "2021-11-04T12:54:03.390243Z",
     "start_time": "2021-11-04T12:54:03.371787Z"
    },
    "hidden": true
   },
   "outputs": [
    {
     "name": "stdout",
     "output_type": "stream",
     "text": [
      "args.fold_te is None\n"
     ]
    }
   ],
   "source": [
    "if args.fold_te is not None and args.fold_te >= 0:\n",
    "    ## removing test data\n",
    "    assert args.fold_te != args.fold_va, \"fold_va and fold_te must not be equal.\"\n",
    "    keep    = folding != args.fold_te\n",
    "    ecfp    = ecfp[keep]\n",
    "    y_class = y_class[keep]\n",
    "    y_regr  = y_regr[keep]\n",
    "    y_censor= y_censor[keep]\n",
    "    folding = folding[keep]\n",
    "else:\n",
    "    print(\"args.fold_te is None\")"
   ]
  },
  {
   "cell_type": "markdown",
   "id": "3baa73a5",
   "metadata": {
    "heading_collapsed": true
   },
   "source": [
    "#### Identify training and validation data\n",
    "\n",
    "Validation data is selected from the folding group which is equal to fold_va."
   ]
  },
  {
   "cell_type": "code",
   "execution_count": 74,
   "id": "b9cbe8c6",
   "metadata": {
    "ExecuteTime": {
     "end_time": "2021-11-04T12:54:07.590465Z",
     "start_time": "2021-11-04T12:54:07.570204Z"
    },
    "hidden": true
   },
   "outputs": [
    {
     "name": "stdout",
     "output_type": "stream",
     "text": [
      "(18388,)\n",
      "[4 0 0 3 1 2 4 0 1 0 4 2 4 3 0 0 2 4 0 4 2 1 3 3 3 3 3 3 3 3 3 4 4 4 4 0 0\n",
      " 1 1 1 1 4 4 4 4 4 4 4 4 0 0 0 0 0 0 0 1 4 4 4 4 4 4 4 4 4 4 0 0 0 0 3 3 3\n",
      " 3 4 4 4 4 4 4 4 2 2 2 3 3 4 4 2 4 4 4 2 2 2 2 2 2 4]\n"
     ]
    }
   ],
   "source": [
    "print(folding.shape)\n",
    "print(folding[:100])"
   ]
  },
  {
   "cell_type": "code",
   "execution_count": 75,
   "id": "b254714e",
   "metadata": {
    "ExecuteTime": {
     "end_time": "2021-11-04T12:54:08.678366Z",
     "start_time": "2021-11-04T12:54:08.657921Z"
    },
    "hidden": true
   },
   "outputs": [
    {
     "name": "stdout",
     "output_type": "stream",
     "text": [
      "fold_va        : 0\n",
      "idx_tr         : [    0     3     4 ... 18384 18385 18387]    Length: 14633\n",
      "idx_va         : [    1     2     7 ... 18377 18380 18386]    Length: 3755\n"
     ]
    }
   ],
   "source": [
    "fold_va = args.fold_va\n",
    "\n",
    "idx_tr  = np.where(folding != fold_va)[0]\n",
    "idx_va  = np.where(folding == fold_va)[0]\n",
    "\n",
    "vprint(f\"fold_va        : {fold_va}\")\n",
    "vprint(f\"idx_tr         : {idx_tr}    Length: {len(idx_tr)}\")\n",
    "vprint(f\"idx_va         : {idx_va}    Length: {len(idx_va)}\")"
   ]
  },
  {
   "cell_type": "code",
   "execution_count": 76,
   "id": "b439a998",
   "metadata": {
    "ExecuteTime": {
     "end_time": "2021-11-04T12:54:09.499381Z",
     "start_time": "2021-11-04T12:54:09.475800Z"
    },
    "hidden": true
   },
   "outputs": [
    {
     "name": "stdout",
     "output_type": "stream",
     "text": [
      "(14633, 100)\n",
      "(14633, 0)\n",
      "(14633, 0)\n",
      "(3755, 100)\n",
      "(3755, 0)\n",
      "(3755, 0)\n"
     ]
    }
   ],
   "source": [
    "y_class_tr = y_class[idx_tr]\n",
    "y_class_va = y_class[idx_va]\n",
    "y_regr_tr  = y_regr[idx_tr]\n",
    "y_regr_va  = y_regr[idx_va]\n",
    "y_censor_tr = y_censor[idx_tr]\n",
    "y_censor_va = y_censor[idx_va]\n",
    "\n",
    "print(y_class_tr.shape)\n",
    "print(y_regr_tr.shape)\n",
    "print(y_censor_tr.shape)\n",
    "print(y_class_va.shape)\n",
    "print(y_regr_va.shape)\n",
    "print(y_censor_va.shape)"
   ]
  },
  {
   "cell_type": "code",
   "execution_count": 77,
   "id": "4b759f9e",
   "metadata": {
    "ExecuteTime": {
     "end_time": "2021-11-04T12:54:10.420651Z",
     "start_time": "2021-11-04T12:54:10.390422Z"
    },
    "hidden": true
   },
   "outputs": [
    {
     "name": "stdout",
     "output_type": "stream",
     "text": [
      " num pos va : [115  31  17  54   7  18 203   3  55  76  63   1  42   0  75  36   0   1\n",
      "  43   2   7   7   0   3   0  21   1  37 330  11  86   0   0 142  27  25\n",
      "   4   7 111  12   7  79   0  97 129  15  10   9   9  38 272   1   2   0\n",
      " 285  63 185   1   0   4  19  21  13   0  18  12   0   0  93  55   1  73\n",
      "  29  41  18   0  46  37  14   0  40  18   6   8  10 330   6   4   1   0\n",
      "   0   0   8   0   0   0   3   0   1   0]  sum: 3804\n",
      " num neg va : [17  0  0  0  0  1  3  4  2  2  0  0  0  1  2  0  0  0  0  2  0  0 13  0\n",
      "  0  0  0  0  6  0  0 30  0  0  0  3  3  3  2  0  0  1  1  1 18  0  2  0\n",
      " 85  0  0  2 13 47  1 11  0  0  0  2  0  1  1  1  3  0  0  0  0  0 18  0\n",
      "  9  3  0  4  1  0 23 11  6  0  5  0  0 46  4  4 73  2  0  7  1  0  0  0\n",
      "  0  0  4  0]  sum: 505\n",
      " num regr va: []\n"
     ]
    }
   ],
   "source": [
    "num_pos_va  = np.array((y_class_va == +1).sum(0)).flatten()\n",
    "num_neg_va  = np.array((y_class_va == -1).sum(0)).flatten()\n",
    "num_regr_va = np.bincount(y_regr_va.indices, minlength=y_regr.shape[1])\n",
    "\n",
    "print(f' num pos va : {num_pos_va[:100]}  sum: {num_pos_va.sum()}')\n",
    "print(f' num neg va : {num_neg_va[:100]}  sum: {num_neg_va.sum()}')\n",
    "print(f' num regr va: {num_regr_va}')"
   ]
  },
  {
   "cell_type": "markdown",
   "id": "0e82beab",
   "metadata": {
    "heading_collapsed": true
   },
   "source": [
    "#### Determine Batch Size"
   ]
  },
  {
   "cell_type": "code",
   "execution_count": 78,
   "id": "78947ba4",
   "metadata": {
    "ExecuteTime": {
     "end_time": "2021-11-04T12:54:11.422596Z",
     "start_time": "2021-11-04T12:54:11.399541Z"
    },
    "hidden": true
   },
   "outputs": [
    {
     "name": "stdout",
     "output_type": "stream",
     "text": [
      " internal_batch_max: None\n",
      " batch ratio:  0.1    idx_tr.shape: (14633,)\n",
      " batch ratio * idx_tr.shape[0] : 1463.3000000000002\n",
      " batch size:  1464 \n",
      "\n",
      "\n",
      " batch_size / args.internal_batch_max : 1.464\n",
      " num int_batches: 2\n",
      " batch_size / num_int_batches : 732.0\n",
      " batch_size: 732\n",
      " internal batch size:   732\n"
     ]
    }
   ],
   "source": [
    "batch_size  = int(np.ceil(args.batch_ratio * idx_tr.shape[0]))\n",
    "num_int_batches = 1\n",
    "print(f\" internal_batch_max: {args.internal_batch_max}\")\n",
    "print(f\" batch ratio:  {args.batch_ratio}    idx_tr.shape: {idx_tr.shape}\")\n",
    "print(f\" batch ratio * idx_tr.shape[0] : {(args.batch_ratio * idx_tr.shape[0])}\")\n",
    "print(f\" batch size:  {batch_size} \\n\\n\")\n",
    "\n",
    "args.internal_batch_max = 1000\n",
    "if args.internal_batch_max is not None:\n",
    "    if args.internal_batch_max < batch_size:\n",
    "       \n",
    "        print(f\" batch_size / args.internal_batch_max : {batch_size / args.internal_batch_max}\")\n",
    "        print(f\" num int_batches: {int(np.ceil(batch_size / args.internal_batch_max))}\")\n",
    "        num_int_batches = int(np.ceil(batch_size / args.internal_batch_max)) \n",
    "        \n",
    "        print(f\" batch_size / num_int_batches : {batch_size / num_int_batches}\")\n",
    "        print(f\" batch_size: {int(np.ceil(batch_size / num_int_batches))}\")\n",
    "        batch_size      = int(np.ceil(batch_size / num_int_batches))\n",
    "        \n",
    "\n",
    "vprint(f\" internal batch size:   {batch_size}\")"
   ]
  },
  {
   "cell_type": "markdown",
   "id": "afda337f",
   "metadata": {},
   "source": [
    "## Instantiate Data Loaders\n",
    "\n",
    "the sparsechem data loaders return the data in the form of inidices and data.\n",
    "\n",
    "    x_ind\n",
    "    x_data\n",
    "    yc_ind\n",
    "    yc_data\n",
    "    \n",
    "The X indicies and data are used to create a sparse matrix using `torch.sparse_coo_tensor()` :\n",
    "\n",
    "    X = torch.sparse_coo_tensor(\n",
    "        batch[\"x_ind\"],\n",
    "        batch[\"x_data\"],\n",
    "        size = [batch[\"batch_size\"], loader_tr.dataset.input_size]).to(dev, non_blocking=True) "
   ]
  },
  {
   "cell_type": "code",
   "execution_count": 79,
   "id": "2b86b4e8",
   "metadata": {
    "ExecuteTime": {
     "end_time": "2021-11-04T12:54:12.864715Z",
     "start_time": "2021-11-04T12:54:12.845073Z"
    }
   },
   "outputs": [
    {
     "data": {
      "text/plain": [
       "<18388x85277 sparse matrix of type '<class 'numpy.float64'>'\n",
       "\twith 1494038 stored elements in Compressed Sparse Row format>"
      ]
     },
     "execution_count": 79,
     "metadata": {},
     "output_type": "execute_result"
    }
   ],
   "source": [
    "ecfp"
   ]
  },
  {
   "cell_type": "code",
   "execution_count": 128,
   "id": "9a78db41",
   "metadata": {
    "ExecuteTime": {
     "end_time": "2021-11-04T13:44:25.505506Z",
     "start_time": "2021-11-04T13:44:25.468039Z"
    }
   },
   "outputs": [],
   "source": [
    "dataset_tr = sc.ClassRegrSparseDataset(x=ecfp[idx_tr], y_class=y_class_tr, y_regr=y_regr_tr, y_censor=y_censor_tr)\n",
    "dataset_va = sc.ClassRegrSparseDataset(x=ecfp[idx_va], y_class=y_class_va, y_regr=y_regr_va, y_censor=y_censor_va)"
   ]
  },
  {
   "cell_type": "code",
   "execution_count": 129,
   "id": "8eebb722",
   "metadata": {
    "ExecuteTime": {
     "end_time": "2021-11-04T13:44:26.006047Z",
     "start_time": "2021-11-04T13:44:25.987872Z"
    }
   },
   "outputs": [],
   "source": [
    "loader_tr = DataLoader(dataset_tr, batch_size=batch_size, num_workers = 8, pin_memory=True, collate_fn=dataset_tr.collate, shuffle=True)\n",
    "loader_va = DataLoader(dataset_va, batch_size=batch_size, num_workers = 4, pin_memory=True, collate_fn=dataset_va.collate, shuffle=False)"
   ]
  },
  {
   "cell_type": "code",
   "execution_count": 130,
   "id": "6f110265",
   "metadata": {
    "ExecuteTime": {
     "end_time": "2021-11-04T13:44:26.609586Z",
     "start_time": "2021-11-04T13:44:26.591783Z"
    }
   },
   "outputs": [],
   "source": [
    "args.input_size  = dataset_tr.input_size\n",
    "args.output_size = dataset_tr.output_size\n",
    "args.input_size_freq = None\n",
    "\n",
    "args.class_output_size = dataset_tr.class_output_size\n",
    "args.regr_output_size  = dataset_tr.regr_output_size"
   ]
  },
  {
   "cell_type": "code",
   "execution_count": 131,
   "id": "831dad30",
   "metadata": {
    "ExecuteTime": {
     "end_time": "2021-11-04T13:44:27.192160Z",
     "start_time": "2021-11-04T13:44:27.173329Z"
    }
   },
   "outputs": [
    {
     "name": "stdout",
     "output_type": "stream",
     "text": [
      " input size        : 85277     output size: 100\n",
      " class output size : 100     regr_output_size : 0\n"
     ]
    }
   ],
   "source": [
    "print(f\" input size        : {dataset_tr.input_size}     output size: {dataset_tr.output_size}\")\n",
    "print(f\" class output size : {dataset_tr.class_output_size}     regr_output_size : {dataset_tr.regr_output_size}\")"
   ]
  },
  {
   "cell_type": "code",
   "execution_count": 132,
   "id": "c010c964",
   "metadata": {
    "ExecuteTime": {
     "end_time": "2021-11-04T13:44:32.887260Z",
     "start_time": "2021-11-04T13:44:32.722132Z"
    }
   },
   "outputs": [],
   "source": [
    "batch_enumerator  = enumerate(loader_tr)"
   ]
  },
  {
   "cell_type": "code",
   "execution_count": 133,
   "id": "644d9a05",
   "metadata": {
    "ExecuteTime": {
     "end_time": "2021-11-04T13:44:33.264528Z",
     "start_time": "2021-11-04T13:44:33.220522Z"
    }
   },
   "outputs": [
    {
     "name": "stdout",
     "output_type": "stream",
     "text": [
      "0\n"
     ]
    }
   ],
   "source": [
    "batch_idx, batch = next(batch_enumerator)\n",
    "\n",
    "print(batch_idx)"
   ]
  },
  {
   "cell_type": "code",
   "execution_count": 134,
   "id": "1cfef70d",
   "metadata": {
    "ExecuteTime": {
     "end_time": "2021-11-04T13:44:33.965933Z",
     "start_time": "2021-11-04T13:44:33.940409Z"
    }
   },
   "outputs": [
    {
     "name": "stdout",
     "output_type": "stream",
     "text": [
      "x_ind <class 'torch.Tensor'>  sparse tensor:  False torch.Size([2, 60175])\n",
      "x_data <class 'torch.Tensor'>  sparse tensor:  False torch.Size([60175])\n",
      "yc_ind <class 'torch.Tensor'>  sparse tensor:  False torch.Size([2, 857])\n",
      "yc_data <class 'torch.Tensor'>  sparse tensor:  False torch.Size([857])\n",
      "batch_size 732\n"
     ]
    }
   ],
   "source": [
    "for i in batch.keys():\n",
    "    if batch[i] is None:\n",
    "        continue\n",
    "    if type(batch[i]) is int:\n",
    "        print(i , batch[i])\n",
    "    else:\n",
    "        print(i,  type(batch[i]), ' sparse tensor: ', batch[i].is_sparse, batch[i].shape)"
   ]
  },
  {
   "cell_type": "code",
   "execution_count": 135,
   "id": "feafb1c3",
   "metadata": {
    "ExecuteTime": {
     "end_time": "2021-11-04T13:44:41.568726Z",
     "start_time": "2021-11-04T13:44:41.550593Z"
    }
   },
   "outputs": [
    {
     "name": "stdout",
     "output_type": "stream",
     "text": [
      "85277 100\n"
     ]
    }
   ],
   "source": [
    "print(loader_tr.dataset.input_size, loader_tr.dataset.output_size)"
   ]
  },
  {
   "cell_type": "code",
   "execution_count": 136,
   "id": "3b156b2e",
   "metadata": {
    "ExecuteTime": {
     "end_time": "2021-11-04T13:44:42.075413Z",
     "start_time": "2021-11-04T13:44:42.049337Z"
    }
   },
   "outputs": [
    {
     "data": {
      "text/plain": [
       "(torch.Size([732, 85277]), torch.Size([732, 100]))"
      ]
     },
     "execution_count": 136,
     "metadata": {},
     "output_type": "execute_result"
    }
   ],
   "source": [
    "X = torch.sparse_coo_tensor(\n",
    "        batch[\"x_ind\"],\n",
    "        batch[\"x_data\"],\n",
    "        size = [batch[\"batch_size\"], loader_tr.dataset.input_size]).to(dev, non_blocking=True)        \n",
    "\n",
    "Y = torch.sparse_coo_tensor(\n",
    "        batch[\"yc_ind\"],\n",
    "        batch[\"yc_data\"],\n",
    "        size = [batch[\"batch_size\"], loader_tr.dataset.output_size]).to(dev, non_blocking=True)    \n",
    "\n",
    "X.shape, Y.shape"
   ]
  },
  {
   "cell_type": "markdown",
   "id": "ed7b7cad",
   "metadata": {},
   "source": [
    "## Model Definition"
   ]
  },
  {
   "cell_type": "markdown",
   "id": "147b8deb",
   "metadata": {},
   "source": [
    "### Instantiate Model"
   ]
  },
  {
   "cell_type": "code",
   "execution_count": 125,
   "id": "50411b46",
   "metadata": {
    "ExecuteTime": {
     "end_time": "2021-11-04T13:43:51.395401Z",
     "start_time": "2021-11-04T13:43:51.367936Z"
    }
   },
   "outputs": [
    {
     "name": "stdout",
     "output_type": "stream",
     "text": [
      "\n",
      "   Arguments passed :\n",
      "   --------------------\n",
      "   batch_ratio                    0.1\n",
      "   censored_loss                  1\n",
      "   dev                            cpu\n",
      "   epochs                         2\n",
      "   eval_frequency                 1\n",
      "   eval_train                     0\n",
      "   fold_inputs                    None\n",
      "   fold_te                        None\n",
      "   fold_va                        0\n",
      "   folding                        ./test_chembl23/chembl_23mini_folds.npy\n",
      "   hidden_sizes                   [20, 30, 40]\n",
      "   input_size_freq                None\n",
      "   input_transform                none\n",
      "   internal_batch_max             None\n",
      "   last_dropout                   0.2\n",
      "   last_non_linearity             relu\n",
      "   lr                             0.001\n",
      "   lr_alpha                       0.3\n",
      "   lr_steps                       [1]\n",
      "   middle_dropout                 0.0\n",
      "   middle_non_linearity           relu\n",
      "   min_samples_auc                None\n",
      "   min_samples_class              5\n",
      "   min_samples_regr               10\n",
      "   normalize_loss                 None\n",
      "   output_dir                     ./test_chembl23/models-wiwiylsqzbfw/\n",
      "   prefix                         run\n",
      "   run_name                       None\n",
      "   save_board                     1\n",
      "   save_model                     1\n",
      "   verbose                        1\n",
      "   weight_decay                   0.0\n",
      "   weights_class                  None\n",
      "   weights_regr                   None\n",
      "   x                              ./test_chembl23/chembl_23mini_x.npy\n",
      "   y_censor                       None\n",
      "   y_class                        ./test_chembl23/chembl_23mini_y.npy\n",
      "   y_regr                         None\n",
      "\n",
      "\n"
     ]
    }
   ],
   "source": [
    "display_input_parms(args)"
   ]
  },
  {
   "cell_type": "code",
   "execution_count": 168,
   "id": "598f594d",
   "metadata": {
    "ExecuteTime": {
     "end_time": "2021-11-04T14:09:40.912180Z",
     "start_time": "2021-11-04T14:09:40.618634Z"
    }
   },
   "outputs": [
    {
     "name": "stdout",
     "output_type": "stream",
     "text": [
      "The autoreload extension is already loaded. To reload it, use:\n",
      "  %reload_ext autoreload\n"
     ]
    }
   ],
   "source": [
    "%load_ext autoreload\n",
    "%autoreload 2\n",
    "del net_old"
   ]
  },
  {
   "cell_type": "code",
   "execution_count": 170,
   "id": "fa9b4629",
   "metadata": {
    "ExecuteTime": {
     "end_time": "2021-11-04T14:11:47.025590Z",
     "start_time": "2021-11-04T14:11:46.650601Z"
    },
    "scrolled": false
   },
   "outputs": [
    {
     "name": "stdout",
     "output_type": "stream",
     "text": [
      " defining SparseFFN\n",
      "----------------------------------------------------------------------------------------------------\n",
      " input_size_freq: 85277    input_size: 85277\n",
      " self.input_splits: [85277, 0]\n",
      "\n",
      " SparseInputNet - init_weights - apply to module SparseLinear(in_features=85277, out_features=20, bias=True)\n",
      "\n",
      " SparseInputNet - init_weights - apply to module InputNet(\n",
      "  (input_net_freq): SparseLinear(in_features=85277, out_features=20, bias=True)\n",
      ")\n",
      "----------------------------------------------------------------------------------------------------\n",
      "\n",
      " MiddleNet - init_weights - apply to module  ReLU()\n",
      "\n",
      " MiddleNet - init_weights - apply to module  Dropout(p=0.0, inplace=False)\n",
      "\n",
      " MiddleNet - init_weights - apply to module  Linear(in_features=20, out_features=30, bias=True)\n",
      "\n",
      " MiddleNet - init_weights - apply to module  ReLU()\n",
      "\n",
      " MiddleNet - init_weights - apply to module  Dropout(p=0.0, inplace=False)\n",
      "\n",
      " MiddleNet - init_weights - apply to module  Linear(in_features=30, out_features=40, bias=True)\n",
      "\n",
      " MiddleNet - init_weights - apply to module  MiddleNet(\n",
      "  (layer_0_nonlinearity): ReLU()\n",
      "  (layer_0_dropout): Dropout(p=0.0, inplace=False)\n",
      "  (layer_0_linear): Linear(in_features=20, out_features=30, bias=True)\n",
      "  (layer_1_nonlinearity): ReLU()\n",
      "  (layer_1_dropout): Dropout(p=0.0, inplace=False)\n",
      "  (layer_1_linear): Linear(in_features=30, out_features=40, bias=True)\n",
      ")\n",
      "----------------------------------------------------------------------------------------------------\n",
      "\n",
      " LastNet - init_weights - apply to module ReLU()\n",
      "\n",
      " LastNet - init_weights - apply to module Dropout(p=0.2, inplace=False)\n",
      "\n",
      " LastNet - init_weights - apply to module Linear(in_features=40, out_features=100, bias=True)\n",
      "\n",
      " LastNet - init_weights - apply to module LastNet(\n",
      "  (layer_3_nonlinearity): ReLU()\n",
      "  (layer_3_dropout): Dropout(p=0.2, inplace=False)\n",
      "  (layer_3_linear): Linear(in_features=40, out_features=100, bias=True)\n",
      ")\n",
      "----------------------------------------------------------------------------------------------------\n",
      "SparseFFN(\n",
      "  (net): Sequential(\n",
      "    (0): InputNet(\n",
      "      (input_net_freq): SparseLinear(in_features=85277, out_features=20, bias=True)\n",
      "    )\n",
      "    (1): MiddleNet(\n",
      "      (layer_0_nonlinearity): ReLU()\n",
      "      (layer_0_dropout): Dropout(p=0.0, inplace=False)\n",
      "      (layer_0_linear): Linear(in_features=20, out_features=30, bias=True)\n",
      "      (layer_1_nonlinearity): ReLU()\n",
      "      (layer_1_dropout): Dropout(p=0.0, inplace=False)\n",
      "      (layer_1_linear): Linear(in_features=30, out_features=40, bias=True)\n",
      "    )\n",
      "    (2): LastNet(\n",
      "      (layer_3_nonlinearity): ReLU()\n",
      "      (layer_3_dropout): Dropout(p=0.2, inplace=False)\n",
      "      (layer_3_linear): Linear(in_features=40, out_features=100, bias=True)\n",
      "    )\n",
      "  )\n",
      ")\n"
     ]
    }
   ],
   "source": [
    "net_old = sc.SparseFFN(args)\n",
    "print(net_old)"
   ]
  },
  {
   "cell_type": "code",
   "execution_count": 191,
   "id": "33aa678b",
   "metadata": {
    "ExecuteTime": {
     "end_time": "2021-11-04T14:29:48.949884Z",
     "start_time": "2021-11-04T14:29:48.709979Z"
    }
   },
   "outputs": [],
   "source": [
    "del net"
   ]
  },
  {
   "cell_type": "code",
   "execution_count": 192,
   "id": "545438b6",
   "metadata": {
    "ExecuteTime": {
     "end_time": "2021-11-04T14:29:50.237078Z",
     "start_time": "2021-11-04T14:29:50.177507Z"
    }
   },
   "outputs": [
    {
     "name": "stdout",
     "output_type": "stream",
     "text": [
      " defining SparseFFN V2\n",
      " input_size_freq: 85277    input_size: 85277\n",
      " self.input_splits: [85277, 0]\n",
      " SparseNetFFN_V2 - init_weights - apply to module SparseLinear(in_features=85277, out_features=20, bias=True)\n",
      " SparseNetFFN_V2 - init_weights - apply to module ReLU()\n",
      " SparseNetFFN_V2 - init_weights - apply to module Dropout(p=0.0, inplace=False)\n",
      " SparseNetFFN_V2 - init_weights - apply to module Linear(in_features=20, out_features=30, bias=True)\n",
      " SparseNetFFN_V2 - init_weights - apply to module ReLU()\n",
      " SparseNetFFN_V2 - init_weights - apply to module Dropout(p=0.0, inplace=False)\n",
      " SparseNetFFN_V2 - init_weights - apply to module Linear(in_features=30, out_features=40, bias=True)\n",
      " SparseNetFFN_V2 - init_weights - apply to module ReLU()\n",
      " SparseNetFFN_V2 - init_weights - apply to module Dropout(p=0.2, inplace=False)\n",
      " SparseNetFFN_V2 - init_weights - apply to module Linear(in_features=40, out_features=100, bias=True)\n",
      " SparseNetFFN_V2 - init_weights - apply to module SparseFFN_V2(\n",
      "  (InputNet): SparseLinear(in_features=85277, out_features=20, bias=True)\n",
      "  (layer_0_nonlinearity): ReLU()\n",
      "  (layer_0_dropout): Dropout(p=0.0, inplace=False)\n",
      "  (layer_0_linear): Linear(in_features=20, out_features=30, bias=True)\n",
      "  (layer_1_nonlinearity): ReLU()\n",
      "  (layer_1_dropout): Dropout(p=0.0, inplace=False)\n",
      "  (layer_1_linear): Linear(in_features=30, out_features=40, bias=True)\n",
      "  (layer_2_nonlinearity): ReLU()\n",
      "  (layer_2_dropout): Dropout(p=0.2, inplace=False)\n",
      "  (layer_2_linear): Linear(in_features=40, out_features=100, bias=True)\n",
      ")\n"
     ]
    }
   ],
   "source": [
    "net  = sc.SparseFFN_V2(args)"
   ]
  },
  {
   "cell_type": "code",
   "execution_count": 194,
   "id": "260cf85f",
   "metadata": {
    "ExecuteTime": {
     "end_time": "2021-11-04T14:30:09.217021Z",
     "start_time": "2021-11-04T14:30:09.185687Z"
    }
   },
   "outputs": [
    {
     "name": "stdout",
     "output_type": "stream",
     "text": [
      "SparseFFN_V2(\n",
      "  (InputNet): SparseLinear(in_features=85277, out_features=20, bias=True)\n",
      "  (layer_0_nonlinearity): ReLU()\n",
      "  (layer_0_dropout): Dropout(p=0.0, inplace=False)\n",
      "  (layer_0_linear): Linear(in_features=20, out_features=30, bias=True)\n",
      "  (layer_1_nonlinearity): ReLU()\n",
      "  (layer_1_dropout): Dropout(p=0.0, inplace=False)\n",
      "  (layer_1_linear): Linear(in_features=30, out_features=40, bias=True)\n",
      "  (layer_2_nonlinearity): ReLU()\n",
      "  (layer_2_dropout): Dropout(p=0.2, inplace=False)\n",
      "  (layer_2_linear): Linear(in_features=40, out_features=100, bias=True)\n",
      ")\n"
     ]
    }
   ],
   "source": [
    "print(net)\n",
    "# print(net.net)"
   ]
  },
  {
   "cell_type": "code",
   "execution_count": 206,
   "id": "5b679ca4",
   "metadata": {
    "ExecuteTime": {
     "end_time": "2021-11-04T14:50:06.219632Z",
     "start_time": "2021-11-04T14:50:06.199570Z"
    }
   },
   "outputs": [
    {
     "name": "stdout",
     "output_type": "stream",
     "text": [
      "ModuleList(\n",
      "  (0): SparseFFN_V2(\n",
      "    (InputNet): SparseLinear(in_features=85277, out_features=20, bias=True)\n",
      "    (layer_0_nonlinearity): ReLU()\n",
      "    (layer_0_dropout): Dropout(p=0.0, inplace=False)\n",
      "    (layer_0_linear): Linear(in_features=20, out_features=30, bias=True)\n",
      "    (layer_1_nonlinearity): ReLU()\n",
      "    (layer_1_dropout): Dropout(p=0.0, inplace=False)\n",
      "    (layer_1_linear): Linear(in_features=30, out_features=40, bias=True)\n",
      "    (layer_2_nonlinearity): ReLU()\n",
      "    (layer_2_dropout): Dropout(p=0.2, inplace=False)\n",
      "    (layer_2_linear): Linear(in_features=40, out_features=100, bias=True)\n",
      "  )\n",
      "  (1): SparseLinear(in_features=85277, out_features=20, bias=True)\n",
      "  (2): ReLU()\n",
      "  (3): Dropout(p=0.0, inplace=False)\n",
      "  (4): Linear(in_features=20, out_features=30, bias=True)\n",
      "  (5): ReLU()\n",
      "  (6): Dropout(p=0.0, inplace=False)\n",
      "  (7): Linear(in_features=30, out_features=40, bias=True)\n",
      "  (8): ReLU()\n",
      "  (9): Dropout(p=0.2, inplace=False)\n",
      "  (10): Linear(in_features=40, out_features=100, bias=True)\n",
      ")\n"
     ]
    }
   ],
   "source": [
    "print(torch.nn.ModuleList(net.modules()))"
   ]
  },
  {
   "cell_type": "code",
   "execution_count": 208,
   "id": "326a13c6",
   "metadata": {
    "ExecuteTime": {
     "end_time": "2021-11-04T14:50:39.299300Z",
     "start_time": "2021-11-04T14:50:39.269632Z"
    },
    "scrolled": true
   },
   "outputs": [
    {
     "name": "stdout",
     "output_type": "stream",
     "text": [
      "<class 'sparsechem.models.SparseFFN_V2'> SparseFFN_V2(\n",
      "  (InputNet): SparseLinear(in_features=85277, out_features=20, bias=True)\n",
      "  (layer_0_nonlinearity): ReLU()\n",
      "  (layer_0_dropout): Dropout(p=0.0, inplace=False)\n",
      "  (layer_0_linear): Linear(in_features=20, out_features=30, bias=True)\n",
      "  (layer_1_nonlinearity): ReLU()\n",
      "  (layer_1_dropout): Dropout(p=0.0, inplace=False)\n",
      "  (layer_1_linear): Linear(in_features=30, out_features=40, bias=True)\n",
      "  (layer_2_nonlinearity): ReLU()\n",
      "  (layer_2_dropout): Dropout(p=0.2, inplace=False)\n",
      "  (layer_2_linear): Linear(in_features=40, out_features=100, bias=True)\n",
      ")\n",
      "<class 'sparsechem.models.SparseLinear'> SparseLinear(in_features=85277, out_features=20, bias=True)\n",
      "<class 'torch.nn.modules.activation.ReLU'> ReLU()\n",
      "<class 'torch.nn.modules.dropout.Dropout'> Dropout(p=0.0, inplace=False)\n",
      "<class 'torch.nn.modules.linear.Linear'> Linear(in_features=20, out_features=30, bias=True)\n",
      "<class 'torch.nn.modules.activation.ReLU'> ReLU()\n",
      "<class 'torch.nn.modules.dropout.Dropout'> Dropout(p=0.0, inplace=False)\n",
      "<class 'torch.nn.modules.linear.Linear'> Linear(in_features=30, out_features=40, bias=True)\n",
      "<class 'torch.nn.modules.activation.ReLU'> ReLU()\n",
      "<class 'torch.nn.modules.dropout.Dropout'> Dropout(p=0.2, inplace=False)\n",
      "<class 'torch.nn.modules.linear.Linear'> Linear(in_features=40, out_features=100, bias=True)\n",
      "----------------------------\n",
      "SparseLinear(in_features=85277, out_features=20, bias=True)\n",
      "ReLU()\n",
      "Dropout(p=0.0, inplace=False)\n",
      "Linear(in_features=20, out_features=30, bias=True)\n",
      "ReLU()\n",
      "Dropout(p=0.0, inplace=False)\n",
      "Linear(in_features=30, out_features=40, bias=True)\n",
      "ReLU()\n",
      "Dropout(p=0.2, inplace=False)\n",
      "Linear(in_features=40, out_features=100, bias=True)\n",
      "----------------------------\n",
      "                                                    SparseFFN_V2(\n",
      "  (InputNet): SparseLinear(in_features=85277, out_features=20, bias=True)\n",
      "  (layer_0_nonlinearity): ReLU()\n",
      "  (layer_0_dropout): Dropout(p=0.0, inplace=False)\n",
      "  (layer_0_linear): Linear(in_features=20, out_features=30, bias=True)\n",
      "  (layer_1_nonlinearity): ReLU()\n",
      "  (layer_1_dropout): Dropout(p=0.0, inplace=False)\n",
      "  (layer_1_linear): Linear(in_features=30, out_features=40, bias=True)\n",
      "  (layer_2_nonlinearity): ReLU()\n",
      "  (layer_2_dropout): Dropout(p=0.2, inplace=False)\n",
      "  (layer_2_linear): Linear(in_features=40, out_features=100, bias=True)\n",
      ")\n",
      "InputNet                                            SparseLinear(in_features=85277, out_features=20, bias=True)\n",
      "layer_0_nonlinearity                                ReLU()\n",
      "layer_0_dropout                                     Dropout(p=0.0, inplace=False)\n",
      "layer_0_linear                                      Linear(in_features=20, out_features=30, bias=True)\n",
      "layer_1_nonlinearity                                ReLU()\n",
      "layer_1_dropout                                     Dropout(p=0.0, inplace=False)\n",
      "layer_1_linear                                      Linear(in_features=30, out_features=40, bias=True)\n",
      "layer_2_nonlinearity                                ReLU()\n",
      "layer_2_dropout                                     Dropout(p=0.2, inplace=False)\n",
      "layer_2_linear                                      Linear(in_features=40, out_features=100, bias=True)\n"
     ]
    }
   ],
   "source": [
    "for i in net.modules():\n",
    "        print(type(i),  i)\n",
    "print('----------------------------')        \n",
    "for i in list(net.children()):\n",
    "        print(i)\n",
    "print('----------------------------')             \n",
    "\n",
    "for i,j in net.named_modules():\n",
    "    print(f\"{i:50s}  {j}\")"
   ]
  },
  {
   "cell_type": "code",
   "execution_count": 203,
   "id": "705e075d",
   "metadata": {
    "ExecuteTime": {
     "end_time": "2021-11-04T14:43:40.030544Z",
     "start_time": "2021-11-04T14:43:40.012146Z"
    },
    "scrolled": false
   },
   "outputs": [
    {
     "name": "stdout",
     "output_type": "stream",
     "text": [
      " dev: cpu\n",
      " Net: \n",
      " SparseFFN_V2(\n",
      "  (InputNet): SparseLinear(in_features=85277, out_features=20, bias=True)\n",
      "  (layer_0_nonlinearity): ReLU()\n",
      "  (layer_0_dropout): Dropout(p=0.0, inplace=False)\n",
      "  (layer_0_linear): Linear(in_features=20, out_features=30, bias=True)\n",
      "  (layer_1_nonlinearity): ReLU()\n",
      "  (layer_1_dropout): Dropout(p=0.0, inplace=False)\n",
      "  (layer_1_linear): Linear(in_features=30, out_features=40, bias=True)\n",
      "  (layer_2_nonlinearity): ReLU()\n",
      "  (layer_2_dropout): Dropout(p=0.2, inplace=False)\n",
      "  (layer_2_linear): Linear(in_features=40, out_features=100, bias=True)\n",
      ")\n"
     ]
    }
   ],
   "source": [
    "dev  = torch.device(args.dev)\n",
    "# net  = sc.SparseFFN_V2(args)\n",
    "# net  = sc.SparseFFN(args).to(dev)\n",
    "print(f\" dev: {dev}\")\n",
    "print(f\" Net: \\n {net}\")"
   ]
  },
  {
   "cell_type": "code",
   "execution_count": null,
   "id": "fc099496",
   "metadata": {},
   "outputs": [],
   "source": []
  },
  {
   "cell_type": "markdown",
   "id": "8a1932bf",
   "metadata": {},
   "source": [
    "    Summarize the given PyTorch model. Summarized information includes:\n",
    "        1) Layer names,\n",
    "        2) input/output shapes,\n",
    "        3) kernel shape,\n",
    "        4) # of parameters,\n",
    "        5) # of operations (Mult-Adds)\n",
    "\n",
    "    Args:\n",
    "        model (nn.Module):\n",
    "                PyTorch model to summarize. The model should be fully in either train()\n",
    "                or eval() mode. If layers are not all in the same mode, running summary\n",
    "                may have side effects on batchnorm or dropout statistics. If you\n",
    "                encounter an issue with this, please open a GitHub issue.\n",
    "\n",
    "    input_data (Sequence of Sizes or Tensors):\n",
    "            Example input tensor of the model (dtypes inferred from model input).\n",
    "            - OR -\n",
    "            Shape of input data as a List/Tuple/torch.Size\n",
    "            (dtypes must match model input, default is FloatTensors).\n",
    "            You should NOT include batch size in the tuple.\n",
    "            - OR -\n",
    "            If input_data is not provided, no forward pass through the network is\n",
    "            performed, and the provided model information is limited to layer names.\n",
    "            Default: None\n",
    "\n",
    "    batch_dim (int):\n",
    "            Batch_dimension of input data. If batch_dim is None, the input data\n",
    "            is assumed to contain the batch dimension.\n",
    "            WARNING: in a future version, the default will change to None.\n",
    "            Default: 0\n",
    "\n",
    "    branching (bool):\n",
    "            Whether to use the branching layout for the printed output.\n",
    "            Default: True\n",
    "\n",
    "    col_names (Iterable[str]):\n",
    "            Specify which columns to show in the output. Currently supported:\n",
    "            (\"input_size\", \"output_size\", \"num_params\", \"kernel_size\", \"mult_adds\")\n",
    "            If input_data is not provided, only \"num_params\" is used.\n",
    "            Default: (\"output_size\", \"num_params\")\n",
    "\n",
    "    col_width (int):\n",
    "            Width of each column.\n",
    "            Default: 25\n",
    "\n",
    "    depth (int):\n",
    "            Number of nested layers to traverse (e.g. Sequentials).\n",
    "            Default: 3\n",
    "\n",
    "    device (torch.Device):\n",
    "            Uses this torch device for model and input_data.\n",
    "            If not specified, uses result of torch.cuda.is_available().\n",
    "            Default: None\n",
    "\n",
    "    dtypes (List[torch.dtype]):\n",
    "            For multiple inputs, specify the size of both inputs, and\n",
    "            also specify the types of each parameter here.\n",
    "            Default: None\n",
    "\n",
    "    verbose (int):\n",
    "            0 (quiet): No output\n",
    "            1 (default): Print model summary\n",
    "            2 (verbose): Show weight and bias layers in full detail\n",
    "            Default: 1\n",
    "\n",
    "    *args, **kwargs:\n",
    "            Other arguments used in `model.forward` function.\n",
    "\n",
    "    Return:\n",
    "        ModelStatistics object\n",
    "                See torchsummary/model_statistics.py for more information."
   ]
  },
  {
   "cell_type": "markdown",
   "id": "bf34fe8e",
   "metadata": {},
   "source": [
    "#### Display Model Summary"
   ]
  },
  {
   "cell_type": "code",
   "execution_count": 111,
   "id": "64b68b95",
   "metadata": {
    "ExecuteTime": {
     "end_time": "2021-11-04T13:35:14.639936Z",
     "start_time": "2021-11-04T13:35:14.459144Z"
    }
   },
   "outputs": [
    {
     "name": "stdout",
     "output_type": "stream",
     "text": [
      "SparseFFN V2 forward - last_hidden : False\n",
      "=============================================================================================================================\n",
      "Layer (type (var_name):depth-idx)             Input Shape      Output Shape     Param #          Kernel Shape     Mult-Adds\n",
      "=============================================================================================================================\n",
      "SparseFFN_V2                                  --               --               --               --               --\n",
      "├─Sequential (net): 1-1                       [200, 85277]     [200, 100]       --               --               --\n",
      "│    └─0.0.weight                                                               ├─1,705,540      [85277, 20]\n",
      "│    └─0.0.bias                                                                 ├─20             [20]\n",
      "│    └─1.layer_0.2.weight                                                       ├─400            [20, 20]\n",
      "│    └─1.layer_0.2.bias                                                         ├─20             [20]\n",
      "│    └─2.2.weight                                                               ├─2,000          [100, 20]\n",
      "│    └─2.2.bias                                                                 └─100            [100]\n",
      "├─Sequential (input_net_freq): 1-2            [200, 85277]     [200, 20]        --               --               --\n",
      "│    └─0.weight                                                                 ├─1,705,540      [85277, 20]\n",
      "│    └─0.bias                                                                   └─20             [20]\n",
      "├─Sequential (net): 1                         --               --               --               --               --\n",
      "│    └─Sequential (0): 2-1                    [200, 85277]     [200, 20]        (recursive)      --               --\n",
      "│    │    └─0.weight                                                            ├─1,705,540      [85277, 20]\n",
      "│    │    └─0.bias                                                              └─20             [20]\n",
      "├─Sequential (input_net_freq): 1              --               --               --               --               --\n",
      "│    └─SparseLinear (0): 2-2                  [200, 85277]     [200, 20]        1,705,560        [20, 85277]      341,112,000\n",
      "│    │    └─weight                                                              ├─1,705,540      [20, 85277]\n",
      "│    │    └─bias                                                                └─20             [20]\n",
      "├─Sequential (net): 1                         --               --               --               --               --\n",
      "│    └─Sequential (0): 2                      --               --               --               --               --\n",
      "│    │    └─SparseLinear (0): 3-1             [200, 85277]     [200, 20]        (recursive)      [20, 85277]      341,112,000\n",
      "│    │    │    └─weight                                                         ├─1,705,540      [20, 85277]\n",
      "│    │    │    └─bias                                                           └─20             [20]\n",
      "├─Sequential (middle_net): 1-3                [200, 20]        [200, 20]        --               --               --\n",
      "│    └─layer_0.2.weight                                                         ├─400            [20, 20]\n",
      "│    └─layer_0.2.bias                                                           └─20             [20]\n",
      "├─Sequential (net): 1                         --               --               --               --               --\n",
      "│    └─Sequential (1): 2-3                    [200, 20]        [200, 20]        (recursive)      --               --\n",
      "│    │    └─layer_0.2.weight                                                    ├─400            [20, 20]\n",
      "│    │    └─layer_0.2.bias                                                      └─20             [20]\n",
      "├─Sequential (middle_net): 1                  --               --               --               --               --\n",
      "│    └─Sequential (layer_0): 2-4              [200, 20]        [200, 20]        --               --               --\n",
      "│    │    └─2.weight                                                            ├─400            [20, 20]\n",
      "│    │    └─2.bias                                                              └─20             [20]\n",
      "├─Sequential (net): 1                         --               --               --               --               --\n",
      "│    └─Sequential (1): 2                      --               --               --               --               --\n",
      "│    │    └─Sequential (layer_0): 3-2         [200, 20]        [200, 20]        (recursive)      --               --\n",
      "│    │    │    └─2.weight                                                       ├─400            [20, 20]\n",
      "│    │    │    └─2.bias                                                         └─20             [20]\n",
      "├─Sequential (middle_net): 1                  --               --               --               --               --\n",
      "│    └─Sequential (layer_0): 2                --               --               --               --               --\n",
      "│    │    └─ReLU (0): 3-3                     [200, 20]        [200, 20]        --               --               --\n",
      "├─Sequential (net): 1                         --               --               --               --               --\n",
      "│    └─Sequential (1): 2                      --               --               --               --               --\n",
      "│    │    └─Sequential (layer_0): 3           --               --               --               --               --\n",
      "│    │    │    └─ReLU (0): 4-1                [200, 20]        [200, 20]        --               --               --\n",
      "├─Sequential (middle_net): 1                  --               --               --               --               --\n",
      "│    └─Sequential (layer_0): 2                --               --               --               --               --\n",
      "│    │    └─Dropout (1): 3-4                  [200, 20]        [200, 20]        --               --               --\n",
      "├─Sequential (net): 1                         --               --               --               --               --\n",
      "│    └─Sequential (1): 2                      --               --               --               --               --\n",
      "│    │    └─Sequential (layer_0): 3           --               --               --               --               --\n",
      "│    │    │    └─Dropout (1): 4-2             [200, 20]        [200, 20]        --               --               --\n",
      "├─Sequential (middle_net): 1                  --               --               --               --               --\n",
      "│    └─Sequential (layer_0): 2                --               --               --               --               --\n",
      "│    │    └─Linear (2): 3-5                   [200, 20]        [200, 20]        420              [20, 20]         84,000\n",
      "│    │    │    └─weight                                                         ├─400            [20, 20]\n",
      "│    │    │    └─bias                                                           └─20             [20]\n",
      "├─Sequential (net): 1                         --               --               --               --               --\n",
      "│    └─Sequential (1): 2                      --               --               --               --               --\n",
      "│    │    └─Sequential (layer_0): 3           --               --               --               --               --\n",
      "│    │    │    └─Linear (2): 4-3              [200, 20]        [200, 20]        (recursive)      [20, 20]         84,000\n",
      "│    │    │    │    └─weight                                                    ├─400            [20, 20]\n",
      "│    │    │    │    └─bias                                                      └─20             [20]\n",
      "├─Sequential (last_net): 1-4                  [200, 20]        [200, 100]       --               --               --\n",
      "│    └─2.weight                                                                 ├─2,000          [100, 20]\n",
      "│    └─2.bias                                                                   └─100            [100]\n",
      "├─Sequential (net): 1                         --               --               --               --               --\n",
      "│    └─Sequential (2): 2-5                    [200, 20]        [200, 100]       (recursive)      --               --\n",
      "│    │    └─2.weight                                                            ├─2,000          [100, 20]\n",
      "│    │    └─2.bias                                                              └─100            [100]\n",
      "├─Sequential (last_net): 1                    --               --               --               --               --\n",
      "│    └─ReLU (0): 2-6                          [200, 20]        [200, 20]        --               --               --\n",
      "├─Sequential (net): 1                         --               --               --               --               --\n",
      "│    └─Sequential (2): 2                      --               --               --               --               --\n",
      "│    │    └─ReLU (0): 3-6                     [200, 20]        [200, 20]        --               --               --\n",
      "├─Sequential (last_net): 1                    --               --               --               --               --\n",
      "│    └─Dropout (1): 2-7                       [200, 20]        [200, 20]        --               --               --\n",
      "├─Sequential (net): 1                         --               --               --               --               --\n",
      "│    └─Sequential (2): 2                      --               --               --               --               --\n",
      "│    │    └─Dropout (1): 3-7                  [200, 20]        [200, 20]        --               --               --\n",
      "├─Sequential (last_net): 1                    --               --               --               --               --\n",
      "│    └─Linear (2): 2-8                        [200, 20]        [200, 100]       2,100            [20, 100]        420,000\n",
      "│    │    └─weight                                                              ├─2,000          [20, 100]\n",
      "│    │    └─bias                                                                └─100            [100]\n",
      "├─Sequential (net): 1                         --               --               --               --               --\n",
      "│    └─Sequential (2): 2                      --               --               --               --               --\n",
      "│    │    └─Linear (2): 3-8                   [200, 20]        [200, 100]       (recursive)      [20, 100]        420,000\n",
      "│    │    │    └─weight                                                         ├─2,000          [20, 100]\n",
      "│    │    │    └─bias                                                           └─100            [100]\n",
      "=============================================================================================================================\n",
      "Total params: 1,708,080\n",
      "Trainable params: 1,708,080\n",
      "Non-trainable params: 0\n",
      "Total mult-adds (M): 683.23\n",
      "=============================================================================================================================\n",
      "Input size (MB): 68.22\n",
      "Forward/backward pass size (MB): 0.22\n",
      "Params size (MB): 6.83\n",
      "Estimated Total Size (MB): 75.28\n",
      "=============================================================================================================================\n"
     ]
    }
   ],
   "source": [
    "# summary(model, input_size=(batch_size, 1, 28, 28))\n",
    "\n",
    "summary(net, input_size=(200, 85277), \n",
    "        col_names=[\"input_size\", \"output_size\", \"num_params\", \"kernel_size\", \"mult_adds\"],\n",
    "        verbose=2,\n",
    "        depth = 6,\n",
    "        col_width=16,\n",
    "        row_settings=[\"depth\",\"var_names\"],);"
   ]
  },
  {
   "cell_type": "code",
   "execution_count": 112,
   "id": "4363f89d",
   "metadata": {
    "ExecuteTime": {
     "end_time": "2021-11-04T13:35:42.935916Z",
     "start_time": "2021-11-04T13:35:42.782098Z"
    }
   },
   "outputs": [
    {
     "name": "stdout",
     "output_type": "stream",
     "text": [
      "==================================================================================================================================\n",
      "Layer (type (var_name):depth-idx)                  Input Shape      Output Shape     Param #          Kernel Shape     Mult-Adds\n",
      "==================================================================================================================================\n",
      "SparseFFN                                          --               --               --               --               --\n",
      "├─Sequential (net): 1-1                            [200, 85277]     [200, 100]       --               --               --\n",
      "│    └─0.input_net_freq.weight                                                       ├─1,705,540      [85277, 20]\n",
      "│    └─0.input_net_freq.bias                                                         ├─20             [20]\n",
      "│    └─1.middle_net.layer_0.2.weight                                                 ├─400            [20, 20]\n",
      "│    └─1.middle_net.layer_0.2.bias                                                   ├─20             [20]\n",
      "│    └─2.net.2.weight                                                                ├─2,000          [100, 20]\n",
      "│    └─2.net.2.bias                                                                  └─100            [100]\n",
      "│    └─SparseInputNet (0): 2-1                     [200, 85277]     [200, 20]        --               --               --\n",
      "│    │    └─input_net_freq.weight                                                    ├─1,705,540      [85277, 20]\n",
      "│    │    └─input_net_freq.bias                                                      └─20             [20]\n",
      "│    │    └─SparseLinear (input_net_freq): 3-1     [200, 85277]     [200, 20]        1,705,560        [20, 85277]      341,112,000\n",
      "│    │    │    └─weight                                                              ├─1,705,540      [20, 85277]\n",
      "│    │    │    └─bias                                                                └─20             [20]\n",
      "│    └─MiddleNet (1): 2-2                          [200, 20]        [200, 20]        --               --               --\n",
      "│    │    └─middle_net.layer_0.2.weight                                              ├─400            [20, 20]\n",
      "│    │    └─middle_net.layer_0.2.bias                                                └─20             [20]\n",
      "│    │    └─Sequential (middle_net): 3-2           [200, 20]        [200, 20]        --               --               --\n",
      "│    │    │    └─layer_0.2.weight                                                    ├─400            [20, 20]\n",
      "│    │    │    └─layer_0.2.bias                                                      └─20             [20]\n",
      "│    │    │    └─Sequential (layer_0): 4-1         [200, 20]        [200, 20]        --               --               --\n",
      "│    │    │    │    └─2.weight                                                       ├─400            [20, 20]\n",
      "│    │    │    │    └─2.bias                                                         └─20             [20]\n",
      "│    │    │    │    └─ReLU (0): 5-1                [200, 20]        [200, 20]        --               --               --\n",
      "│    │    │    │    └─Dropout (1): 5-2             [200, 20]        [200, 20]        --               --               --\n",
      "│    │    │    │    └─Linear (2): 5-3              [200, 20]        [200, 20]        420              [20, 20]         84,000\n",
      "│    │    │    │    │    └─weight                                                    ├─400            [20, 20]\n",
      "│    │    │    │    │    └─bias                                                      └─20             [20]\n",
      "│    └─LastNet (2): 2-3                            [200, 20]        [200, 100]       --               --               --\n",
      "│    │    └─net.2.weight                                                             ├─2,000          [100, 20]\n",
      "│    │    └─net.2.bias                                                               └─100            [100]\n",
      "│    │    └─Sequential (net): 3-3                  [200, 20]        [200, 100]       --               --               --\n",
      "│    │    │    └─2.weight                                                            ├─2,000          [100, 20]\n",
      "│    │    │    └─2.bias                                                              └─100            [100]\n",
      "│    │    │    └─ReLU (0): 4-2                     [200, 20]        [200, 20]        --               --               --\n",
      "│    │    │    └─Dropout (1): 4-3                  [200, 20]        [200, 20]        --               --               --\n",
      "│    │    │    └─Linear (2): 4-4                   [200, 20]        [200, 100]       2,100            [20, 100]        420,000\n",
      "│    │    │    │    └─weight                                                         ├─2,000          [20, 100]\n",
      "│    │    │    │    └─bias                                                           └─100            [100]\n",
      "==================================================================================================================================\n",
      "Total params: 1,708,080\n",
      "Trainable params: 1,708,080\n",
      "Non-trainable params: 0\n",
      "Total mult-adds (M): 341.62\n",
      "==================================================================================================================================\n",
      "Input size (MB): 68.22\n",
      "Forward/backward pass size (MB): 0.22\n",
      "Params size (MB): 6.83\n",
      "Estimated Total Size (MB): 75.28\n",
      "==================================================================================================================================\n"
     ]
    }
   ],
   "source": [
    "summary(net_old, input_size=(200, 85277), \n",
    "        col_names=[\"input_size\", \"output_size\", \"num_params\", \"kernel_size\", \"mult_adds\"],\n",
    "        verbose=2,\n",
    "        depth = 6,\n",
    "        col_width=16,\n",
    "        row_settings=[\"depth\",\"var_names\"],);"
   ]
  },
  {
   "cell_type": "markdown",
   "id": "6654d46c",
   "metadata": {},
   "source": [
    "#### Loss functions , Weights, and Optimizer"
   ]
  },
  {
   "cell_type": "code",
   "execution_count": 91,
   "id": "76b61c97",
   "metadata": {
    "ExecuteTime": {
     "end_time": "2021-09-14T04:22:36.518330Z",
     "start_time": "2021-09-14T04:22:36.364347Z"
    }
   },
   "outputs": [],
   "source": [
    "loss_class = torch.nn.BCEWithLogitsLoss(reduction=\"none\")\n",
    "loss_regr  = sc.censored_mse_loss\n",
    "\n",
    "if not args.censored_loss:\n",
    "    loss_regr = functools.partial(loss_regr, censored_enabled=False)\n"
   ]
  },
  {
   "cell_type": "code",
   "execution_count": 93,
   "id": "6b7a4dad",
   "metadata": {
    "ExecuteTime": {
     "end_time": "2021-09-14T04:23:00.296468Z",
     "start_time": "2021-09-14T04:23:00.277202Z"
    }
   },
   "outputs": [
    {
     "name": "stdout",
     "output_type": "stream",
     "text": [
      "<function censored_mse_loss at 0x7f3c8eecd280>\n",
      "BCEWithLogitsLoss()\n"
     ]
    }
   ],
   "source": [
    "print(repr(loss_regr))\n",
    "print(repr(loss_class))"
   ]
  },
  {
   "cell_type": "code",
   "execution_count": 94,
   "id": "ba4c509f",
   "metadata": {
    "ExecuteTime": {
     "end_time": "2021-09-14T04:23:09.511126Z",
     "start_time": "2021-09-14T04:23:09.492883Z"
    }
   },
   "outputs": [],
   "source": [
    "tasks_class.training_weight = tasks_class.training_weight.to(dev)\n",
    "tasks_regr.training_weight  = tasks_regr.training_weight.to(dev)\n",
    "tasks_regr.censored_weight  = tasks_regr.censored_weight.to(dev)\n",
    "\n",
    "optimizer = torch.optim.Adam(net.parameters(), lr=args.lr, weight_decay=args.weight_decay)\n",
    "scheduler = MultiStepLR(optimizer, milestones=args.lr_steps, gamma=args.lr_alpha)\n",
    "\n",
    "num_prints = 0"
   ]
  },
  {
   "cell_type": "code",
   "execution_count": 100,
   "id": "a147cb0d",
   "metadata": {
    "ExecuteTime": {
     "end_time": "2021-09-14T04:24:52.372780Z",
     "start_time": "2021-09-14T04:24:52.352995Z"
    }
   },
   "outputs": [
    {
     "name": "stdout",
     "output_type": "stream",
     "text": [
      "Adam (\n",
      "Parameter Group 0\n",
      "    amsgrad: False\n",
      "    betas: (0.9, 0.999)\n",
      "    eps: 1e-08\n",
      "    initial_lr: 0.001\n",
      "    lr: 0.001\n",
      "    weight_decay: 0.0\n",
      ")\n",
      "LR steps: [1]   gamma: 0.3\n",
      "<torch.optim.lr_scheduler.MultiStepLR object at 0x7f3c842bcaf0>\n"
     ]
    }
   ],
   "source": [
    "print(optimizer)\n",
    "print(f\"LR steps: {args.lr_steps}   gamma: {args.lr_alpha}\")\n",
    "print(scheduler)"
   ]
  },
  {
   "cell_type": "code",
   "execution_count": 199,
   "id": "d25548c0",
   "metadata": {
    "ExecuteTime": {
     "end_time": "2021-09-14T05:11:04.890326Z",
     "start_time": "2021-09-14T05:11:04.863274Z"
    }
   },
   "outputs": [],
   "source": [
    "from sparsechem import Nothing\n",
    "# if args.save_board:\n",
    "#     tb_name = os.path.join(args.output_dir, \"boards\", name)\n",
    "#     vprint(f\"\\nargs.save_board is '{args.save_board}' - will be written to {tb_name}.\")\n",
    "#     writer  = SummaryWriter(tb_name)\n",
    "# else:\n",
    "writer = Nothing()"
   ]
  },
  {
   "cell_type": "markdown",
   "id": "a6c630cf",
   "metadata": {},
   "source": [
    "## training loop`"
   ]
  },
  {
   "cell_type": "code",
   "execution_count": 207,
   "id": "2dec0d50",
   "metadata": {
    "ExecuteTime": {
     "end_time": "2021-09-14T05:14:50.139923Z",
     "start_time": "2021-09-14T05:14:50.121696Z"
    }
   },
   "outputs": [
    {
     "name": "stdout",
     "output_type": "stream",
     "text": [
      "20\n"
     ]
    }
   ],
   "source": [
    "args.epochs = 20\n",
    "print(args.epochs)\n"
   ]
  },
  {
   "cell_type": "code",
   "execution_count": 208,
   "id": "4fd6a656",
   "metadata": {
    "ExecuteTime": {
     "end_time": "2021-09-14T05:15:10.047810Z",
     "start_time": "2021-09-14T05:14:51.797262Z"
    }
   },
   "outputs": [
    {
     "name": "stdout",
     "output_type": "stream",
     "text": [
      "0      |  0.26536  0.34916  0.94332  0.91358  0.92081 |       nan       nan       nan |    0.6 \n",
      "1      |  0.23169  0.31658  0.95294  0.91591  0.92100 |       nan       nan       nan |    0.6 \n",
      "2      |  0.20527  0.29097  0.95905  0.91940  0.92214 |       nan       nan       nan |    0.6 \n",
      "3      |  0.18349  0.26869  0.96191  0.92548  0.92384 |       nan       nan       nan |    0.6 \n",
      "4      |  0.16677  0.25243  0.96241  0.92780  0.92576 |       nan       nan       nan |    0.6 \n",
      "5      |  0.15307  0.23865  0.96367  0.93348  0.93068 |       nan       nan       nan |    0.6 \n",
      "6      |  0.14169  0.22536  0.96466  0.93519  0.93699 |       nan       nan       nan |    0.5 \n",
      "7      |  0.13215  0.21458  0.96564  0.93764  0.93718 |       nan       nan       nan |    0.6 \n",
      "8      |  0.12422  0.20382  0.96650  0.93777  0.93718 |       nan       nan       nan |    0.6 \n",
      "9      |  0.11759  0.19450  0.96663  0.93779  0.93718 |       nan       nan       nan |    0.6 \n",
      "10     |  0.11179  0.18523  0.96751  0.94688  0.94479 |       nan       nan       nan |    0.5 \n",
      "11     |  0.10692  0.17730  0.96795  0.94695  0.94655 |       nan       nan       nan |    0.5 \n",
      "12     |  0.10287  0.17191  0.96822  0.94699  0.94678 |       nan       nan       nan |    0.6 \n",
      "13     |  0.09910  0.16582  0.96809  0.94697  0.94703 |       nan       nan       nan |    0.6 \n",
      "14     |  0.09599  0.16116  0.96824  0.94699  0.94678 |       nan       nan       nan |    0.5 \n",
      "15     |  0.09319  0.15529  0.96824  0.94699  0.94678 |       nan       nan       nan |    0.6 \n",
      "16     |  0.09071  0.14986  0.96836  0.94701  0.94653 |       nan       nan       nan |    0.6 \n",
      "17     |  0.08869  0.14618  0.96841  0.94702  0.94653 |       nan       nan       nan |    0.6 \n",
      "Epoch  |     logl  bceloss   aucroc    aucpr   f1_max |      rmse  rsquared  corrcoef | tr_time \n",
      "18     |  0.08665  0.14207  0.96890  0.95273  0.94652 |       nan       nan       nan |    0.5 \n",
      "19     |  0.08497  0.13961  0.96930  0.95338  0.94632 |       nan       nan       nan |    0.6 \n",
      "\n",
      "Saving performance metrics (AUCs) and model.\n"
     ]
    }
   ],
   "source": [
    "##\n",
    "## Training loop\n",
    "##\n",
    "for epoch in range(args.epochs):\n",
    "    t0 = time.time()\n",
    "    sc.train_class_regr(\n",
    "        net, optimizer,\n",
    "        loader          = loader_tr,\n",
    "        loss_class      = loss_class,\n",
    "        loss_regr       = loss_regr,\n",
    "        dev             = dev,\n",
    "        weights_class   = tasks_class.training_weight,\n",
    "        weights_regr    = tasks_regr.training_weight,\n",
    "        censored_weight = tasks_regr.censored_weight,\n",
    "        normalize_loss  = args.normalize_loss,\n",
    "        num_int_batches = num_int_batches,\n",
    "        progress        = args.verbose >= 2)\n",
    "\n",
    "    t1 = time.time()\n",
    "\n",
    "    eval_round = (args.eval_frequency > 0) and ((epoch + 1) % args.eval_frequency == 0)\n",
    "    last_round = epoch == args.epochs - 1\n",
    "\n",
    "    if eval_round or last_round:\n",
    "        results_va = sc.evaluate_class_regr(net, loader_va, \n",
    "                                            loss_class, loss_regr, \n",
    "                                            tasks_class=tasks_class, tasks_regr=tasks_regr, \n",
    "                                            dev=dev, progress = args.verbose >= 2)\n",
    "        for key, val in results_va[\"classification_agg\"].items():\n",
    "            writer.add_scalar(key+\"/va\", val, epoch)\n",
    "        for key, val in results_va[\"regression_agg\"].items():\n",
    "            writer.add_scalar(key+\"/va\", val, epoch)\n",
    "\n",
    "        if args.eval_train:\n",
    "            results_tr = sc.evaluate_class_regr(net, loader_tr, \n",
    "                                                loss_class, loss_regr, \n",
    "                                                tasks_class=tasks_class, tasks_regr=tasks_regr, \n",
    "                                                dev=dev, progress = args.verbose >= 2)\n",
    "            for key, val in results_tr[\"classification_agg\"].items():\n",
    "                writer.add_scalar(key+\"/tr\", val, epoch)\n",
    "            for key, val in results_tr[\"regression_agg\"].items():\n",
    "                writer.add_scalar(key+\"/tr\", val, epoch)\n",
    "        else:\n",
    "            results_tr = None\n",
    "\n",
    "        if args.verbose:\n",
    "            ## printing a new header every 20 lines\n",
    "            header = num_prints % 20 == 0\n",
    "            num_prints += 1\n",
    "            sc.print_metrics_cr(epoch, t1 - t0, results_tr, results_va, header)\n",
    "\n",
    "    scheduler.step()\n",
    "\n",
    "writer.close()\n",
    "vprint()\n",
    "vprint(\"Saving performance metrics (AUCs) and model.\")"
   ]
  },
  {
   "cell_type": "markdown",
   "id": "e7745da4",
   "metadata": {
    "heading_collapsed": true
   },
   "source": [
    "### `train_class_regr()`"
   ]
  },
  {
   "cell_type": "code",
   "execution_count": 123,
   "id": "352976ff",
   "metadata": {
    "ExecuteTime": {
     "end_time": "2021-09-14T04:35:21.709183Z",
     "start_time": "2021-09-14T04:35:21.688911Z"
    },
    "hidden": true
   },
   "outputs": [],
   "source": [
    "# def train_class_regr(net, optimizer, loader, loss_class, loss_regr, dev,\n",
    "#                      weights_class, weights_regr, censored_weight,\n",
    "#                      normalize_loss=None, num_int_batches=1, progress=True):\n",
    "#     sc.train_class_regr(\n",
    "#         net, \n",
    "#         optimizer,\n",
    "loader          = loader_tr\n",
    "#         loss_class      = loss_class,\n",
    "#         loss_regr       = loss_regr,\n",
    "#         dev             = dev,\n",
    "weights_class   = tasks_class.training_weight\n",
    "weights_regr    = tasks_regr.training_weight\n",
    "censored_weight = tasks_regr.censored_weight\n",
    "normalize_loss  = args.normalize_loss\n",
    "num_int_batches = 1\n",
    "progress        = args.verbose >= 2"
   ]
  },
  {
   "cell_type": "code",
   "execution_count": 124,
   "id": "837ddee8",
   "metadata": {
    "ExecuteTime": {
     "end_time": "2021-09-14T04:35:30.612494Z",
     "start_time": "2021-09-14T04:35:30.595184Z"
    },
    "hidden": true
   },
   "outputs": [],
   "source": [
    "net.train()\n",
    "int_count = 0"
   ]
  },
  {
   "cell_type": "code",
   "execution_count": 122,
   "id": "059f81e1",
   "metadata": {
    "ExecuteTime": {
     "end_time": "2021-09-14T04:34:13.714016Z",
     "start_time": "2021-09-14T04:34:13.694947Z"
    },
    "hidden": true
   },
   "outputs": [
    {
     "name": "stdout",
     "output_type": "stream",
     "text": [
      "<class 'torch.utils.data.dataloader.DataLoader'>\n",
      "None\n",
      "2\n"
     ]
    }
   ],
   "source": [
    "# from tqdm  import tqdm\n",
    "print(type(loader))\n",
    "print(normalize_loss)\n",
    "print(num_int_batches)"
   ]
  },
  {
   "cell_type": "code",
   "execution_count": 105,
   "id": "d7b1da98",
   "metadata": {
    "ExecuteTime": {
     "end_time": "2021-09-14T04:26:57.705952Z",
     "start_time": "2021-09-14T04:26:57.411481Z"
    },
    "hidden": true
   },
   "outputs": [],
   "source": [
    "b = next(iter(loader))"
   ]
  },
  {
   "cell_type": "code",
   "execution_count": 128,
   "id": "991fedf6",
   "metadata": {
    "ExecuteTime": {
     "end_time": "2021-09-14T04:36:30.299708Z",
     "start_time": "2021-09-14T04:36:30.277056Z"
    },
    "hidden": true
   },
   "outputs": [
    {
     "name": "stdout",
     "output_type": "stream",
     "text": [
      "dict_keys(['x_ind', 'x_data', 'yc_ind', 'yc_data', 'ycen_ind', 'ycen_data', 'batch_size'])\n",
      " x_ind     :   torch.Size([2, 59843])\n",
      " x_data    :   torch.Size([59843])\n",
      " yc_ind    :   torch.Size([2, 842])\n",
      " yc_data   :   torch.Size([842])\n",
      " ycen_ind  :   None\n",
      " ycen_data :   None\n",
      " batch_size:   732\n"
     ]
    }
   ],
   "source": [
    "print( b.keys())\n",
    "for key in b.keys():\n",
    "    if isinstance(b[key], torch.Tensor):\n",
    "        print(f\" {key:10s}:   {b[key].shape}\")\n",
    "    elif isinstance(b[key], int):\n",
    "        print(f\" {key:10s}:   {b[key]}\")\n",
    "    else:\n",
    "        print(f\" {key:10s}:   {b[key]}\")"
   ]
  },
  {
   "cell_type": "code",
   "execution_count": null,
   "id": "20e114ba",
   "metadata": {
    "ExecuteTime": {
     "end_time": "2021-09-14T04:36:39.388368Z",
     "start_time": "2021-09-14T04:36:39.361657Z"
    },
    "hidden": true
   },
   "outputs": [],
   "source": [
    "i = 0 ;\n",
    "# for b in tqdm(loader, leave=False, disable=(progress == False)):\n",
    "# b = next(iter(loader))\n",
    "print(i, b.keys())\n",
    "i+=1\n",
    "for key in b.keys():\n",
    "\n",
    "    if b[key] is None:\n",
    "        continue\n",
    "    if isinstance(b[key], torch.Tensor):\n",
    "        print(f\" {key:10s}:   {b[key].shape}\")\n",
    "    elif isinstance(b[key], int):\n",
    "        print(f\" {key}:   {b[key]}\")\n",
    "\n",
    "if int_count == 0:\n",
    "    print(\"optimizer.zero_grad()\")\n",
    "    optimizer.zero_grad()"
   ]
  },
  {
   "cell_type": "code",
   "execution_count": 187,
   "id": "a3d6071f",
   "metadata": {
    "ExecuteTime": {
     "end_time": "2021-09-14T05:02:06.223150Z",
     "start_time": "2021-09-14T05:02:06.198121Z"
    },
    "hidden": true
   },
   "outputs": [],
   "source": []
  },
  {
   "cell_type": "code",
   "execution_count": 188,
   "id": "0976e5a3",
   "metadata": {
    "ExecuteTime": {
     "end_time": "2021-09-14T05:02:11.008991Z",
     "start_time": "2021-09-14T05:02:10.990340Z"
    },
    "hidden": true
   },
   "outputs": [
    {
     "name": "stdout",
     "output_type": "stream",
     "text": [
      "Normalize loss : None\n",
      "Normalize loss : 732\n"
     ]
    }
   ],
   "source": [
    "norm = normalize_loss\n",
    "print(f\"Normalize loss : {norm}\")\n",
    "if norm is None:\n",
    "    norm = b[\"batch_size\"] * num_int_batches\n",
    "print(f\"Normalize loss : {norm}\")\n",
    "\n",
    "    "
   ]
  },
  {
   "cell_type": "code",
   "execution_count": 180,
   "id": "8735f9d9",
   "metadata": {
    "ExecuteTime": {
     "end_time": "2021-09-14T04:59:13.029086Z",
     "start_time": "2021-09-14T04:59:13.011227Z"
    },
    "hidden": true
   },
   "outputs": [],
   "source": [
    "# fwd = batch_forward(net, b=b, \n",
    "#                     input_size=loader.dataset.input_size, \n",
    "#                     loss_class=loss_class, loss_regr=loss_regr, \n",
    "#                     weights_class=weights_class, weights_regr=weights_regr, censored_weight=censored_weight, \n",
    "#                     dev=dev)\n",
    "fwd = out"
   ]
  },
  {
   "cell_type": "code",
   "execution_count": 190,
   "id": "2ce29fca",
   "metadata": {
    "ExecuteTime": {
     "end_time": "2021-09-14T05:03:54.805310Z",
     "start_time": "2021-09-14T05:03:54.785473Z"
    },
    "hidden": true
   },
   "outputs": [
    {
     "name": "stdout",
     "output_type": "stream",
     "text": [
      " loss: 555.0751953125      loss_norm: 0.7582994699478149    <class 'torch.Tensor'>\n"
     ]
    }
   ],
   "source": [
    "loss = fwd[\"yc_loss\"] + fwd[\"yr_loss\"]\n",
    "loss_norm = loss / norm\n",
    "print(f\" loss: {loss}      loss_norm: {loss_norm}    {type(loss_norm)}\")\n"
   ]
  },
  {
   "cell_type": "code",
   "execution_count": 191,
   "id": "b460a348",
   "metadata": {
    "ExecuteTime": {
     "end_time": "2021-09-14T05:04:39.089099Z",
     "start_time": "2021-09-14T05:04:39.065186Z"
    },
    "hidden": true
   },
   "outputs": [],
   "source": [
    "loss_norm.backward()"
   ]
  },
  {
   "cell_type": "code",
   "execution_count": 192,
   "id": "c1d4433d",
   "metadata": {
    "ExecuteTime": {
     "end_time": "2021-09-14T05:05:02.920283Z",
     "start_time": "2021-09-14T05:05:02.901496Z"
    },
    "hidden": true
   },
   "outputs": [
    {
     "name": "stdout",
     "output_type": "stream",
     "text": [
      "1 1\n"
     ]
    }
   ],
   "source": [
    "int_count += 1\n",
    "print(int_count, num_int_batches)"
   ]
  },
  {
   "cell_type": "code",
   "execution_count": 193,
   "id": "892a21ff",
   "metadata": {
    "ExecuteTime": {
     "end_time": "2021-09-14T05:05:20.428789Z",
     "start_time": "2021-09-14T05:05:20.396079Z"
    },
    "hidden": true
   },
   "outputs": [
    {
     "name": "stdout",
     "output_type": "stream",
     "text": [
      " optimizer.step()\n"
     ]
    }
   ],
   "source": [
    "if int_count == num_int_batches:\n",
    "    print(\" optimizer.step()\")\n",
    "    optimizer.step()\n",
    "    int_count = 0"
   ]
  },
  {
   "cell_type": "code",
   "execution_count": 194,
   "id": "c4f9bf13",
   "metadata": {
    "ExecuteTime": {
     "end_time": "2021-09-14T05:06:54.896897Z",
     "start_time": "2021-09-14T05:06:54.879402Z"
    },
    "hidden": true
   },
   "outputs": [],
   "source": [
    "if int_count > 0:\n",
    "    ## process tail batch (should not happen)\n",
    "    optimizer.step()"
   ]
  },
  {
   "cell_type": "markdown",
   "id": "2b824ca3",
   "metadata": {
    "heading_collapsed": true
   },
   "source": [
    "###  `batch_forward()`"
   ]
  },
  {
   "cell_type": "code",
   "execution_count": 130,
   "id": "41d40ccd",
   "metadata": {
    "ExecuteTime": {
     "end_time": "2021-09-14T04:37:35.206388Z",
     "start_time": "2021-09-14T04:37:35.189198Z"
    },
    "hidden": true
   },
   "outputs": [],
   "source": [
    "# def batch_forward(net, b, input_size, loss_class, loss_regr, weights_class, weights_regr, censored_weight=[], dev=\"cpu\"):\n",
    "\n",
    "\n",
    "# fwd = batch_forward(net, b=b, \n",
    "#                     input_size=loader.dataset.input_size, \n",
    "#                     loss_class=loss_class, \n",
    "#                     loss_regr=loss_regr, \n",
    "#                     weights_class=weights_class, \n",
    "#                     weights_regr=weights_regr, \n",
    "#                     censored_weight=censored_weight, \n",
    "#                     dev=dev)"
   ]
  },
  {
   "cell_type": "code",
   "execution_count": 131,
   "id": "ce728e69",
   "metadata": {
    "ExecuteTime": {
     "end_time": "2021-09-14T04:39:16.132993Z",
     "start_time": "2021-09-14T04:39:16.116388Z"
    },
    "hidden": true
   },
   "outputs": [],
   "source": [
    "input_size = loader.dataset.input_size\n",
    "#                     loss_class = loss_class\n",
    "#                     loss_regr  = loss_regr\n",
    "#                     weights_class=weights_class, \n",
    "#                     weights_regr=weights_regr, \n",
    "#                     censored_weight=censored_weight, \n",
    "#                     dev=dev)"
   ]
  },
  {
   "cell_type": "code",
   "execution_count": 137,
   "id": "5ca4a056",
   "metadata": {
    "ExecuteTime": {
     "end_time": "2021-09-14T04:41:39.009362Z",
     "start_time": "2021-09-14T04:41:38.987669Z"
    },
    "hidden": true
   },
   "outputs": [
    {
     "name": "stdout",
     "output_type": "stream",
     "text": [
      " input size : 85277\n",
      "tensor([[ 0,  0,  0,  0],\n",
      "        [10, 13, 26, 27]])\n",
      "tensor([[  731,   731,   731,   731],\n",
      "        [23093, 23094, 23550, 40168]])\n"
     ]
    }
   ],
   "source": [
    "print(f\" input size : {input_size}\")\n",
    "print(b[\"x_ind\"][:,:4])\n",
    "print(b[\"x_ind\"][:,-4:])"
   ]
  },
  {
   "cell_type": "code",
   "execution_count": 138,
   "id": "25d735cd",
   "metadata": {
    "ExecuteTime": {
     "end_time": "2021-09-14T04:41:55.843811Z",
     "start_time": "2021-09-14T04:41:55.823900Z"
    },
    "hidden": true
   },
   "outputs": [
    {
     "name": "stdout",
     "output_type": "stream",
     "text": [
      "tensor(indices=tensor([[    0,     0,     0,  ...,   731,   731,   731],\n",
      "                       [   10,    13,    26,  ..., 23094, 23550, 40168]]),\n",
      "       values=tensor([1., 1., 1.,  ..., 1., 1., 1.]),\n",
      "       size=(732, 85277), nnz=59843, layout=torch.sparse_coo)\n"
     ]
    }
   ],
   "source": [
    "X = torch.sparse_coo_tensor(\n",
    "    b[\"x_ind\"],\n",
    "    b[\"x_data\"],\n",
    "    size = [b[\"batch_size\"], input_size]).to(dev, non_blocking=True)\n",
    "\n",
    "print(X)"
   ]
  },
  {
   "cell_type": "code",
   "execution_count": 139,
   "id": "2a557872",
   "metadata": {
    "ExecuteTime": {
     "end_time": "2021-09-14T04:42:09.714465Z",
     "start_time": "2021-09-14T04:42:09.693651Z"
    },
    "hidden": true
   },
   "outputs": [],
   "source": [
    "\n",
    "yc_hat_all, yr_hat_all = net(X)\n"
   ]
  },
  {
   "cell_type": "code",
   "execution_count": 149,
   "id": "7bddfa14",
   "metadata": {
    "ExecuteTime": {
     "end_time": "2021-09-14T04:44:49.661051Z",
     "start_time": "2021-09-14T04:44:49.644279Z"
    },
    "hidden": true
   },
   "outputs": [],
   "source": [
    "np.set_printoptions( linewidth=120)\n",
    "torch.set_printoptions(linewidth=120)"
   ]
  },
  {
   "cell_type": "code",
   "execution_count": 150,
   "id": "df1cfd4b",
   "metadata": {
    "ExecuteTime": {
     "end_time": "2021-09-14T04:44:50.221911Z",
     "start_time": "2021-09-14T04:44:50.201244Z"
    },
    "hidden": true
   },
   "outputs": [
    {
     "name": "stdout",
     "output_type": "stream",
     "text": [
      "torch.Size([732, 100])\n",
      "tensor([[ 0.1160, -0.0162,  0.1878,  0.1004, -0.0150,  0.0352,  0.0791,  0.0316,  0.2313,  0.2962],\n",
      "        [ 0.1471,  0.1062,  0.1394, -0.0030,  0.0516,  0.0937,  0.0319,  0.0841,  0.2850,  0.1720],\n",
      "        [ 0.2111,  0.0163,  0.1404,  0.0606, -0.0649,  0.1037,  0.0113,  0.0795,  0.2086,  0.2310],\n",
      "        [ 0.1436,  0.0634,  0.1619,  0.0455, -0.0168,  0.0054,  0.0352,  0.1109,  0.2324,  0.2464],\n",
      "        [ 0.1452,  0.0182,  0.2110,  0.0465,  0.0157,  0.1497,  0.1226,  0.0303,  0.2124,  0.1476]],\n",
      "       grad_fn=<SliceBackward>)\n",
      "torch.Size([732, 0])\n"
     ]
    }
   ],
   "source": [
    "print(yc_hat_all.shape)\n",
    "print(yc_hat_all[:5,:10])\n",
    "print(yr_hat_all.shape)"
   ]
  },
  {
   "cell_type": "code",
   "execution_count": 151,
   "id": "90f92199",
   "metadata": {
    "ExecuteTime": {
     "end_time": "2021-09-14T04:45:16.833611Z",
     "start_time": "2021-09-14T04:45:16.815755Z"
    },
    "hidden": true
   },
   "outputs": [],
   "source": [
    "out = {}\n",
    "out[\"yc_hat_all\"] = yc_hat_all\n",
    "out[\"yr_hat_all\"] = yr_hat_all\n",
    "out[\"yc_loss\"]    = 0\n",
    "out[\"yr_loss\"]    = 0\n",
    "out[\"yc_weights\"] = 0\n",
    "out[\"yr_weights\"] = 0"
   ]
  },
  {
   "cell_type": "code",
   "execution_count": 163,
   "id": "98d86859",
   "metadata": {
    "ExecuteTime": {
     "end_time": "2021-09-14T04:50:54.288584Z",
     "start_time": "2021-09-14T04:50:54.265133Z"
    },
    "hidden": true
   },
   "outputs": [
    {
     "name": "stdout",
     "output_type": "stream",
     "text": [
      "torch.Size([2, 842]) \n",
      " tensor([[ 0,  1,  2,  3,  3,  4,  5,  6,  7,  8,  9, 10, 11, 11, 12, 13, 14, 15, 16, 17],\n",
      "        [72, 33,  0, 31, 77, 50, 38, 50, 85,  8, 28, 85, 28, 64, 85, 34, 14,  0,  0, 33]])\n",
      "torch.Size([842]) \n",
      " tensor([1., 1., 1., 0., 1., 1., 1., 1., 1., 1., 1., 1., 1., 0., 1., 1., 1., 1., 1., 1.])\n"
     ]
    }
   ],
   "source": [
    "print(b[\"yc_ind\"].shape, '\\n', b[\"yc_ind\"][:,:20])\n",
    "print(b[\"yc_data\"].shape, '\\n', b[\"yc_data\"][:20])"
   ]
  },
  {
   "cell_type": "code",
   "execution_count": 174,
   "id": "dd3adb04",
   "metadata": {
    "ExecuteTime": {
     "end_time": "2021-09-14T04:55:16.884612Z",
     "start_time": "2021-09-14T04:55:16.864091Z"
    },
    "hidden": true
   },
   "outputs": [
    {
     "name": "stdout",
     "output_type": "stream",
     "text": [
      "100\n"
     ]
    }
   ],
   "source": [
    "if net.class_output_size > 0:\n",
    "    print(net.class_output_size)\n",
    "    yc_ind  = b[\"yc_ind\"].to(dev, non_blocking=True)\n",
    "    yc_w    = weights_class[yc_ind[1]]\n",
    "    yc_data = b[\"yc_data\"].to(dev, non_blocking=True)\n",
    "    yc_hat  = yc_hat_all[yc_ind[0], yc_ind[1]]\n",
    "    out[\"yc_ind\"]  = yc_ind\n",
    "    out[\"yc_data\"] = yc_data\n",
    "    out[\"yc_hat\"]  = yc_hat\n",
    "    out[\"yc_loss\"] = (loss_class(yc_hat, yc_data) * yc_w).sum()\n",
    "    out[\"yc_weights\"] = yc_w.sum()"
   ]
  },
  {
   "cell_type": "code",
   "execution_count": 177,
   "id": "6e1154fd",
   "metadata": {
    "ExecuteTime": {
     "end_time": "2021-09-14T04:56:01.037600Z",
     "start_time": "2021-09-14T04:56:01.008366Z"
    },
    "hidden": true
   },
   "outputs": [
    {
     "name": "stdout",
     "output_type": "stream",
     "text": [
      "torch.Size([842]) \n",
      " tensor([1., 1., 1., 0., 1., 1., 1., 1., 1., 1., 1., 1., 1., 0., 1., 1., 1., 1., 1., 1.])\n",
      "torch.Size([842]) \n",
      " tensor([0.1159, 0.1720, 0.2111, 0.1034, 0.0087, 0.1060, 0.1078, 0.1717, 0.0474, 0.2050, 0.2578, 0.0888, 0.2508, 0.2273,\n",
      "        0.0260, 0.1242, 0.1250, 0.1783, 0.0751, 0.1576], grad_fn=<SliceBackward>)\n",
      "torch.Size([842]) \n",
      " tensor([1., 1., 1., 1., 1., 1., 1., 1., 1., 1., 1., 1., 1., 1., 1., 1., 1., 1., 1., 1.])\n",
      "torch.Size([842]) \n",
      " tensor([0.6369, 0.6109, 0.5931, 0.7462, 0.6888, 0.6416, 0.6407, 0.6110, 0.6697, 0.5959, 0.5725, 0.6497, 0.5756, 0.8132,\n",
      "        0.6802, 0.6330, 0.6326, 0.6080, 0.6563, 0.6174], grad_fn=<SliceBackward>)\n",
      "torch.Size([]) \n",
      " tensor(555.0752, grad_fn=<SumBackward0>)\n"
     ]
    }
   ],
   "source": [
    "print(b[\"yc_data\"].shape, '\\n', b[\"yc_data\"][:20])\n",
    "print(yc_hat.shape, '\\n', yc_hat[:20])\n",
    "print(yc_w.shape, '\\n' , yc_w[:20] )\n",
    "print(loss_class(yc_hat, yc_data).shape, '\\n', loss_class(yc_hat, yc_data)[:20])\n",
    "print(out[\"yc_loss\"].shape, '\\n', out[\"yc_loss\"])"
   ]
  },
  {
   "cell_type": "code",
   "execution_count": 178,
   "id": "994b5450",
   "metadata": {
    "ExecuteTime": {
     "end_time": "2021-09-14T04:57:05.393723Z",
     "start_time": "2021-09-14T04:57:05.373948Z"
    },
    "hidden": true
   },
   "outputs": [
    {
     "data": {
      "text/plain": [
       "0"
      ]
     },
     "execution_count": 178,
     "metadata": {},
     "output_type": "execute_result"
    }
   ],
   "source": [
    "net.regr_output_size"
   ]
  },
  {
   "cell_type": "code",
   "execution_count": 179,
   "id": "f058b76b",
   "metadata": {
    "ExecuteTime": {
     "end_time": "2021-09-14T04:57:27.497538Z",
     "start_time": "2021-09-14T04:57:27.475777Z"
    },
    "hidden": true
   },
   "outputs": [
    {
     "name": "stdout",
     "output_type": "stream",
     "text": [
      "net.regr_output_size is 0\n"
     ]
    }
   ],
   "source": [
    "if net.regr_output_size > 0:\n",
    "    yr_ind  = b[\"yr_ind\"].to(dev, non_blocking=True)\n",
    "    yr_w    = weights_regr[yr_ind[1]]\n",
    "    yr_data = b[\"yr_data\"].to(dev, non_blocking=True)\n",
    "    yr_hat  = yr_hat_all[yr_ind[0], yr_ind[1]]\n",
    "\n",
    "    out[\"ycen_data\"] = b[\"ycen_data\"]\n",
    "    if out[\"ycen_data\"] is not None:\n",
    "        out[\"ycen_data\"] = out[\"ycen_data\"].to(dev, non_blocking=True)\n",
    "\n",
    "        if len(censored_weight) > 0:\n",
    "            ## updating weights of censored data\n",
    "            yrcen_w = yr_w * censored_weight[yr_ind[1]]\n",
    "            yr_w    = torch.where(out[\"ycen_data\"] == 0, yr_w, yrcen_w)\n",
    "\n",
    "    out[\"yr_ind\"]  = yr_ind\n",
    "    out[\"yr_data\"] = yr_data\n",
    "    out[\"yr_hat\"]  = yr_hat\n",
    "    out[\"yr_loss\"] = (loss_regr(input=yr_hat, target=yr_data, censor=out[\"ycen_data\"]) * yr_w).sum()\n",
    "    out[\"yr_weights\"] = yr_w.sum()\n",
    "else:\n",
    "    print(\"net.regr_output_size is 0\")"
   ]
  },
  {
   "cell_type": "code",
   "execution_count": null,
   "id": "1a2c45b8",
   "metadata": {
    "hidden": true
   },
   "outputs": [],
   "source": []
  },
  {
   "cell_type": "code",
   "execution_count": null,
   "id": "c08e5c4d",
   "metadata": {
    "hidden": true
   },
   "outputs": [],
   "source": []
  },
  {
   "cell_type": "code",
   "execution_count": null,
   "id": "d99ef75e",
   "metadata": {
    "hidden": true
   },
   "outputs": [],
   "source": []
  },
  {
   "cell_type": "code",
   "execution_count": null,
   "id": "3e3dfc28",
   "metadata": {
    "hidden": true
   },
   "outputs": [],
   "source": []
  },
  {
   "cell_type": "code",
   "execution_count": 59,
   "id": "a3c77c1c",
   "metadata": {
    "ExecuteTime": {
     "end_time": "2021-07-21T22:47:10.639523Z",
     "start_time": "2021-07-21T22:47:10.617490Z"
    },
    "hidden": true
   },
   "outputs": [],
   "source": [
    "\n",
    "# i = torch.LongTensor((np.arange(10),np.arange(10)))\n",
    "# v = torch.FloatTensor(np.random.normal(size=10))\n",
    "# G = torch.sparse.FloatTensor(i,v,torch.Size((100,100)))\n",
    "# x = torch.Tensor(np.random.normal(size=100))\n",
    "# device = torch.device('cpu')\n",
    "# x = x.to(device)\n",
    "# torch.mm(G, x.unsqueeze(1))"
   ]
  },
  {
   "cell_type": "markdown",
   "id": "a9c6aac7",
   "metadata": {},
   "source": [
    "### training functions "
   ]
  },
  {
   "cell_type": "code",
   "execution_count": 209,
   "id": "8a303b79",
   "metadata": {
    "ExecuteTime": {
     "end_time": "2021-09-14T05:16:40.037358Z",
     "start_time": "2021-09-14T05:16:40.012310Z"
    }
   },
   "outputs": [],
   "source": [
    "\n",
    "def train_class_regr(net, optimizer, loader, loss_class, loss_regr, dev,\n",
    "                     weights_class, weights_regr, censored_weight,\n",
    "                     normalize_loss=None, num_int_batches=1, progress=True):\n",
    "    \n",
    "    ## Set the model in training mode.\n",
    "    net.train()\n",
    "\n",
    "    int_count = 0\n",
    "    for b in tqdm(loader, leave=False, disable=(progress == False)):\n",
    "        if int_count == 0:\n",
    "            optimizer.zero_grad()\n",
    "\n",
    "        norm = normalize_loss\n",
    "        if norm is None:\n",
    "            norm = b[\"batch_size\"] * num_int_batches\n",
    "\n",
    "        fwd = batch_forward(net, b=b, \n",
    "                            input_size=loader.dataset.input_size, \n",
    "                            loss_class=loss_class, loss_regr=loss_regr, \n",
    "                            weights_class=weights_class, weights_regr=weights_regr, censored_weight=censored_weight, \n",
    "                            dev=dev)\n",
    "        loss = fwd[\"yc_loss\"] + fwd[\"yr_loss\"]\n",
    "        loss_norm = loss / norm\n",
    "    \n",
    "        loss_norm.backward()\n",
    "\n",
    "        int_count += 1\n",
    "        if int_count == num_int_batches:\n",
    "            optimizer.step()\n",
    "            int_count = 0\n",
    "\n",
    "    if int_count > 0:\n",
    "        ## process tail batch (should not happen)\n",
    "        optimizer.step()\n"
   ]
  },
  {
   "cell_type": "code",
   "execution_count": 201,
   "id": "b837a114",
   "metadata": {
    "ExecuteTime": {
     "end_time": "2021-09-14T05:12:47.467463Z",
     "start_time": "2021-09-14T05:12:47.444049Z"
    }
   },
   "outputs": [],
   "source": [
    "def batch_forward(net, b, input_size, loss_class, loss_regr, weights_class, weights_regr, censored_weight=[], dev=\"cpu\"):\n",
    "    \"\"\"returns full outputs from the network for the batch b\"\"\"\n",
    "    ## Convert CSR tensor to COO tensor.\n",
    "    X = torch.sparse_coo_tensor(\n",
    "        b[\"x_ind\"],\n",
    "        b[\"x_data\"],\n",
    "        size = [b[\"batch_size\"], input_size]).to(dev, non_blocking=True)\n",
    "\n",
    "    yc_hat_all, yr_hat_all = net(X)\n",
    "\n",
    "    out = {}\n",
    "    out[\"yc_hat_all\"] = yc_hat_all\n",
    "    out[\"yr_hat_all\"] = yr_hat_all\n",
    "    out[\"yc_loss\"]    = 0\n",
    "    out[\"yr_loss\"]    = 0\n",
    "    out[\"yc_weights\"] = 0\n",
    "    out[\"yr_weights\"] = 0\n",
    "\n",
    "    if net.class_output_size > 0:\n",
    "        yc_ind  = b[\"yc_ind\"].to(dev, non_blocking=True)\n",
    "        yc_w    = weights_class[yc_ind[1]]\n",
    "        yc_data = b[\"yc_data\"].to(dev, non_blocking=True)\n",
    "        yc_hat  = yc_hat_all[yc_ind[0], yc_ind[1]]\n",
    "        out[\"yc_ind\"]  = yc_ind\n",
    "        out[\"yc_data\"] = yc_data\n",
    "        out[\"yc_hat\"]  = yc_hat\n",
    "        out[\"yc_loss\"] = (loss_class(yc_hat, yc_data) * yc_w).sum()\n",
    "        out[\"yc_weights\"] = yc_w.sum()\n",
    "\n",
    "    if net.regr_output_size > 0:\n",
    "        yr_ind  = b[\"yr_ind\"].to(dev, non_blocking=True)\n",
    "        yr_w    = weights_regr[yr_ind[1]]\n",
    "        yr_data = b[\"yr_data\"].to(dev, non_blocking=True)\n",
    "        yr_hat  = yr_hat_all[yr_ind[0], yr_ind[1]]\n",
    "\n",
    "        out[\"ycen_data\"] = b[\"ycen_data\"]\n",
    "        if out[\"ycen_data\"] is not None:\n",
    "            out[\"ycen_data\"] = out[\"ycen_data\"].to(dev, non_blocking=True)\n",
    "            \n",
    "            if len(censored_weight) > 0:\n",
    "                ## updating weights of censored data\n",
    "                yrcen_w = yr_w * censored_weight[yr_ind[1]]\n",
    "                yr_w    = torch.where(out[\"ycen_data\"] == 0, yr_w, yrcen_w)\n",
    "\n",
    "        out[\"yr_ind\"]  = yr_ind\n",
    "        out[\"yr_data\"] = yr_data\n",
    "        out[\"yr_hat\"]  = yr_hat\n",
    "        out[\"yr_loss\"] = (loss_regr(input=yr_hat, target=yr_data, censor=out[\"ycen_data\"]) * yr_w).sum()\n",
    "        out[\"yr_weights\"] = yr_w.sum()\n",
    "\n",
    "    return out"
   ]
  },
  {
   "cell_type": "markdown",
   "id": "e672006a",
   "metadata": {
    "heading_collapsed": true
   },
   "source": [
    "## Model Saving "
   ]
  },
  {
   "cell_type": "code",
   "execution_count": 210,
   "id": "dff3c882",
   "metadata": {
    "ExecuteTime": {
     "end_time": "2021-09-14T05:17:59.461616Z",
     "start_time": "2021-09-14T05:17:59.431853Z"
    },
    "hidden": true
   },
   "outputs": [
    {
     "ename": "NameError",
     "evalue": "name 'name' is not defined",
     "output_type": "error",
     "traceback": [
      "\u001b[0;31m---------------------------------------------------------------------------\u001b[0m",
      "\u001b[0;31mNameError\u001b[0m                                 Traceback (most recent call last)",
      "\u001b[0;32m<ipython-input-210-d832e6b85dda>\u001b[0m in \u001b[0;36m<module>\u001b[0;34m\u001b[0m\n\u001b[1;32m      3\u001b[0m    \u001b[0mos\u001b[0m\u001b[0;34m.\u001b[0m\u001b[0mmakedirs\u001b[0m\u001b[0;34m(\u001b[0m\u001b[0margs\u001b[0m\u001b[0;34m.\u001b[0m\u001b[0moutput_dir\u001b[0m\u001b[0;34m)\u001b[0m\u001b[0;34m\u001b[0m\u001b[0;34m\u001b[0m\u001b[0m\n\u001b[1;32m      4\u001b[0m \u001b[0;34m\u001b[0m\u001b[0m\n\u001b[0;32m----> 5\u001b[0;31m \u001b[0mmodel_file\u001b[0m \u001b[0;34m=\u001b[0m \u001b[0;34mf\"{args.output_dir}/{name}.pt\"\u001b[0m\u001b[0;34m\u001b[0m\u001b[0;34m\u001b[0m\u001b[0m\n\u001b[0m\u001b[1;32m      6\u001b[0m \u001b[0mout_file\u001b[0m   \u001b[0;34m=\u001b[0m \u001b[0;34mf\"{args.output_dir}/{name}.json\"\u001b[0m\u001b[0;34m\u001b[0m\u001b[0;34m\u001b[0m\u001b[0m\n\u001b[1;32m      7\u001b[0m \u001b[0;34m\u001b[0m\u001b[0m\n",
      "\u001b[0;31mNameError\u001b[0m: name 'name' is not defined"
     ]
    }
   ],
   "source": [
    "#####   model saving   #####\n",
    "if not os.path.exists(args.output_dir):\n",
    "   os.makedirs(args.output_dir)\n",
    "\n",
    "model_file = f\"{args.output_dir}/{name}.pt\"\n",
    "out_file   = f\"{args.output_dir}/{name}.json\"\n",
    "\n",
    "if args.save_model:\n",
    "   torch.save(net.state_dict(), model_file)\n",
    "   vprint(f\"Saved model weights into '{model_file}'.\")\n",
    "\n",
    "results_va[\"classification\"][\"num_pos\"] = num_pos_va\n",
    "results_va[\"classification\"][\"num_neg\"] = num_neg_va\n",
    "results_va[\"regression\"][\"num_samples\"] = num_regr_va\n",
    "\n",
    "if results_tr is not None:\n",
    "    results_tr[\"classification\"][\"num_pos\"] = num_pos - num_pos_va\n",
    "    results_tr[\"classification\"][\"num_neg\"] = num_neg - num_neg_va\n",
    "    results_tr[\"regression\"][\"num_samples\"] = num_regr - num_regr_va\n",
    "\n",
    "sc.save_results(out_file, args, validation=results_va, training=results_tr)\n",
    "\n",
    "vprint(f\"Saved config and results into '{out_file}'.\\nYou can load the results by:\\n  import sparsechem as sc\\n  res = sc.load_results('{out_file}')\\n\")\n"
   ]
  },
  {
   "cell_type": "code",
   "execution_count": null,
   "id": "38bc3584",
   "metadata": {
    "hidden": true
   },
   "outputs": [],
   "source": []
  }
 ],
 "metadata": {
  "kernelspec": {
   "display_name": "Python [conda env:pyt-gpu]",
   "language": "python",
   "name": "conda-env-pyt-gpu-py"
  },
  "language_info": {
   "codemirror_mode": {
    "name": "ipython",
    "version": 3
   },
   "file_extension": ".py",
   "mimetype": "text/x-python",
   "name": "python",
   "nbconvert_exporter": "python",
   "pygments_lexer": "ipython3",
   "version": "3.9.5"
  },
  "toc": {
   "base_numbering": 1,
   "nav_menu": {},
   "number_sections": true,
   "sideBar": true,
   "skip_h1_title": false,
   "title_cell": "Table of Contents",
   "title_sidebar": "Contents",
   "toc_cell": false,
   "toc_position": {},
   "toc_section_display": true,
   "toc_window_display": false
  }
 },
 "nbformat": 4,
 "nbformat_minor": 5
}
