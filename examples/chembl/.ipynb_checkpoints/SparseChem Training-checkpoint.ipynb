{
 "cells": [
  {
   "cell_type": "code",
   "execution_count": 2,
   "id": "2e4d685f",
   "metadata": {
    "ExecuteTime": {
     "end_time": "2021-09-16T14:35:04.465226Z",
     "start_time": "2021-09-16T14:35:03.381238Z"
    }
   },
   "outputs": [
    {
     "name": "stdout",
     "output_type": "stream",
     "text": [
      "# packages in environment at /home/kbardool/miniconda3:\r\n",
      "#\r\n",
      "# Name                    Version                   Build  Channel\r\n",
      "_libgcc_mutex             0.1                        main  \r\n",
      "_openmp_mutex             4.5                       1_gnu  \r\n",
      "alabaster                 0.7.12                   pypi_0    pypi\r\n",
      "altair                    4.1.0                    pypi_0    pypi\r\n",
      "argon2-cffi               20.1.0           py38h27cfd23_1  \r\n",
      "astor                     0.8.1                    pypi_0    pypi\r\n",
      "attrs                     21.2.0             pyhd3eb1b0_0  \r\n",
      "babel                     2.9.1                    pypi_0    pypi\r\n",
      "backcall                  0.2.0              pyhd3eb1b0_0  \r\n",
      "backports-zoneinfo        0.2.1                    pypi_0    pypi\r\n",
      "base58                    2.1.0                    pypi_0    pypi\r\n",
      "bleach                    4.0.0              pyhd3eb1b0_0  \r\n",
      "blinker                   1.4                      pypi_0    pypi\r\n",
      "brotlipy                  0.7.0           py38h27cfd23_1003  \r\n",
      "ca-certificates           2021.5.30            ha878542_0    conda-forge\r\n",
      "cachetools                4.2.2                    pypi_0    pypi\r\n",
      "certifi                   2021.5.30        py38h578d9bd_0    conda-forge\r\n",
      "cffi                      1.14.6           py38h400218f_0  \r\n",
      "charset-normalizer        2.0.4              pyhd3eb1b0_0  \r\n",
      "click                     7.1.2                    pypi_0    pypi\r\n",
      "conda                     4.10.3           py38h578d9bd_0    conda-forge\r\n",
      "conda-package-handling    1.7.3            py38h27cfd23_1  \r\n",
      "cryptography              3.4.7            py38hd23ed53_0  \r\n",
      "cycler                    0.10.0                   pypi_0    pypi\r\n",
      "debugpy                   1.4.1            py38h295c915_0  \r\n",
      "decorator                 4.4.2                    pypi_0    pypi\r\n",
      "defusedxml                0.7.1              pyhd3eb1b0_0  \r\n",
      "docutils                  0.17.1                   pypi_0    pypi\r\n",
      "entrypoints               0.3                      py38_0  \r\n",
      "future                    0.18.2                   pypi_0    pypi\r\n",
      "gitdb                     4.0.7                    pypi_0    pypi\r\n",
      "gitpython                 3.1.18                   pypi_0    pypi\r\n",
      "icu                       68.1                 h58526e2_0    conda-forge\r\n",
      "idna                      3.2                pyhd3eb1b0_0  \r\n",
      "imageio                   2.9.0                    pypi_0    pypi\r\n",
      "imageio-ffmpeg            0.4.5                    pypi_0    pypi\r\n",
      "imagesize                 1.2.0                    pypi_0    pypi\r\n",
      "importlib-metadata        3.10.0           py38h06a4308_0  \r\n",
      "importlib_metadata        3.10.0               hd3eb1b0_0  \r\n",
      "ipykernel                 6.2.0            py38h06a4308_1  \r\n",
      "ipyparallel               6.3.0                    pypi_0    pypi\r\n",
      "ipython                   7.27.0                   pypi_0    pypi\r\n",
      "ipython_genutils          0.2.0              pyhd3eb1b0_1  \r\n",
      "ipywidgets                7.6.4                    pypi_0    pypi\r\n",
      "jedi                      0.18.0           py38h06a4308_1  \r\n",
      "jinja2                    3.0.1              pyhd3eb1b0_0  \r\n",
      "jsonschema                3.2.0                      py_2  \r\n",
      "jupyter-console           6.4.0                    pypi_0    pypi\r\n",
      "jupyter_client            6.1.12             pyhd3eb1b0_0  \r\n",
      "jupyter_contrib_core      0.3.3                      py_2    conda-forge\r\n",
      "jupyter_contrib_nbextensions 0.5.1              pyhd8ed1ab_2    conda-forge\r\n",
      "jupyter_core              4.7.1            py38h06a4308_0  \r\n",
      "jupyter_highlight_selected_word 0.2.0           py38h578d9bd_1002    conda-forge\r\n",
      "jupyter_latex_envs        1.4.6           pyhd8ed1ab_1002    conda-forge\r\n",
      "jupyter_nbextensions_configurator 0.4.1            py38h578d9bd_2    conda-forge\r\n",
      "jupyterlab-widgets        1.0.1                    pypi_0    pypi\r\n",
      "kiwisolver                1.3.2                    pypi_0    pypi\r\n",
      "ld_impl_linux-64          2.35.1               h7274673_9  \r\n",
      "libffi                    3.3                  he6710b0_2  \r\n",
      "libgcc-ng                 9.3.0               h5101ec6_17  \r\n",
      "libgomp                   9.3.0               h5101ec6_17  \r\n",
      "libiconv                  1.16                 h516909a_0    conda-forge\r\n",
      "libsodium                 1.0.18               h7b6447c_0  \r\n",
      "libstdcxx-ng              9.3.0               hd4cf53a_17  \r\n",
      "libxml2                   2.9.12               h72842e0_0    conda-forge\r\n",
      "libxslt                   1.1.33               h15afd5d_2    conda-forge\r\n",
      "lxml                      4.6.3            py38hf1fe3a4_0    conda-forge\r\n",
      "markupsafe                2.0.1            py38h27cfd23_0  \r\n",
      "matplotlib-inline         0.1.2              pyhd3eb1b0_2  \r\n",
      "mistune                   0.8.4           py38h7b6447c_1000  \r\n",
      "mouseinfo                 0.1.3                    pypi_0    pypi\r\n",
      "nbconvert                 5.6.1                    py38_0  \r\n",
      "nbformat                  5.1.3              pyhd3eb1b0_0  \r\n",
      "ncurses                   6.2                  he6710b0_1  \r\n",
      "nose                      1.3.7                    pypi_0    pypi\r\n",
      "notebook                  6.4.3            py38h06a4308_0  \r\n",
      "numpy                     1.21.2                   pypi_0    pypi\r\n",
      "openssl                   1.1.1l               h7f8727e_0  \r\n",
      "packaging                 21.0               pyhd3eb1b0_0  \r\n",
      "pandas                    1.3.2                    pypi_0    pypi\r\n",
      "pandoc                    2.12                 h06a4308_0  \r\n",
      "pandocfilters             1.4.3            py38h06a4308_1  \r\n",
      "parso                     0.8.2              pyhd3eb1b0_0  \r\n",
      "pexpect                   4.8.0              pyhd3eb1b0_3  \r\n",
      "pickleshare               0.7.5           pyhd3eb1b0_1003  \r\n",
      "pillow                    8.3.2                    pypi_0    pypi\r\n",
      "pip                       21.2.4                   pypi_0    pypi\r\n",
      "proglog                   0.1.9                    pypi_0    pypi\r\n",
      "prometheus_client         0.11.0             pyhd3eb1b0_0  \r\n",
      "prompt-toolkit            3.0.17             pyh06a4308_0  \r\n",
      "protobuf                  3.17.3                   pypi_0    pypi\r\n",
      "ptyprocess                0.7.0              pyhd3eb1b0_2  \r\n",
      "pyarrow                   5.0.0                    pypi_0    pypi\r\n",
      "pycosat                   0.6.3            py38h7b6447c_1  \r\n",
      "pycparser                 2.20                       py_2  \r\n",
      "pydeck                    0.7.0                    pypi_0    pypi\r\n",
      "pygetwindow               0.0.9                    pypi_0    pypi\r\n",
      "pygments                  2.10.0             pyhd3eb1b0_0  \r\n",
      "pymsgbox                  1.0.9                    pypi_0    pypi\r\n",
      "pyopenssl                 20.0.1             pyhd3eb1b0_1  \r\n",
      "pyparsing                 2.4.7              pyhd3eb1b0_0  \r\n",
      "pyperclip                 1.8.2                    pypi_0    pypi\r\n",
      "pyrect                    0.1.4                    pypi_0    pypi\r\n",
      "pyrsistent                0.17.3           py38h7b6447c_0  \r\n",
      "pyscreeze                 0.1.27                   pypi_0    pypi\r\n",
      "pysocks                   1.7.1            py38h06a4308_0  \r\n",
      "python                    3.8.5                h7579374_1  \r\n",
      "python-dateutil           2.8.2              pyhd3eb1b0_0  \r\n",
      "python3-xlib              0.15                     pypi_0    pypi\r\n",
      "python_abi                3.8                      2_cp38    conda-forge\r\n",
      "pytweening                1.0.3                    pypi_0    pypi\r\n",
      "pytz                      2021.1                   pypi_0    pypi\r\n",
      "pyyaml                    5.4.1                    pypi_0    pypi\r\n",
      "pyzmq                     22.2.1           py38h295c915_1  \r\n",
      "qtconsole                 5.1.1                    pypi_0    pypi\r\n",
      "qtpy                      1.11.0                   pypi_0    pypi\r\n",
      "readline                  8.1                  h27cfd23_0  \r\n",
      "requests                  2.26.0             pyhd3eb1b0_0  \r\n",
      "ruamel_yaml               0.15.100         py38h27cfd23_0  \r\n",
      "send2trash                1.5.0              pyhd3eb1b0_1  \r\n",
      "setuptools                52.0.0           py38h06a4308_0  \r\n",
      "six                       1.16.0             pyhd3eb1b0_0  \r\n",
      "smmap                     4.0.0                    pypi_0    pypi\r\n",
      "snowballstemmer           2.1.0                    pypi_0    pypi\r\n",
      "sphinx                    4.1.2                    pypi_0    pypi\r\n",
      "sphinxcontrib-applehelp   1.0.2                    pypi_0    pypi\r\n",
      "sphinxcontrib-devhelp     1.0.2                    pypi_0    pypi\r\n",
      "sphinxcontrib-htmlhelp    2.0.0                    pypi_0    pypi\r\n",
      "sphinxcontrib-jsmath      1.0.1                    pypi_0    pypi\r\n",
      "sphinxcontrib-qthelp      1.0.3                    pypi_0    pypi\r\n",
      "sphinxcontrib-serializinghtml 1.1.5                    pypi_0    pypi\r\n",
      "sqlite                    3.36.0               hc218d9a_0  \r\n",
      "terminado                 0.9.4            py38h06a4308_0  \r\n",
      "testpath                  0.5.0              pyhd3eb1b0_0  \r\n",
      "tk                        8.6.10               hbc83047_0  \r\n",
      "toml                      0.10.2                   pypi_0    pypi\r\n",
      "toolz                     0.11.1                   pypi_0    pypi\r\n",
      "tornado                   6.1              py38h27cfd23_0  \r\n",
      "tqdm                      4.62.1             pyhd3eb1b0_1  \r\n",
      "traitlets                 5.0.5              pyhd3eb1b0_0  \r\n",
      "tzlocal                   3.0                      pypi_0    pypi\r\n",
      "urllib3                   1.26.6             pyhd3eb1b0_1  \r\n",
      "validators                0.18.2                   pypi_0    pypi\r\n",
      "watchdog                  2.1.5                    pypi_0    pypi\r\n",
      "wcwidth                   0.2.5                      py_0  \r\n",
      "webencodings              0.5.1                    py38_1  \r\n",
      "wheel                     0.37.0             pyhd3eb1b0_0  \r\n",
      "widgetsnbextension        3.5.1                    pypi_0    pypi\r\n",
      "xz                        5.2.5                h7b6447c_0  \r\n",
      "yaml                      0.2.5                h7b6447c_0  \r\n",
      "zeromq                    4.3.4                h2531618_0  \r\n",
      "zipp                      3.5.0              pyhd3eb1b0_0  \r\n",
      "zlib                      1.2.11               h7b6447c_3  \r\n"
     ]
    }
   ],
   "source": [
    "!conda list"
   ]
  },
  {
   "cell_type": "code",
   "execution_count": 2,
   "id": "cace61eb",
   "metadata": {
    "ExecuteTime": {
     "end_time": "2021-09-14T03:07:54.072547Z",
     "start_time": "2021-09-14T03:07:54.067328Z"
    }
   },
   "outputs": [
    {
     "name": "stdout",
     "output_type": "stream",
     "text": [
      "['/home/kbardool/git-local/SparseChem/examples/chembl', '/home/kbardool/miniconda3/envs/pyt-cpu/lib/python38.zip', '/home/kbardool/miniconda3/envs/pyt-cpu/lib/python3.8', '/home/kbardool/miniconda3/envs/pyt-cpu/lib/python3.8/lib-dynload', '', '/home/kbardool/miniconda3/envs/pyt-cpu/lib/python3.8/site-packages', '/home/kbardool/git-local/leader_follower', '/home/kbardool/git-local/SparseChem', '/home/kbardool/miniconda3/envs/pyt-cpu/lib/python3.8/site-packages/IPython/extensions', '/home/kbardool/.ipython', '../..']\n"
     ]
    }
   ],
   "source": [
    "import sys\n",
    "if ('../..' not in sys.path):\n",
    "    sys.path.append('../..')\n",
    "print(sys.path)\n"
   ]
  },
  {
   "cell_type": "code",
   "execution_count": 216,
   "id": "8cd2d1de",
   "metadata": {
    "ExecuteTime": {
     "end_time": "2021-09-14T05:25:01.837524Z",
     "start_time": "2021-09-14T05:25:01.744291Z"
    }
   },
   "outputs": [],
   "source": [
    "import os\n",
    "import shutil\n",
    "import subprocess\n",
    "import sparsechem as sc\n",
    "import numpy as np\n",
    "import string\n",
    "import glob\n",
    "import scipy.sparse\n",
    "import pandas as pd\n",
    "from urllib.request import urlretrieve\n",
    "from test_train import random_str\n",
    "import torch \n",
    "from torch.utils.data import DataLoader\n",
    "from torch.optim.lr_scheduler import MultiStepLR\n",
    "from torchinfo import summary\n",
    "from torch.utils.tensorboard import SummaryWriter\n",
    "import pprint\n",
    "import time\n",
    "pp = pprint.PrettyPrinter(indent=4)"
   ]
  },
  {
   "cell_type": "code",
   "execution_count": 40,
   "id": "126b7148",
   "metadata": {
    "ExecuteTime": {
     "end_time": "2021-09-14T03:33:21.400524Z",
     "start_time": "2021-09-14T03:33:21.395069Z"
    }
   },
   "outputs": [],
   "source": [
    "def display_input_parms(args):\n",
    "    \"\"\"Display Configuration values.\"\"\"\n",
    "    print(\"\\n   Arguments passed :\")\n",
    "    print(\"   --------------------\")\n",
    "    for a in dir(args):\n",
    "        if not a.startswith(\"__\") and not callable(getattr(args, a)):\n",
    "            print(\"   {:30} {}\".format(a, getattr(args, a)))\n",
    "    print(\"\\n\")\n",
    " "
   ]
  },
  {
   "cell_type": "code",
   "execution_count": 1,
   "id": "e27ea879",
   "metadata": {
    "ExecuteTime": {
     "end_time": "2021-09-16T14:34:59.782863Z",
     "start_time": "2021-09-16T14:34:59.731308Z"
    }
   },
   "outputs": [
    {
     "ename": "NameError",
     "evalue": "name 'random_str' is not defined",
     "output_type": "error",
     "traceback": [
      "\u001b[0;31m---------------------------------------------------------------------------\u001b[0m",
      "\u001b[0;31mNameError\u001b[0m                                 Traceback (most recent call last)",
      "\u001b[0;32m<ipython-input-1-1a8a67eb0f71>\u001b[0m in \u001b[0;36m<module>\u001b[0;34m\u001b[0m\n\u001b[1;32m      1\u001b[0m \u001b[0mdev\u001b[0m \u001b[0;34m=\u001b[0m \u001b[0;34m\"cpu\"\u001b[0m\u001b[0;34m\u001b[0m\u001b[0;34m\u001b[0m\u001b[0m\n\u001b[1;32m      2\u001b[0m \u001b[0mdata_dir\u001b[0m\u001b[0;34m=\u001b[0m\u001b[0;34m\"test_chembl23\"\u001b[0m\u001b[0;34m\u001b[0m\u001b[0;34m\u001b[0m\u001b[0m\n\u001b[0;32m----> 3\u001b[0;31m \u001b[0mrstr\u001b[0m \u001b[0;34m=\u001b[0m \u001b[0mrandom_str\u001b[0m\u001b[0;34m(\u001b[0m\u001b[0;36m12\u001b[0m\u001b[0;34m)\u001b[0m\u001b[0;34m\u001b[0m\u001b[0;34m\u001b[0m\u001b[0m\n\u001b[0m\u001b[1;32m      4\u001b[0m \u001b[0moutput_dir\u001b[0m \u001b[0;34m=\u001b[0m \u001b[0;34mf\"./{data_dir}/models-{rstr}/\"\u001b[0m\u001b[0;34m\u001b[0m\u001b[0;34m\u001b[0m\u001b[0m\n\u001b[1;32m      5\u001b[0m \u001b[0mprint\u001b[0m\u001b[0;34m(\u001b[0m\u001b[0;34mf\"Call test_classification with dev: {dev} , data_dir: {data_dir} \\n\"\u001b[0m\u001b[0;34m)\u001b[0m\u001b[0;34m\u001b[0m\u001b[0;34m\u001b[0m\u001b[0m\n",
      "\u001b[0;31mNameError\u001b[0m: name 'random_str' is not defined"
     ]
    }
   ],
   "source": [
    "dev = \"cpu\"\n",
    "data_dir=\"test_chembl23\"\n",
    "rstr = random_str(12)\n",
    "output_dir = f\"./{data_dir}/models-{rstr}/\"\n",
    "print(f\"Call test_classification with dev: {dev} , data_dir: {data_dir} \\n\")  \n",
    "print(f\"Output dir : {output_dir}\")"
   ]
  },
  {
   "cell_type": "markdown",
   "id": "55f2c5b6",
   "metadata": {
    "heading_collapsed": true
   },
   "source": [
    "## Exploring Variables and Tensors"
   ]
  },
  {
   "cell_type": "markdown",
   "id": "2aff981b",
   "metadata": {
    "hidden": true
   },
   "source": [
    "#### Panda Create Weights Dataframe\n",
    "\n",
    "Create a dataframe of 100 rows consisting of random training weights and task types. "
   ]
  },
  {
   "cell_type": "code",
   "execution_count": 7,
   "id": "5877907e",
   "metadata": {
    "ExecuteTime": {
     "end_time": "2021-09-14T03:09:13.551116Z",
     "start_time": "2021-09-14T03:09:13.543584Z"
    },
    "hidden": true
   },
   "outputs": [],
   "source": [
    "    df = pd.DataFrame({\n",
    "        \"task_id\":         np.arange(100),\n",
    "        \"training_weight\": np.clip(np.random.randn(100), 0, 1),\n",
    "        \"task_type\":       np.random.choice([\"adme\", \"panel\", \"other\"], size=100),\n",
    "    })"
   ]
  },
  {
   "cell_type": "code",
   "execution_count": 8,
   "id": "67c47d73",
   "metadata": {
    "ExecuteTime": {
     "end_time": "2021-09-14T03:09:15.043037Z",
     "start_time": "2021-09-14T03:09:15.020351Z"
    },
    "hidden": true
   },
   "outputs": [
    {
     "data": {
      "text/html": [
       "<div>\n",
       "<style scoped>\n",
       "    .dataframe tbody tr th:only-of-type {\n",
       "        vertical-align: middle;\n",
       "    }\n",
       "\n",
       "    .dataframe tbody tr th {\n",
       "        vertical-align: top;\n",
       "    }\n",
       "\n",
       "    .dataframe thead th {\n",
       "        text-align: right;\n",
       "    }\n",
       "</style>\n",
       "<table border=\"1\" class=\"dataframe\">\n",
       "  <thead>\n",
       "    <tr style=\"text-align: right;\">\n",
       "      <th></th>\n",
       "      <th>task_id</th>\n",
       "      <th>training_weight</th>\n",
       "      <th>task_type</th>\n",
       "    </tr>\n",
       "  </thead>\n",
       "  <tbody>\n",
       "    <tr>\n",
       "      <th>0</th>\n",
       "      <td>0</td>\n",
       "      <td>0.368261</td>\n",
       "      <td>panel</td>\n",
       "    </tr>\n",
       "    <tr>\n",
       "      <th>1</th>\n",
       "      <td>1</td>\n",
       "      <td>0.136889</td>\n",
       "      <td>adme</td>\n",
       "    </tr>\n",
       "    <tr>\n",
       "      <th>2</th>\n",
       "      <td>2</td>\n",
       "      <td>0.000000</td>\n",
       "      <td>other</td>\n",
       "    </tr>\n",
       "    <tr>\n",
       "      <th>3</th>\n",
       "      <td>3</td>\n",
       "      <td>0.355725</td>\n",
       "      <td>panel</td>\n",
       "    </tr>\n",
       "    <tr>\n",
       "      <th>4</th>\n",
       "      <td>4</td>\n",
       "      <td>0.000000</td>\n",
       "      <td>panel</td>\n",
       "    </tr>\n",
       "  </tbody>\n",
       "</table>\n",
       "</div>"
      ],
      "text/plain": [
       "   task_id  training_weight task_type\n",
       "0        0         0.368261     panel\n",
       "1        1         0.136889      adme\n",
       "2        2         0.000000     other\n",
       "3        3         0.355725     panel\n",
       "4        4         0.000000     panel"
      ]
     },
     "execution_count": 8,
     "metadata": {},
     "output_type": "execute_result"
    }
   ],
   "source": [
    "df.head(5)"
   ]
  },
  {
   "cell_type": "code",
   "execution_count": 9,
   "id": "77f639ee",
   "metadata": {
    "ExecuteTime": {
     "end_time": "2021-09-14T03:09:31.170015Z",
     "start_time": "2021-09-14T03:09:31.165246Z"
    },
    "hidden": true
   },
   "outputs": [
    {
     "name": "stdout",
     "output_type": "stream",
     "text": [
      "Conf file : []\n"
     ]
    }
   ],
   "source": [
    "conf_file  = glob.glob(f\"{output_dir}/*.json\")\n",
    "model_file = glob.glob(f\"{output_dir}/*.pt\")\n",
    "\n",
    "print(f\"Conf file : {conf_file}\")\n",
    "# results = sc.load_results(conf_file)"
   ]
  },
  {
   "cell_type": "markdown",
   "id": "4a2a0302",
   "metadata": {
    "hidden": true
   },
   "source": [
    "#### Compressed Sparse Row Formatted Matrix Manipulation"
   ]
  },
  {
   "cell_type": "code",
   "execution_count": 10,
   "id": "a35898cf",
   "metadata": {
    "ExecuteTime": {
     "end_time": "2021-09-14T03:09:34.915511Z",
     "start_time": "2021-09-14T03:09:34.901574Z"
    },
    "hidden": true
   },
   "outputs": [],
   "source": [
    "ecfp = np.load(f\"./{data_dir}/chembl_23mini_x.npy\", allow_pickle=True)\n"
   ]
  },
  {
   "cell_type": "code",
   "execution_count": 11,
   "id": "26c1b8df",
   "metadata": {
    "ExecuteTime": {
     "end_time": "2021-09-14T03:09:36.120746Z",
     "start_time": "2021-09-14T03:09:36.107321Z"
    },
    "hidden": true
   },
   "outputs": [
    {
     "name": "stdout",
     "output_type": "stream",
     "text": [
      "ecfp     :  <class 'numpy.ndarray'>\n",
      "ecfp_item:   <class 'scipy.sparse.csr.csr_matrix'> \n",
      "ecfp_tocsr:  <class 'scipy.sparse.csr.csr_matrix'>\n",
      " Matricies are equal\n"
     ]
    }
   ],
   "source": [
    "print('ecfp     : ' ,type(ecfp))\n",
    "print('ecfp_item:  ', type(ecfp_item := ecfp.item()),\n",
    "      '\\necfp_tocsr: ', type(ecfp_tocsr := ecfp.item().tocsr()))\n",
    "if (ecfp_item - ecfp_tocsr).nnz == 0:\n",
    "    print(' Matricies are equal')"
   ]
  },
  {
   "cell_type": "code",
   "execution_count": 12,
   "id": "c871ea48",
   "metadata": {
    "ExecuteTime": {
     "end_time": "2021-09-14T03:09:44.404266Z",
     "start_time": "2021-09-14T03:09:44.397856Z"
    },
    "hidden": true
   },
   "outputs": [
    {
     "name": "stdout",
     "output_type": "stream",
     "text": [
      "<18388x85277 sparse matrix of type '<class 'numpy.float64'>'\n",
      "\twith 1494038 stored elements in Compressed Sparse Row format>\n",
      "<18388x85277 sparse matrix of type '<class 'numpy.float64'>'\n",
      "\twith 1494038 stored elements in Compressed Sparse Row format>\n"
     ]
    }
   ],
   "source": [
    "print(repr(ecfp_item))\n",
    "print(repr(ecfp_tocsr))"
   ]
  },
  {
   "cell_type": "markdown",
   "id": "13921c4b",
   "metadata": {
    "hidden": true
   },
   "source": [
    "#### `y_class`"
   ]
  },
  {
   "cell_type": "code",
   "execution_count": 13,
   "id": "e225b373",
   "metadata": {
    "ExecuteTime": {
     "end_time": "2021-09-14T03:09:47.339923Z",
     "start_time": "2021-09-14T03:09:47.334279Z"
    },
    "hidden": true
   },
   "outputs": [],
   "source": [
    "y_class = np.load(f\"./{data_dir}/chembl_23mini_y.npy\", allow_pickle=True)\n",
    "\n",
    "print('y_class      : ', type(y_class), y_class.shape)\n",
    "print('y_class_item : ', type(y_class_item := y_class.item()) , y_class_item.shape,\n",
    "    '\\ny_class_tocsr: ', type(y_class_tocsr := y_class.item().tocsr()), y_class_tocsr.shape)\n",
    "if (y_class_item - y_class_tocsr).nnz == 0:\n",
    "    print(' Matricies are equal')\n",
    "print('Y_class: ', repr(y_class))\n",
    "print('Y_class_item: ', repr(y_class_item))\n",
    "print('Y_class_to_csr: ', repr(y_class_tocsr))"
   ]
  },
  {
   "cell_type": "code",
   "execution_count": 16,
   "id": "aef4800b",
   "metadata": {
    "ExecuteTime": {
     "end_time": "2021-09-14T03:11:43.101298Z",
     "start_time": "2021-09-14T03:11:43.092604Z"
    },
    "hidden": true
   },
   "outputs": [
    {
     "name": "stdout",
     "output_type": "stream",
     "text": [
      "(18388, 100)\n",
      "(18388, 100)\n"
     ]
    }
   ],
   "source": [
    "print((y_class_tocsr == +1).shape)\n",
    "print((y_class_tocsr > 0.0).shape)"
   ]
  },
  {
   "cell_type": "code",
   "execution_count": 17,
   "id": "3a92d6c4",
   "metadata": {
    "ExecuteTime": {
     "end_time": "2021-09-14T03:11:50.595237Z",
     "start_time": "2021-09-14T03:11:50.584129Z"
    },
    "hidden": true
   },
   "outputs": [
    {
     "name": "stdout",
     "output_type": "stream",
     "text": [
      " num pos  : [ 884   59   59  284   55   43  749   14  292  342  423   13  119    1\n",
      "  281  213    0   11  190   27   46   36   16   43    9   70    7  163\n",
      " 1399   35  447    1    0  675  327  142    6   31  552   52   27  325\n",
      "    1  350  535   72   94   36   55  259 1366    3   24    9 1408  148\n",
      "  971  113   31   55   70   74   63    0   86   58    2    0  465  273\n",
      "    9  317   91  146  199    0  251  232   62   14  230   79   30   41\n",
      "   32 1610   74   16   22    0    0    0  102    1    0   32   14    0\n",
      "   10    1]\n",
      " num neg  : [ 83   0   0   0   0   3  29   7   9  11   0   0   0  12   3   0   0   0\n",
      "   0   9   0  13  21   0   0   0   0   0  45   0   0 143   0   9   0  56\n",
      "   9  18  17   0   0   1   1   1  72   0  10   0 280   2   0   2  48 245\n",
      "  17  77   4   0   0   9   0   5   3   2  57   1   0   1   5   2  44   2\n",
      "  64  11   1  24   3   0 101  21  38   0  19   0   1 220  16  13 400  32\n",
      "   0  27   1  17   0   0   2   0  32  14]\n",
      " num class: [ 967   59   59  284   55   46  778   21  301  353  423   13  119   13\n",
      "  284  213    0   11  190   36   46   49   37   43    9   70    7  163\n",
      " 1444   35  447  144    0  684  327  198   15   49  569   52   27  326\n",
      "    2  351  607   72  104   36  335  261 1366    5   72  254 1425  225\n",
      "  975  113   31   64   70   79   66    2  143   59    2    1  470  275\n",
      "   53  319  155  157  200   24  254  232  163   35  268   79   49   41\n",
      "   33 1830   90   29  422   32    0   27  103   18    0   32   16    0\n",
      "   42   15]\n"
     ]
    }
   ],
   "source": [
    "num_pos    = np.array((y_class_tocsr == +1).sum(0)).flatten()\n",
    "num_neg    = np.array((y_class_tocsr == -1).sum(0)).flatten()\n",
    "num_class  = np.array((y_class_tocsr != 0).sum(0)).flatten()\n",
    "print(f' num pos  : {num_pos[:100]}')\n",
    "print(f' num neg  : {num_neg[:100]}')\n",
    "print(f' num class: {num_class[:100]}')"
   ]
  },
  {
   "cell_type": "code",
   "execution_count": 18,
   "id": "ca9370bd",
   "metadata": {
    "ExecuteTime": {
     "end_time": "2021-09-14T03:11:53.942554Z",
     "start_time": "2021-09-14T03:11:53.938805Z"
    },
    "hidden": true
   },
   "outputs": [],
   "source": [
    "if (num_class != num_pos + num_neg).any():\n",
    "    print(\"For classification all y values (--y_class/--y) must be 1 or -1.\")"
   ]
  },
  {
   "cell_type": "code",
   "execution_count": null,
   "id": "22849cc1",
   "metadata": {
    "hidden": true
   },
   "outputs": [],
   "source": []
  },
  {
   "cell_type": "markdown",
   "id": "adf886cc",
   "metadata": {
    "hidden": true
   },
   "source": [
    "### `y_censor`\n",
    "\n",
    "`y_censor` is a sparse matrix : row_count x class_count"
   ]
  },
  {
   "cell_type": "code",
   "execution_count": 19,
   "id": "8ab06919",
   "metadata": {
    "ExecuteTime": {
     "end_time": "2021-09-14T03:12:06.533508Z",
     "start_time": "2021-09-14T03:12:06.527736Z"
    },
    "hidden": true
   },
   "outputs": [],
   "source": [
    "y_censor = np.load(f\"./{data_dir}/chembl_23mini_y_censored.npy\", allow_pickle=True)\n",
    "\n",
    "print('y_censor      : ', type(y_censor), y_censor.shape)\n",
    "print('y_censor_item : ', type(y_censor_item := y_censor.item()) , y_censor_item.shape,\n",
    "    '\\ny_censor_tocsr: ', type(y_censor_tocsr := y_censor.item().tocsr()), y_censor_tocsr.shape)\n",
    "if (y_censor_item - y_censor_tocsr).nnz == 0:\n",
    "    print(' Matricies are equal')\n",
    " \n",
    "print('Y_censor: ', repr(y_censor))\n",
    "print('Y_censor_item: ', repr(y_censor_item))\n",
    "print('Y_censor_to_csr: ', repr(y_censor_tocsr))"
   ]
  },
  {
   "cell_type": "code",
   "execution_count": 25,
   "id": "a67d2d3b",
   "metadata": {
    "ExecuteTime": {
     "end_time": "2021-09-14T03:28:36.480919Z",
     "start_time": "2021-09-14T03:28:36.477663Z"
    },
    "hidden": true
   },
   "outputs": [],
   "source": [
    "# print(y_censor_tocsr)\n"
   ]
  },
  {
   "cell_type": "markdown",
   "id": "3fac5cf3",
   "metadata": {
    "hidden": true
   },
   "source": [
    "###  `y_regr`\n",
    "\n",
    "`y_regr` is a sparse matrix : row_count x class_count"
   ]
  },
  {
   "cell_type": "code",
   "execution_count": 26,
   "id": "ae41bceb",
   "metadata": {
    "ExecuteTime": {
     "end_time": "2021-09-14T03:28:39.256666Z",
     "start_time": "2021-09-14T03:28:39.249774Z"
    },
    "hidden": true
   },
   "outputs": [],
   "source": [
    "y_regr = np.load(f\"./{data_dir}/chembl_23mini_y.npy\", allow_pickle=True)\n",
    "\n",
    "print('y_regr      : ', type(y_regr), y_regr.shape)\n",
    "print('y_regr_item : ', type(y_regr_item := y_regr.item()) , y_regr_item.shape,\n",
    "    '\\ny_regr_tocsr: ', type(y_regr_tocsr := y_regr.item().tocsr()), y_regr_tocsr.shape)\n",
    "if (y_regr_item - y_regr_tocsr).nnz == 0:\n",
    "    print(' Matricies y_regr_item and y_regr_tocsr are equal')\n",
    " \n",
    "\n",
    "print('Y_regr: ', repr(y_regr))\n",
    "print('Y_regr_item: ', repr(y_regr_item))\n",
    "print('Y_regr_to_csr: ', repr(y_regr_tocsr))"
   ]
  },
  {
   "cell_type": "code",
   "execution_count": 20,
   "id": "d4bb7742",
   "metadata": {
    "ExecuteTime": {
     "end_time": "2021-07-21T23:11:58.287148Z",
     "start_time": "2021-07-21T23:11:58.284277Z"
    },
    "hidden": true
   },
   "outputs": [],
   "source": [
    "# print(y_regr_tocsr)\n"
   ]
  },
  {
   "cell_type": "markdown",
   "id": "d80af2e5",
   "metadata": {
    "hidden": true
   },
   "source": [
    "### Folding"
   ]
  },
  {
   "cell_type": "code",
   "execution_count": 29,
   "id": "261f611a",
   "metadata": {
    "ExecuteTime": {
     "end_time": "2021-09-14T03:29:39.093797Z",
     "start_time": "2021-09-14T03:29:39.084214Z"
    },
    "hidden": true,
    "scrolled": true
   },
   "outputs": [
    {
     "name": "stdout",
     "output_type": "stream",
     "text": [
      "array([4, 0, 0, ..., 3, 0, 2]) (18388,)\n",
      "[0 1 2 3 4]\n",
      "[3755 3759 3661 3658 3555]\n"
     ]
    }
   ],
   "source": [
    "folding = np.load(f\"./{data_dir}/chembl_23mini_folds.npy\")\n",
    "print(repr(folding), folding.shape)\n",
    "print(np.unique(folding))\n",
    "print(np.bincount(folding))"
   ]
  },
  {
   "cell_type": "code",
   "execution_count": 34,
   "id": "11aa02fd",
   "metadata": {
    "ExecuteTime": {
     "end_time": "2021-09-14T03:29:54.320107Z",
     "start_time": "2021-09-14T03:29:54.311827Z"
    },
    "hidden": true
   },
   "outputs": [
    {
     "data": {
      "text/plain": [
       "<3555x100 sparse matrix of type '<class 'numpy.float64'>'\n",
       "\twith 4093 stored elements in Compressed Sparse Row format>"
      ]
     },
     "execution_count": 34,
     "metadata": {},
     "output_type": "execute_result"
    }
   ],
   "source": [
    "y1= y_class_tocsr[folding == 4]\n",
    "y1"
   ]
  },
  {
   "cell_type": "code",
   "execution_count": 35,
   "id": "80eed453",
   "metadata": {
    "ExecuteTime": {
     "end_time": "2021-09-14T03:29:58.781372Z",
     "start_time": "2021-09-14T03:29:58.777764Z"
    },
    "hidden": true
   },
   "outputs": [],
   "source": [
    "# print(y_class_tocsr)"
   ]
  },
  {
   "cell_type": "code",
   "execution_count": 36,
   "id": "e6770608",
   "metadata": {
    "ExecuteTime": {
     "end_time": "2021-09-14T03:29:59.155901Z",
     "start_time": "2021-09-14T03:29:59.151901Z"
    },
    "hidden": true
   },
   "outputs": [],
   "source": [
    "# print(y1)"
   ]
  },
  {
   "cell_type": "code",
   "execution_count": 37,
   "id": "2987d4ee",
   "metadata": {
    "ExecuteTime": {
     "end_time": "2021-09-14T03:29:59.476517Z",
     "start_time": "2021-09-14T03:29:59.467321Z"
    },
    "hidden": true
   },
   "outputs": [
    {
     "data": {
      "text/plain": [
       "array([182,  27,   7,  60,   6,   5, 157,   3,  44,  91,  62,   6,  17,\n",
       "         1,  38,  33,   0,   1,  48,  11,  13,   2,   0,   9,   2,  15,\n",
       "         5,  39, 319,   9, 114,   0,   0, 129,  55,  40,   0,   8, 112,\n",
       "         6,   0,  31,   0,  62,  80,   7,  17,   0,  10,  67, 254,   1,\n",
       "         4,   0, 277,  22, 241,   2,  14,  10,   4,  11,   3,   0,  18,\n",
       "         1,   1,   0,  95,  40,   3,  42,   9,  37,  11,   0,  50,  47,\n",
       "        22,   0,  47,  15,   0,  10,   6, 326,  12,   5,   7,   0,   0,\n",
       "         0,  21,   0,   0,   4,   2,   0,   5,   0])"
      ]
     },
     "execution_count": 37,
     "metadata": {},
     "output_type": "execute_result"
    }
   ],
   "source": [
    "# del n_pos, n_neg\n",
    "n_pos =   np.array((y1 == +1).sum(0))\n",
    "n_pos.shape\n",
    "n_pos.flatten()\n",
    "# n_neg =   np.array((y1 == -1).sum(0)).flatten()"
   ]
  },
  {
   "cell_type": "code",
   "execution_count": 38,
   "id": "9a76a63a",
   "metadata": {
    "ExecuteTime": {
     "end_time": "2021-09-14T03:30:02.741039Z",
     "start_time": "2021-09-14T03:30:02.710445Z"
    },
    "hidden": true
   },
   "outputs": [
    {
     "name": "stdout",
     "output_type": "stream",
     "text": [
      " Fold: 0\n",
      " ------------\n",
      "num_pos:  [array([115,  31,  17,  54,   7,  18, 203,   3,  55,  76,  63,   1,  42,\n",
      "         0,  75,  36,   0,   1,  43,   2,   7,   7,   0,   3,   0,  21,\n",
      "         1,  37, 330,  11,  86,   0,   0, 142,  27,  25,   4,   7, 111,\n",
      "        12,   7,  79,   0,  97, 129,  15,  10,   9,   9,  38, 272,   1,\n",
      "         2,   0, 285,  63, 185,   1,   0,   4,  19,  21,  13,   0,  18,\n",
      "        12,   0,   0,  93,  55,   1,  73,  29,  41,  18,   0,  46,  37,\n",
      "        14,   0,  40,  18,   6,   8,  10, 330,   6,   4,   1,   0,   0,\n",
      "         0,   8,   0,   0,   0,   3,   0,   1,   0])]\n",
      "num_neg:  [array([17,  0,  0,  0,  0,  1,  3,  4,  2,  2,  0,  0,  0,  1,  2,  0,  0,\n",
      "        0,  0,  2,  0,  0, 13,  0,  0,  0,  0,  0,  6,  0,  0, 30,  0,  0,\n",
      "        0,  3,  3,  3,  2,  0,  0,  1,  1,  1, 18,  0,  2,  0, 85,  0,  0,\n",
      "        2, 13, 47,  1, 11,  0,  0,  0,  2,  0,  1,  1,  1,  3,  0,  0,  0,\n",
      "        0,  0, 18,  0,  9,  3,  0,  4,  1,  0, 23, 11,  6,  0,  5,  0,  0,\n",
      "       46,  4,  4, 73,  2,  0,  7,  1,  0,  0,  0,  0,  0,  4,  0])]\n",
      " Fold: 1\n",
      " ------------\n",
      "num_pos:  [array([115,  31,  17,  54,   7,  18, 203,   3,  55,  76,  63,   1,  42,\n",
      "         0,  75,  36,   0,   1,  43,   2,   7,   7,   0,   3,   0,  21,\n",
      "         1,  37, 330,  11,  86,   0,   0, 142,  27,  25,   4,   7, 111,\n",
      "        12,   7,  79,   0,  97, 129,  15,  10,   9,   9,  38, 272,   1,\n",
      "         2,   0, 285,  63, 185,   1,   0,   4,  19,  21,  13,   0,  18,\n",
      "        12,   0,   0,  93,  55,   1,  73,  29,  41,  18,   0,  46,  37,\n",
      "        14,   0,  40,  18,   6,   8,  10, 330,   6,   4,   1,   0,   0,\n",
      "         0,   8,   0,   0,   0,   3,   0,   1,   0]), array([179,   1,  13,  70,   8,   8, 124,   3,  57,  65,  10,   3,  28,\n",
      "         0,  62,  75,   0,   5,  21,   3,  11,  13,   4,   0,   1,  11,\n",
      "         0,  32, 300,   8, 118,   0,   0, 153,  57,  25,   2,   5, 111,\n",
      "        12,   2,  59,   1,  47, 110,  15,  21,   1,   6,  43, 276,   1,\n",
      "         4,   4, 329,   7, 185, 108,   1,  11,  34,  14,   7,   0,  20,\n",
      "        19,   1,   0, 101,  75,   1,  68,  14,  21,  29,   0,  83,  61,\n",
      "         9,   0,  50,   2,   5,   6,   2, 359,  24,   1,   4,   0,   0,\n",
      "         0,   5,   0,   0,   6,   0,   0,   1,   0])]\n",
      "num_neg:  [array([17,  0,  0,  0,  0,  1,  3,  4,  2,  2,  0,  0,  0,  1,  2,  0,  0,\n",
      "        0,  0,  2,  0,  0, 13,  0,  0,  0,  0,  0,  6,  0,  0, 30,  0,  0,\n",
      "        0,  3,  3,  3,  2,  0,  0,  1,  1,  1, 18,  0,  2,  0, 85,  0,  0,\n",
      "        2, 13, 47,  1, 11,  0,  0,  0,  2,  0,  1,  1,  1,  3,  0,  0,  0,\n",
      "        0,  0, 18,  0,  9,  3,  0,  4,  1,  0, 23, 11,  6,  0,  5,  0,  0,\n",
      "       46,  4,  4, 73,  2,  0,  7,  1,  0,  0,  0,  0,  0,  4,  0]), array([ 27,   0,   0,   0,   0,   0,   2,   2,   5,   4,   0,   0,   0,\n",
      "         3,   0,   0,   0,   0,   0,   2,   0,   5,   0,   0,   0,   0,\n",
      "         0,   0,  11,   0,   0,  34,   0,   4,   0,  17,   0,   3,   1,\n",
      "         0,   0,   0,   0,   0,   6,   0,   0,   0,  37,   2,   0,   0,\n",
      "        11,  79,   4,  28,   0,   0,   0,   1,   0,   2,   0,   1,  13,\n",
      "         0,   0,   0,   1,   1,   2,   1,   2,   2,   0,   7,   0,   0,\n",
      "        23,   4,   9,   0,   4,   0,   0,  35,   1,   3, 115,   1,   0,\n",
      "         2,   0,   5,   0,   0,   1,   0,  13,   4])]\n",
      " Fold: 2\n",
      " ------------\n",
      "num_pos:  [array([115,  31,  17,  54,   7,  18, 203,   3,  55,  76,  63,   1,  42,\n",
      "         0,  75,  36,   0,   1,  43,   2,   7,   7,   0,   3,   0,  21,\n",
      "         1,  37, 330,  11,  86,   0,   0, 142,  27,  25,   4,   7, 111,\n",
      "        12,   7,  79,   0,  97, 129,  15,  10,   9,   9,  38, 272,   1,\n",
      "         2,   0, 285,  63, 185,   1,   0,   4,  19,  21,  13,   0,  18,\n",
      "        12,   0,   0,  93,  55,   1,  73,  29,  41,  18,   0,  46,  37,\n",
      "        14,   0,  40,  18,   6,   8,  10, 330,   6,   4,   1,   0,   0,\n",
      "         0,   8,   0,   0,   0,   3,   0,   1,   0]), array([179,   1,  13,  70,   8,   8, 124,   3,  57,  65,  10,   3,  28,\n",
      "         0,  62,  75,   0,   5,  21,   3,  11,  13,   4,   0,   1,  11,\n",
      "         0,  32, 300,   8, 118,   0,   0, 153,  57,  25,   2,   5, 111,\n",
      "        12,   2,  59,   1,  47, 110,  15,  21,   1,   6,  43, 276,   1,\n",
      "         4,   4, 329,   7, 185, 108,   1,  11,  34,  14,   7,   0,  20,\n",
      "        19,   1,   0, 101,  75,   1,  68,  14,  21,  29,   0,  83,  61,\n",
      "         9,   0,  50,   2,   5,   6,   2, 359,  24,   1,   4,   0,   0,\n",
      "         0,   5,   0,   0,   6,   0,   0,   1,   0]), array([237,   0,  10,  63,  15,   6, 144,   3,  59,  64,  67,   2,  14,\n",
      "         0,  48,  34,   0,   4,  25,   6,   3,   8,  12,   4,   4,   6,\n",
      "         1,  35, 250,   3,  66,   0,   0, 119, 133,  24,   0,   8, 117,\n",
      "        12,  18,  31,   0,  78,  78,   9,  26,  12,  10,  38, 296,   0,\n",
      "         4,   3, 280,  45, 172,   1,   5,  14,   5,  11,  20,   0,  16,\n",
      "        24,   0,   0,  85,  65,   0,  73,  25,  20,  16,   0,  51,  42,\n",
      "        13,   0,  58,  22,  10,   8,  10, 347,  20,   3,   9,   0,   0,\n",
      "         0,  23,   0,   0,  12,   3,   0,   0,   1])]\n",
      "num_neg:  [array([17,  0,  0,  0,  0,  1,  3,  4,  2,  2,  0,  0,  0,  1,  2,  0,  0,\n",
      "        0,  0,  2,  0,  0, 13,  0,  0,  0,  0,  0,  6,  0,  0, 30,  0,  0,\n",
      "        0,  3,  3,  3,  2,  0,  0,  1,  1,  1, 18,  0,  2,  0, 85,  0,  0,\n",
      "        2, 13, 47,  1, 11,  0,  0,  0,  2,  0,  1,  1,  1,  3,  0,  0,  0,\n",
      "        0,  0, 18,  0,  9,  3,  0,  4,  1,  0, 23, 11,  6,  0,  5,  0,  0,\n",
      "       46,  4,  4, 73,  2,  0,  7,  1,  0,  0,  0,  0,  0,  4,  0]), array([ 27,   0,   0,   0,   0,   0,   2,   2,   5,   4,   0,   0,   0,\n",
      "         3,   0,   0,   0,   0,   0,   2,   0,   5,   0,   0,   0,   0,\n",
      "         0,   0,  11,   0,   0,  34,   0,   4,   0,  17,   0,   3,   1,\n",
      "         0,   0,   0,   0,   0,   6,   0,   0,   0,  37,   2,   0,   0,\n",
      "        11,  79,   4,  28,   0,   0,   0,   1,   0,   2,   0,   1,  13,\n",
      "         0,   0,   0,   1,   1,   2,   1,   2,   2,   0,   7,   0,   0,\n",
      "        23,   4,   9,   0,   4,   0,   0,  35,   1,   3, 115,   1,   0,\n",
      "         2,   0,   5,   0,   0,   1,   0,  13,   4]), array([18,  0,  0,  0,  0,  1, 15,  0,  0,  2,  0,  0,  0,  2,  0,  0,  0,\n",
      "        0,  0,  2,  0,  2,  2,  0,  0,  0,  0,  0,  9,  0,  0, 33,  0,  2,\n",
      "        0, 17,  1,  5,  5,  0,  0,  0,  0,  0, 11,  0,  0,  0, 51,  0,  0,\n",
      "        0,  5, 48,  3, 23,  2,  0,  0,  1,  0,  0,  0,  0,  5,  1,  0,  0,\n",
      "        1,  0,  5,  1, 16,  2,  0,  6,  0,  0, 22,  2,  6,  0,  2,  0,  0,\n",
      "       42,  1,  4, 52,  5,  0, 18,  0,  5,  0,  0,  0,  0,  9,  4])]\n",
      " Fold: 3\n",
      " ------------\n",
      "num_pos:  [array([115,  31,  17,  54,   7,  18, 203,   3,  55,  76,  63,   1,  42,\n",
      "         0,  75,  36,   0,   1,  43,   2,   7,   7,   0,   3,   0,  21,\n",
      "         1,  37, 330,  11,  86,   0,   0, 142,  27,  25,   4,   7, 111,\n",
      "        12,   7,  79,   0,  97, 129,  15,  10,   9,   9,  38, 272,   1,\n",
      "         2,   0, 285,  63, 185,   1,   0,   4,  19,  21,  13,   0,  18,\n",
      "        12,   0,   0,  93,  55,   1,  73,  29,  41,  18,   0,  46,  37,\n",
      "        14,   0,  40,  18,   6,   8,  10, 330,   6,   4,   1,   0,   0,\n",
      "         0,   8,   0,   0,   0,   3,   0,   1,   0]), array([179,   1,  13,  70,   8,   8, 124,   3,  57,  65,  10,   3,  28,\n",
      "         0,  62,  75,   0,   5,  21,   3,  11,  13,   4,   0,   1,  11,\n",
      "         0,  32, 300,   8, 118,   0,   0, 153,  57,  25,   2,   5, 111,\n",
      "        12,   2,  59,   1,  47, 110,  15,  21,   1,   6,  43, 276,   1,\n",
      "         4,   4, 329,   7, 185, 108,   1,  11,  34,  14,   7,   0,  20,\n",
      "        19,   1,   0, 101,  75,   1,  68,  14,  21,  29,   0,  83,  61,\n",
      "         9,   0,  50,   2,   5,   6,   2, 359,  24,   1,   4,   0,   0,\n",
      "         0,   5,   0,   0,   6,   0,   0,   1,   0]), array([237,   0,  10,  63,  15,   6, 144,   3,  59,  64,  67,   2,  14,\n",
      "         0,  48,  34,   0,   4,  25,   6,   3,   8,  12,   4,   4,   6,\n",
      "         1,  35, 250,   3,  66,   0,   0, 119, 133,  24,   0,   8, 117,\n",
      "        12,  18,  31,   0,  78,  78,   9,  26,  12,  10,  38, 296,   0,\n",
      "         4,   3, 280,  45, 172,   1,   5,  14,   5,  11,  20,   0,  16,\n",
      "        24,   0,   0,  85,  65,   0,  73,  25,  20,  16,   0,  51,  42,\n",
      "        13,   0,  58,  22,  10,   8,  10, 347,  20,   3,   9,   0,   0,\n",
      "         0,  23,   0,   0,  12,   3,   0,   0,   1]), array([171,   0,  12,  37,  19,   6, 121,   2,  77,  46, 221,   1,  18,\n",
      "         0,  58,  35,   0,   0,  53,   5,  12,   6,   0,  27,   2,  17,\n",
      "         0,  20, 200,   4,  63,   1,   0, 132,  55,  28,   0,   3, 101,\n",
      "        10,   0, 125,   0,  66, 138,  26,  20,  14,  20,  73, 268,   0,\n",
      "        10,   2, 237,  11, 188,   1,  11,  16,   8,  17,  20,   0,  14,\n",
      "         2,   0,   0,  91,  38,   4,  61,  14,  27, 125,   0,  21,  45,\n",
      "         4,  14,  35,  22,   9,   9,   4, 248,  12,   3,   1,   0,   0,\n",
      "         0,  45,   1,   0,  10,   6,   0,   3,   0])]\n",
      "num_neg:  [array([17,  0,  0,  0,  0,  1,  3,  4,  2,  2,  0,  0,  0,  1,  2,  0,  0,\n",
      "        0,  0,  2,  0,  0, 13,  0,  0,  0,  0,  0,  6,  0,  0, 30,  0,  0,\n",
      "        0,  3,  3,  3,  2,  0,  0,  1,  1,  1, 18,  0,  2,  0, 85,  0,  0,\n",
      "        2, 13, 47,  1, 11,  0,  0,  0,  2,  0,  1,  1,  1,  3,  0,  0,  0,\n",
      "        0,  0, 18,  0,  9,  3,  0,  4,  1,  0, 23, 11,  6,  0,  5,  0,  0,\n",
      "       46,  4,  4, 73,  2,  0,  7,  1,  0,  0,  0,  0,  0,  4,  0]), array([ 27,   0,   0,   0,   0,   0,   2,   2,   5,   4,   0,   0,   0,\n",
      "         3,   0,   0,   0,   0,   0,   2,   0,   5,   0,   0,   0,   0,\n",
      "         0,   0,  11,   0,   0,  34,   0,   4,   0,  17,   0,   3,   1,\n",
      "         0,   0,   0,   0,   0,   6,   0,   0,   0,  37,   2,   0,   0,\n",
      "        11,  79,   4,  28,   0,   0,   0,   1,   0,   2,   0,   1,  13,\n",
      "         0,   0,   0,   1,   1,   2,   1,   2,   2,   0,   7,   0,   0,\n",
      "        23,   4,   9,   0,   4,   0,   0,  35,   1,   3, 115,   1,   0,\n",
      "         2,   0,   5,   0,   0,   1,   0,  13,   4]), array([18,  0,  0,  0,  0,  1, 15,  0,  0,  2,  0,  0,  0,  2,  0,  0,  0,\n",
      "        0,  0,  2,  0,  2,  2,  0,  0,  0,  0,  0,  9,  0,  0, 33,  0,  2,\n",
      "        0, 17,  1,  5,  5,  0,  0,  0,  0,  0, 11,  0,  0,  0, 51,  0,  0,\n",
      "        0,  5, 48,  3, 23,  2,  0,  0,  1,  0,  0,  0,  0,  5,  1,  0,  0,\n",
      "        1,  0,  5,  1, 16,  2,  0,  6,  0,  0, 22,  2,  6,  0,  2,  0,  0,\n",
      "       42,  1,  4, 52,  5,  0, 18,  0,  5,  0,  0,  0,  0,  9,  4]), array([ 5,  0,  0,  0,  0,  1,  7,  1,  0,  3,  0,  0,  0,  1,  1,  0,  0,\n",
      "        0,  0,  3,  0,  3,  1,  0,  0,  0,  0,  0, 16,  0,  0, 19,  0,  0,\n",
      "        0, 15,  2,  3,  3,  0,  0,  0,  0,  0, 11,  0,  3,  0, 56,  0,  0,\n",
      "        0, 16, 19,  5,  6,  0,  0,  0,  3,  0,  0,  2,  0, 18,  0,  0,  1,\n",
      "        3,  0, 15,  0, 22,  4,  1,  4,  0,  0, 16,  1,  9,  0,  3,  0,  0,\n",
      "       61,  5,  1, 86,  2,  0,  0,  0,  4,  0,  0,  1,  0,  3,  2])]\n",
      " Fold: 4\n",
      " ------------\n",
      "num_pos:  [array([115,  31,  17,  54,   7,  18, 203,   3,  55,  76,  63,   1,  42,\n",
      "         0,  75,  36,   0,   1,  43,   2,   7,   7,   0,   3,   0,  21,\n",
      "         1,  37, 330,  11,  86,   0,   0, 142,  27,  25,   4,   7, 111,\n",
      "        12,   7,  79,   0,  97, 129,  15,  10,   9,   9,  38, 272,   1,\n",
      "         2,   0, 285,  63, 185,   1,   0,   4,  19,  21,  13,   0,  18,\n",
      "        12,   0,   0,  93,  55,   1,  73,  29,  41,  18,   0,  46,  37,\n",
      "        14,   0,  40,  18,   6,   8,  10, 330,   6,   4,   1,   0,   0,\n",
      "         0,   8,   0,   0,   0,   3,   0,   1,   0]), array([179,   1,  13,  70,   8,   8, 124,   3,  57,  65,  10,   3,  28,\n",
      "         0,  62,  75,   0,   5,  21,   3,  11,  13,   4,   0,   1,  11,\n",
      "         0,  32, 300,   8, 118,   0,   0, 153,  57,  25,   2,   5, 111,\n",
      "        12,   2,  59,   1,  47, 110,  15,  21,   1,   6,  43, 276,   1,\n",
      "         4,   4, 329,   7, 185, 108,   1,  11,  34,  14,   7,   0,  20,\n",
      "        19,   1,   0, 101,  75,   1,  68,  14,  21,  29,   0,  83,  61,\n",
      "         9,   0,  50,   2,   5,   6,   2, 359,  24,   1,   4,   0,   0,\n",
      "         0,   5,   0,   0,   6,   0,   0,   1,   0]), array([237,   0,  10,  63,  15,   6, 144,   3,  59,  64,  67,   2,  14,\n",
      "         0,  48,  34,   0,   4,  25,   6,   3,   8,  12,   4,   4,   6,\n",
      "         1,  35, 250,   3,  66,   0,   0, 119, 133,  24,   0,   8, 117,\n",
      "        12,  18,  31,   0,  78,  78,   9,  26,  12,  10,  38, 296,   0,\n",
      "         4,   3, 280,  45, 172,   1,   5,  14,   5,  11,  20,   0,  16,\n",
      "        24,   0,   0,  85,  65,   0,  73,  25,  20,  16,   0,  51,  42,\n",
      "        13,   0,  58,  22,  10,   8,  10, 347,  20,   3,   9,   0,   0,\n",
      "         0,  23,   0,   0,  12,   3,   0,   0,   1]), array([171,   0,  12,  37,  19,   6, 121,   2,  77,  46, 221,   1,  18,\n",
      "         0,  58,  35,   0,   0,  53,   5,  12,   6,   0,  27,   2,  17,\n",
      "         0,  20, 200,   4,  63,   1,   0, 132,  55,  28,   0,   3, 101,\n",
      "        10,   0, 125,   0,  66, 138,  26,  20,  14,  20,  73, 268,   0,\n",
      "        10,   2, 237,  11, 188,   1,  11,  16,   8,  17,  20,   0,  14,\n",
      "         2,   0,   0,  91,  38,   4,  61,  14,  27, 125,   0,  21,  45,\n",
      "         4,  14,  35,  22,   9,   9,   4, 248,  12,   3,   1,   0,   0,\n",
      "         0,  45,   1,   0,  10,   6,   0,   3,   0]), array([182,  27,   7,  60,   6,   5, 157,   3,  44,  91,  62,   6,  17,\n",
      "         1,  38,  33,   0,   1,  48,  11,  13,   2,   0,   9,   2,  15,\n",
      "         5,  39, 319,   9, 114,   0,   0, 129,  55,  40,   0,   8, 112,\n",
      "         6,   0,  31,   0,  62,  80,   7,  17,   0,  10,  67, 254,   1,\n",
      "         4,   0, 277,  22, 241,   2,  14,  10,   4,  11,   3,   0,  18,\n",
      "         1,   1,   0,  95,  40,   3,  42,   9,  37,  11,   0,  50,  47,\n",
      "        22,   0,  47,  15,   0,  10,   6, 326,  12,   5,   7,   0,   0,\n",
      "         0,  21,   0,   0,   4,   2,   0,   5,   0])]\n",
      "num_neg:  [array([17,  0,  0,  0,  0,  1,  3,  4,  2,  2,  0,  0,  0,  1,  2,  0,  0,\n",
      "        0,  0,  2,  0,  0, 13,  0,  0,  0,  0,  0,  6,  0,  0, 30,  0,  0,\n",
      "        0,  3,  3,  3,  2,  0,  0,  1,  1,  1, 18,  0,  2,  0, 85,  0,  0,\n",
      "        2, 13, 47,  1, 11,  0,  0,  0,  2,  0,  1,  1,  1,  3,  0,  0,  0,\n",
      "        0,  0, 18,  0,  9,  3,  0,  4,  1,  0, 23, 11,  6,  0,  5,  0,  0,\n",
      "       46,  4,  4, 73,  2,  0,  7,  1,  0,  0,  0,  0,  0,  4,  0]), array([ 27,   0,   0,   0,   0,   0,   2,   2,   5,   4,   0,   0,   0,\n",
      "         3,   0,   0,   0,   0,   0,   2,   0,   5,   0,   0,   0,   0,\n",
      "         0,   0,  11,   0,   0,  34,   0,   4,   0,  17,   0,   3,   1,\n",
      "         0,   0,   0,   0,   0,   6,   0,   0,   0,  37,   2,   0,   0,\n",
      "        11,  79,   4,  28,   0,   0,   0,   1,   0,   2,   0,   1,  13,\n",
      "         0,   0,   0,   1,   1,   2,   1,   2,   2,   0,   7,   0,   0,\n",
      "        23,   4,   9,   0,   4,   0,   0,  35,   1,   3, 115,   1,   0,\n",
      "         2,   0,   5,   0,   0,   1,   0,  13,   4]), array([18,  0,  0,  0,  0,  1, 15,  0,  0,  2,  0,  0,  0,  2,  0,  0,  0,\n",
      "        0,  0,  2,  0,  2,  2,  0,  0,  0,  0,  0,  9,  0,  0, 33,  0,  2,\n",
      "        0, 17,  1,  5,  5,  0,  0,  0,  0,  0, 11,  0,  0,  0, 51,  0,  0,\n",
      "        0,  5, 48,  3, 23,  2,  0,  0,  1,  0,  0,  0,  0,  5,  1,  0,  0,\n",
      "        1,  0,  5,  1, 16,  2,  0,  6,  0,  0, 22,  2,  6,  0,  2,  0,  0,\n",
      "       42,  1,  4, 52,  5,  0, 18,  0,  5,  0,  0,  0,  0,  9,  4]), array([ 5,  0,  0,  0,  0,  1,  7,  1,  0,  3,  0,  0,  0,  1,  1,  0,  0,\n",
      "        0,  0,  3,  0,  3,  1,  0,  0,  0,  0,  0, 16,  0,  0, 19,  0,  0,\n",
      "        0, 15,  2,  3,  3,  0,  0,  0,  0,  0, 11,  0,  3,  0, 56,  0,  0,\n",
      "        0, 16, 19,  5,  6,  0,  0,  0,  3,  0,  0,  2,  0, 18,  0,  0,  1,\n",
      "        3,  0, 15,  0, 22,  4,  1,  4,  0,  0, 16,  1,  9,  0,  3,  0,  0,\n",
      "       61,  5,  1, 86,  2,  0,  0,  0,  4,  0,  0,  1,  0,  3,  2]), array([16,  0,  0,  0,  0,  0,  2,  0,  2,  0,  0,  0,  0,  5,  0,  0,  0,\n",
      "        0,  0,  0,  0,  3,  5,  0,  0,  0,  0,  0,  3,  0,  0, 27,  0,  3,\n",
      "        0,  4,  3,  4,  6,  0,  0,  0,  0,  0, 26,  0,  5,  0, 51,  0,  0,\n",
      "        0,  3, 52,  4,  9,  2,  0,  0,  2,  0,  2,  0,  0, 18,  0,  0,  0,\n",
      "        0,  1,  4,  0, 15,  0,  0,  3,  2,  0, 17,  3,  8,  0,  5,  0,  1,\n",
      "       36,  5,  1, 74, 22,  0,  0,  0,  3,  0,  0,  0,  0,  3,  4])]\n"
     ]
    }
   ],
   "source": [
    "folds = np.unique(folding)\n",
    "num_pos = []\n",
    "num_neg = []\n",
    "for fold in folds:\n",
    "    yf = y_class_tocsr[folding == fold]\n",
    "    num_pos.append( np.array((yf == +1).sum(0)).flatten() )\n",
    "    num_neg.append( np.array((yf == -1).sum(0)).flatten() )\n",
    "    print(f' Fold: {fold}')\n",
    "    print(f' ------------')\n",
    "    print('num_pos: ' , num_pos)\n",
    "    print('num_neg: ', num_neg)"
   ]
  },
  {
   "cell_type": "code",
   "execution_count": 27,
   "id": "78c74450",
   "metadata": {
    "ExecuteTime": {
     "end_time": "2021-07-21T23:12:03.045854Z",
     "start_time": "2021-07-21T23:12:03.038527Z"
    },
    "hidden": true
   },
   "outputs": [
    {
     "data": {
      "text/plain": [
       "array([[115,  31,  17,  54,   7],\n",
       "       [179,   1,  13,  70,   8],\n",
       "       [237,   0,  10,  63,  15],\n",
       "       [171,   0,  12,  37,  19],\n",
       "       [182,  27,   7,  60,   6]])"
      ]
     },
     "execution_count": 27,
     "metadata": {},
     "output_type": "execute_result"
    }
   ],
   "source": [
    "num_pos_stack = np.row_stack(num_pos)\n",
    "\n",
    "num_pos_stack.shape\n",
    "num_pos_stack[:,:5]"
   ]
  },
  {
   "cell_type": "markdown",
   "id": "29962751",
   "metadata": {
    "hidden": true
   },
   "source": [
    "### Input File Folding and Transformation"
   ]
  },
  {
   "cell_type": "code",
   "execution_count": 28,
   "id": "aaf664f5",
   "metadata": {
    "ExecuteTime": {
     "end_time": "2021-07-21T23:12:04.578615Z",
     "start_time": "2021-07-21T23:12:04.464343Z"
    },
    "hidden": true
   },
   "outputs": [],
   "source": [
    "folding_size = 2\n",
    "ecfp_folded = sc.fold_transform_inputs(ecfp_tocsr, folding_size=folding_size)\n"
   ]
  },
  {
   "cell_type": "code",
   "execution_count": 29,
   "id": "21cce503",
   "metadata": {
    "ExecuteTime": {
     "end_time": "2021-07-21T23:12:05.369591Z",
     "start_time": "2021-07-21T23:12:05.364438Z"
    },
    "hidden": true
   },
   "outputs": [
    {
     "name": "stdout",
     "output_type": "stream",
     "text": [
      "<18388x85277 sparse matrix of type '<class 'numpy.float64'>'\n",
      "\twith 1494038 stored elements in Compressed Sparse Row format>\n",
      "<18388x2 sparse matrix of type '<class 'numpy.float64'>'\n",
      "\twith 36776 stored elements in Compressed Sparse Row format>\n"
     ]
    }
   ],
   "source": [
    "print(repr(ecfp_tocsr))\n",
    "print(repr(ecfp_folded))"
   ]
  },
  {
   "cell_type": "code",
   "execution_count": 30,
   "id": "b4fff255",
   "metadata": {
    "ExecuteTime": {
     "end_time": "2021-07-21T23:12:06.377812Z",
     "start_time": "2021-07-21T23:12:06.263614Z"
    },
    "hidden": true
   },
   "outputs": [
    {
     "name": "stdout",
     "output_type": "stream",
     "text": [
      "\n",
      " [    0     0     0 ... 18387 18387 18387] (1494038,) \n",
      " [   10    13    21 ... 84737 84738 84741] (1494038,)\n",
      "[10 13 21 ... 57 58 61] 1494038\n",
      "<18388x73 sparse matrix of type '<class 'numpy.float64'>'\n",
      "\twith 899350 stored elements in Compressed Sparse Row format>\n",
      "<18388x73 sparse matrix of type '<class 'numpy.float64'>'\n",
      "\twith 899350 stored elements in Compressed Sparse Row format>\n"
     ]
    }
   ],
   "source": [
    "folding_size = 73\n",
    "idx = ecfp_tocsr.nonzero()\n",
    "print('\\n', idx[0], idx[0].shape,'\\n', idx[1], idx[1].shape)\n",
    "\n",
    "folded = idx[1] % folding_size\n",
    "print(folded, len(folded))\n",
    "x = scipy.sparse.csr_matrix((ecfp_tocsr.data, (idx[0], folded)), shape=(ecfp_tocsr.shape[0], folding_size))\n",
    "print(repr(x))\n",
    "\n",
    "## Eliminate dups by adding them together.\n",
    "x.sum_duplicates()\n",
    "print(repr(x))"
   ]
  },
  {
   "cell_type": "code",
   "execution_count": 31,
   "id": "d269c794",
   "metadata": {
    "ExecuteTime": {
     "end_time": "2021-07-21T23:12:06.955537Z",
     "start_time": "2021-07-21T23:12:06.951594Z"
    },
    "hidden": true
   },
   "outputs": [],
   "source": [
    "# print(x)"
   ]
  },
  {
   "cell_type": "markdown",
   "id": "737ba282",
   "metadata": {},
   "source": [
    "## Training Setup"
   ]
  },
  {
   "cell_type": "code",
   "execution_count": 42,
   "id": "2e790f75",
   "metadata": {
    "ExecuteTime": {
     "end_time": "2021-09-14T03:34:08.787572Z",
     "start_time": "2021-09-14T03:34:08.783798Z"
    }
   },
   "outputs": [],
   "source": [
    "from sparsechem.utils import training_arguments\n",
    "# %load_ext autoreload\n",
    "# %autoreload 2\n",
    "# import sparsechem as sc"
   ]
  },
  {
   "cell_type": "code",
   "execution_count": 212,
   "id": "ecc782f7",
   "metadata": {
    "ExecuteTime": {
     "end_time": "2021-09-14T05:24:05.048768Z",
     "start_time": "2021-09-14T05:24:05.026823Z"
    }
   },
   "outputs": [],
   "source": [
    "parser = training_arguments()\n",
    "\n",
    "dev = \"cpu\" \n",
    "data_dir=\"test_chembl23\"\n",
    "rm_output=False\n",
    "rstr = random_str(12)\n",
    "output_dir = f\"./{data_dir}/models-{rstr}/\"\n",
    "cmd = (\n",
    "        f\" --x ./{data_dir}/chembl_23mini_x.npy\" +\n",
    "        f\" --y_class ./{data_dir}/chembl_23mini_y.npy\" +\n",
    "        f\" --folding ./{data_dir}/chembl_23mini_folds.npy\" +\n",
    "        f\" --batch_ratio 0.1\" +\n",
    "        f\" --output_dir {output_dir}\" +\n",
    "        f\" --hidden_sizes 20 20 \" +\n",
    "        f\" --epochs 2\" +\n",
    "        f\" --lr 1e-3\" +\n",
    "        f\" --lr_steps 1\" +\n",
    "        f\" --dev {dev}\" +\n",
    "        f\" --verbose 1\"\n",
    ")\n",
    "\n",
    "args = parser.parse_args(cmd.split())"
   ]
  },
  {
   "cell_type": "code",
   "execution_count": 213,
   "id": "47d5b0db",
   "metadata": {
    "ExecuteTime": {
     "end_time": "2021-09-14T05:24:06.123277Z",
     "start_time": "2021-09-14T05:24:06.093699Z"
    }
   },
   "outputs": [
    {
     "name": "stdout",
     "output_type": "stream",
     "text": [
      "\n",
      "   Arguments passed :\n",
      "   --------------------\n",
      "   batch_ratio                    0.1\n",
      "   censored_loss                  1\n",
      "   dev                            cpu\n",
      "   epochs                         2\n",
      "   eval_frequency                 1\n",
      "   eval_train                     0\n",
      "   fold_inputs                    None\n",
      "   fold_te                        None\n",
      "   fold_va                        0\n",
      "   folding                        ./test_chembl23/chembl_23mini_folds.npy\n",
      "   hidden_sizes                   [20, 20]\n",
      "   input_size_freq                None\n",
      "   input_transform                none\n",
      "   internal_batch_max             None\n",
      "   last_dropout                   0.2\n",
      "   last_non_linearity             relu\n",
      "   lr                             0.001\n",
      "   lr_alpha                       0.3\n",
      "   lr_steps                       [1]\n",
      "   middle_dropout                 0.0\n",
      "   middle_non_linearity           relu\n",
      "   min_samples_auc                None\n",
      "   min_samples_class              5\n",
      "   min_samples_regr               10\n",
      "   normalize_loss                 None\n",
      "   output_dir                     ./test_chembl23/models-xasmphajqzej/\n",
      "   prefix                         run\n",
      "   run_name                       None\n",
      "   save_board                     1\n",
      "   save_model                     1\n",
      "   verbose                        1\n",
      "   weight_decay                   0.0\n",
      "   weights_class                  None\n",
      "   weights_regr                   None\n",
      "   x                              ./test_chembl23/chembl_23mini_x.npy\n",
      "   y_censor                       None\n",
      "   y_class                        ./test_chembl23/chembl_23mini_y.npy\n",
      "   y_regr                         None\n",
      "\n",
      "\n"
     ]
    }
   ],
   "source": [
    "display_input_parms(args)"
   ]
  },
  {
   "cell_type": "code",
   "execution_count": 214,
   "id": "8a1481d5",
   "metadata": {
    "ExecuteTime": {
     "end_time": "2021-09-14T05:24:11.301862Z",
     "start_time": "2021-09-14T05:24:11.276233Z"
    }
   },
   "outputs": [
    {
     "name": "stdout",
     "output_type": "stream",
     "text": [
      "\n",
      "Run name is 'sc_run_h20.20_ldo0.2_wd0.0_lr0.001_lrsteps1_ep2_fva0_fteNone'.\n"
     ]
    }
   ],
   "source": [
    "##\n",
    "## Generate runname if one wasn't provided in input args \n",
    "##\n",
    "if args.run_name is not None:\n",
    "    name = args.run_name\n",
    "else:\n",
    "    name  = f\"sc_{args.prefix}_h{'.'.join([str(h) for h in args.hidden_sizes])}_ldo{args.last_dropout:.1f}_wd{args.weight_decay}\"\n",
    "    name += f\"_lr{args.lr}_lrsteps{'.'.join([str(s) for s in args.lr_steps])}_ep{args.epochs}\"\n",
    "    name += f\"_fva{args.fold_va}_fte{args.fold_te}\"\n",
    "vprint(f\"\\nRun name is '{name}'.\")"
   ]
  },
  {
   "cell_type": "code",
   "execution_count": 217,
   "id": "2405031e",
   "metadata": {
    "ExecuteTime": {
     "end_time": "2021-09-14T05:25:07.873340Z",
     "start_time": "2021-09-14T05:25:07.849404Z"
    }
   },
   "outputs": [
    {
     "name": "stdout",
     "output_type": "stream",
     "text": [
      "\n",
      "args.save_board is '1' - will be written to ./test_chembl23/models-xasmphajqzej/boards/sc_run_h20.20_ldo0.2_wd0.0_lr0.001_lrsteps1_ep2_fva0_fteNone.\n"
     ]
    }
   ],
   "source": [
    "##\n",
    "## if args.save_board, Setup tensorboard writer\n",
    "##\n",
    "if args.save_board:\n",
    "    tb_name = os.path.join(args.output_dir, \"boards\", name)\n",
    "    vprint(f\"\\nargs.save_board is '{args.save_board}' - will be written to {tb_name}.\")\n",
    "    writer  = SummaryWriter(tb_name)\n",
    "else:\n",
    "    writer = Nothing()\n",
    "\n",
    "assert args.input_size_freq is None, \"Using tail compression not yet supported.\""
   ]
  },
  {
   "cell_type": "code",
   "execution_count": 218,
   "id": "87cc0d12",
   "metadata": {
    "ExecuteTime": {
     "end_time": "2021-09-14T05:25:13.035532Z",
     "start_time": "2021-09-14T05:25:13.017063Z"
    }
   },
   "outputs": [],
   "source": [
    "## Verify presence of Y label data\n",
    "if (args.y_class is None) and (args.y_regr is None):\n",
    "    raise ValueError(\"No label data specified, please add --y_class and/or --y_regr.\")\n",
    "\n",
    "##"
   ]
  },
  {
   "cell_type": "code",
   "execution_count": null,
   "id": "196e248f",
   "metadata": {},
   "outputs": [],
   "source": []
  },
  {
   "cell_type": "code",
   "execution_count": 219,
   "id": "59ee4b26",
   "metadata": {
    "ExecuteTime": {
     "end_time": "2021-09-14T05:25:16.143734Z",
     "start_time": "2021-09-14T05:25:16.105297Z"
    }
   },
   "outputs": [
    {
     "name": "stdout",
     "output_type": "stream",
     "text": [
      "ecfp shape                   : (18388, 85277)\n",
      "y_class shape                : (18388, 100)\n",
      "Created y_regr shape         : (18388, 0)\n",
      "Created y_censor shape       : (18388, 0)\n",
      "folding shape                : (18388,)\n",
      "\n",
      "x shape              : (18388, 85277)\n",
      "y_class shape        : (18388, 100)\n",
      "y_regr shape         : (18388, 0)\n",
      "y_censor shape       : (18388, 0)\n"
     ]
    }
   ],
   "source": [
    "ecfp     = sc.load_sparse(args.x)\n",
    "y_class  = sc.load_sparse(args.y_class)\n",
    "y_regr   = sc.load_sparse(args.y_regr)\n",
    "y_censor = sc.load_sparse(args.y_censor)\n",
    " \n",
    "vprint(f\"ecfp shape                   : {ecfp.shape}\")\n",
    "vprint(f\"y_class shape                : {y_class.shape}\")\n",
    "\n",
    "if (y_regr is not None):\n",
    "    vprint(f\"y_regr shape         : {y_regr.shape}\")\n",
    "\n",
    "if (y_censor is not None):\n",
    "    vprint(f\"y_censor shape       : {y_censor.shape}\")\n",
    "\n",
    "if (y_regr is None) and (y_censor is not None):\n",
    "    raise ValueError(\"y_censor provided please also provide --y_regr.\")\n",
    "\n",
    "if y_class is None:\n",
    "    y_class = scipy.sparse.csr_matrix((ecfp.shape[0], 0))\n",
    "    vprint(f\"Created y_class shape        : {y_class.shape}\")\n",
    "\n",
    "if y_regr is None:\n",
    "    y_regr  = scipy.sparse.csr_matrix((ecfp.shape[0], 0))\n",
    "    vprint(f\"Created y_regr shape         : {y_regr.shape}\")\n",
    "\n",
    "if y_censor is None:\n",
    "    y_censor = scipy.sparse.csr_matrix(y_regr.shape)\n",
    "    vprint(f\"Created y_censor shape       : {y_censor.shape}\")\n",
    "    \n",
    "folding = np.load(args.folding)\n",
    "assert ecfp.shape[0] == folding.shape[0], \"x and folding must have same number of rows\"\n",
    "vprint(f\"folding shape                : {folding.shape}\")\n",
    "\n",
    "\n",
    "vprint() \n",
    "vprint(f\"x shape              : {ecfp.shape}\")\n",
    "vprint(f\"y_class shape        : {y_class.shape}\")\n",
    "vprint(f\"y_regr shape         : {y_regr.shape}\")\n",
    "vprint(f\"y_censor shape       : {y_censor.shape}\")"
   ]
  },
  {
   "cell_type": "markdown",
   "id": "32c44317",
   "metadata": {},
   "source": [
    "#### Loading task weights"
   ]
  },
  {
   "cell_type": "code",
   "execution_count": 221,
   "id": "6690883b",
   "metadata": {
    "ExecuteTime": {
     "end_time": "2021-09-14T05:25:38.381660Z",
     "start_time": "2021-09-14T05:25:38.355544Z"
    }
   },
   "outputs": [
    {
     "name": "stdout",
     "output_type": "stream",
     "text": [
      "tasks_class: \n",
      "namespace(aggregation_weight=None, censored_weight=tensor([]), task_type=None, training_weight=tensor([1., 1., 1., 1., 1., 1., 1., 1., 1., 1., 1., 1., 1., 1., 1., 1., 1., 1., 1., 1., 1., 1., 1., 1., 1., 1., 1., 1.,\n",
      "        1., 1., 1., 1., 1., 1., 1., 1., 1., 1., 1., 1., 1., 1., 1., 1., 1., 1., 1., 1., 1., 1., 1., 1., 1., 1., 1., 1.,\n",
      "        1., 1., 1., 1., 1., 1., 1., 1., 1., 1., 1., 1., 1., 1., 1., 1., 1., 1., 1., 1., 1., 1., 1., 1., 1., 1., 1., 1.,\n",
      "        1., 1., 1., 1., 1., 1., 1., 1., 1., 1., 1., 1., 1., 1., 1., 1.])) \n",
      "\n",
      "tasks_regr : \n",
      "namespace(aggregation_weight=None, censored_weight=tensor([]), task_type=None, training_weight=tensor([]))  \n",
      "\n"
     ]
    }
   ],
   "source": [
    "tasks_class = sc.load_task_weights(args.weights_class, y=y_class, label=\"y_class\")\n",
    "tasks_regr  = sc.load_task_weights(args.weights_regr , y=y_regr, label=\"y_regr\")\n",
    "vprint(f\"tasks_class: \\n{tasks_class} \\n\")\n",
    "vprint(f\"tasks_regr : \\n{tasks_regr}  \\n\")"
   ]
  },
  {
   "cell_type": "markdown",
   "id": "bb08638e",
   "metadata": {},
   "source": [
    "#### Input folding & transformation"
   ]
  },
  {
   "cell_type": "code",
   "execution_count": 222,
   "id": "f1f5bc41",
   "metadata": {
    "ExecuteTime": {
     "end_time": "2021-09-14T05:25:39.059541Z",
     "start_time": "2021-09-14T05:25:39.040060Z"
    }
   },
   "outputs": [
    {
     "name": "stdout",
     "output_type": "stream",
     "text": [
      "args.fold_inputs : None \t\t  transform: none\n",
      "\n",
      "<18388x85277 sparse matrix of type '<class 'numpy.float64'>'\n",
      "\twith 1494038 stored elements in Compressed Sparse Row format>\n",
      "<18388x85277 sparse matrix of type '<class 'numpy.float64'>'\n",
      "\twith 1494038 stored elements in Compressed Sparse Row format>\n"
     ]
    }
   ],
   "source": [
    "print(f\"args.fold_inputs : {args.fold_inputs} \\t\\t  transform: {args.input_transform}\\n\")\n",
    "print(repr(ecfp))\n",
    "ecfp = sc.fold_transform_inputs(ecfp, folding_size=args.fold_inputs, transform=args.input_transform)##\n",
    "print(repr(ecfp))"
   ]
  },
  {
   "cell_type": "markdown",
   "id": "086041f2",
   "metadata": {},
   "source": [
    "#### Get number of positive / neg and total for each classes"
   ]
  },
  {
   "cell_type": "code",
   "execution_count": 223,
   "id": "aa8aa275",
   "metadata": {
    "ExecuteTime": {
     "end_time": "2021-09-14T05:25:39.541133Z",
     "start_time": "2021-09-14T05:25:39.518626Z"
    }
   },
   "outputs": [
    {
     "name": "stdout",
     "output_type": "stream",
     "text": [
      "[]\n"
     ]
    }
   ],
   "source": [
    "num_pos    = np.array((y_class == +1).sum(0)).flatten()\n",
    "num_neg    = np.array((y_class == -1).sum(0)).flatten()\n",
    "num_class  = np.array((y_class != 0).sum(0)).flatten()\n",
    "if (num_class != num_pos + num_neg).any():\n",
    "    raise ValueError(\"For classification all y values (--y_class/--y) must be 1 or -1.\")\n",
    "\n",
    "num_regr   = np.bincount(y_regr.indices, minlength=y_regr.shape[1])\n",
    "\n",
    "print(num_regr)"
   ]
  },
  {
   "cell_type": "code",
   "execution_count": 224,
   "id": "506db3b9",
   "metadata": {
    "ExecuteTime": {
     "end_time": "2021-09-14T05:25:39.767235Z",
     "start_time": "2021-09-14T05:25:39.747236Z"
    }
   },
   "outputs": [
    {
     "name": "stdout",
     "output_type": "stream",
     "text": [
      "None\n",
      "[4 0 0 ... 3 0 2]\n"
     ]
    }
   ],
   "source": [
    "print(tasks_class.aggregation_weight)\n",
    "print(folding)"
   ]
  },
  {
   "cell_type": "code",
   "execution_count": 225,
   "id": "70f81ae8",
   "metadata": {
    "ExecuteTime": {
     "end_time": "2021-09-14T05:25:39.998935Z",
     "start_time": "2021-09-14T05:25:39.974166Z"
    }
   },
   "outputs": [],
   "source": [
    "if tasks_class.aggregation_weight is None:\n",
    "    '''\n",
    "    fold classes \n",
    "    '''\n",
    "    ## using min_samples rule\n",
    "    fold_pos, fold_neg = sc.class_fold_counts(y_class, folding)\n",
    "    n = args.min_samples_class\n",
    "    tasks_class.aggregation_weight = ((fold_pos >= n).all(0) & (fold_neg >= n)).all(0).astype(np.float64)"
   ]
  },
  {
   "cell_type": "code",
   "execution_count": 226,
   "id": "dc4abce5",
   "metadata": {
    "ExecuteTime": {
     "end_time": "2021-09-14T05:25:40.523691Z",
     "start_time": "2021-09-14T05:25:40.500957Z"
    }
   },
   "outputs": [],
   "source": [
    "tasks_regr.aggregation_weight"
   ]
  },
  {
   "cell_type": "code",
   "execution_count": 229,
   "id": "b852fac5",
   "metadata": {
    "ExecuteTime": {
     "end_time": "2021-09-14T05:25:53.863708Z",
     "start_time": "2021-09-14T05:25:53.837197Z"
    }
   },
   "outputs": [
    {
     "name": "stdout",
     "output_type": "stream",
     "text": [
      "proceed\n"
     ]
    }
   ],
   "source": [
    "if tasks_regr.aggregation_weight is None:\n",
    "    print(\"proceed\")\n",
    "    if y_censor.nnz == 0:\n",
    "        y_regr2 = y_regr.copy()\n",
    "        y_regr2.data[:] = 1\n",
    "    else:\n",
    "        ## only counting uncensored data\n",
    "        y_regr2      = y_censor.copy()\n",
    "        y_regr2.data = (y_regr2.data == 0).astype(np.int32)\n",
    "  \n",
    "    fold_regr, _ = sc.class_fold_counts(y_regr2, folding)\n",
    "    del y_regr2\n",
    "    tasks_regr.aggregation_weight = (fold_regr >= args.min_samples_regr).all(0).astype(np.float64)"
   ]
  },
  {
   "cell_type": "code",
   "execution_count": 230,
   "id": "c73ff166",
   "metadata": {
    "ExecuteTime": {
     "end_time": "2021-09-14T05:25:56.150400Z",
     "start_time": "2021-09-14T05:25:56.117510Z"
    }
   },
   "outputs": [
    {
     "name": "stdout",
     "output_type": "stream",
     "text": [
      "Input dimension      : 85277\n",
      "#samples             : 18388\n",
      "#classification tasks: 100\n",
      "#regression tasks    : 0\n",
      "Using 6 classification tasks for calculating aggregated metrics (AUCROC, F1_max, etc).\n",
      "Using 0 regression tasks for calculating metrics (RMSE, Rsquared, correlation).\n",
      "args.fold_te         : None\n"
     ]
    }
   ],
   "source": [
    "vprint(f\"Input dimension      : {ecfp.shape[1]}\")\n",
    "vprint(f\"#samples             : {ecfp.shape[0]}\")\n",
    "vprint(f\"#classification tasks: {y_class.shape[1]}\")\n",
    "vprint(f\"#regression tasks    : {y_regr.shape[1]}\")\n",
    "vprint(f\"Using {(tasks_class.aggregation_weight > 0).sum()} classification tasks for calculating aggregated metrics (AUCROC, F1_max, etc).\")\n",
    "vprint(f\"Using {(tasks_regr.aggregation_weight > 0).sum()} regression tasks for calculating metrics (RMSE, Rsquared, correlation).\")\n",
    "vprint(f\"args.fold_te         : {args.fold_te}\")"
   ]
  },
  {
   "cell_type": "code",
   "execution_count": 231,
   "id": "85a60dcb",
   "metadata": {
    "ExecuteTime": {
     "end_time": "2021-09-14T05:25:59.167679Z",
     "start_time": "2021-09-14T05:25:59.147264Z"
    }
   },
   "outputs": [
    {
     "name": "stdout",
     "output_type": "stream",
     "text": [
      "args.fold_te is None\n"
     ]
    }
   ],
   "source": [
    "if args.fold_te is not None and args.fold_te >= 0:\n",
    "    ## removing test data\n",
    "    assert args.fold_te != args.fold_va, \"fold_va and fold_te must not be equal.\"\n",
    "    keep    = folding != args.fold_te\n",
    "    ecfp    = ecfp[keep]\n",
    "    y_class = y_class[keep]\n",
    "    y_regr  = y_regr[keep]\n",
    "    y_censor= y_censor[keep]\n",
    "    folding = folding[keep]\n",
    "else:\n",
    "    print(\"args.fold_te is None\")"
   ]
  },
  {
   "cell_type": "markdown",
   "id": "f12d1e1f",
   "metadata": {},
   "source": [
    "#### Identify training and validation data"
   ]
  },
  {
   "cell_type": "code",
   "execution_count": 232,
   "id": "8d6135b4",
   "metadata": {
    "ExecuteTime": {
     "end_time": "2021-09-14T05:26:00.555736Z",
     "start_time": "2021-09-14T05:26:00.534438Z"
    }
   },
   "outputs": [
    {
     "name": "stdout",
     "output_type": "stream",
     "text": [
      "fold_va        : 0\n",
      "idx_va         : [    0     3     4 ... 18384 18385 18387]    Length: 14633\n",
      "idx_va         : [    1     2     7 ... 18377 18380 18386]    Length: 3755\n"
     ]
    }
   ],
   "source": [
    "fold_va = args.fold_va\n",
    "\n",
    "idx_tr  = np.where(folding != fold_va)[0]\n",
    "idx_va  = np.where(folding == fold_va)[0]\n",
    "\n",
    "vprint(f\"fold_va        : {fold_va}\")\n",
    "vprint(f\"idx_va         : {idx_tr}    Length: {len(idx_tr)}\")\n",
    "vprint(f\"idx_va         : {idx_va}    Length: {len(idx_va)}\")"
   ]
  },
  {
   "cell_type": "code",
   "execution_count": 233,
   "id": "41412c62",
   "metadata": {
    "ExecuteTime": {
     "end_time": "2021-09-14T05:26:01.381587Z",
     "start_time": "2021-09-14T05:26:01.358649Z"
    }
   },
   "outputs": [
    {
     "name": "stdout",
     "output_type": "stream",
     "text": [
      "<14633x100 sparse matrix of type '<class 'numpy.float64'>'\n",
      "\twith 16840 stored elements in Compressed Sparse Row format> \n",
      " <3755x100 sparse matrix of type '<class 'numpy.float64'>'\n",
      "\twith 4309 stored elements in Compressed Sparse Row format>\n",
      "<14633x0 sparse matrix of type '<class 'numpy.float64'>'\n",
      "\twith 0 stored elements in Compressed Sparse Row format> \n",
      " <3755x0 sparse matrix of type '<class 'numpy.float64'>'\n",
      "\twith 0 stored elements in Compressed Sparse Row format>\n",
      "<14633x0 sparse matrix of type '<class 'numpy.float64'>'\n",
      "\twith 0 stored elements in Compressed Sparse Row format> \n",
      " <3755x0 sparse matrix of type '<class 'numpy.float64'>'\n",
      "\twith 0 stored elements in Compressed Sparse Row format>\n"
     ]
    }
   ],
   "source": [
    "y_class_tr = y_class[idx_tr]\n",
    "y_class_va = y_class[idx_va]\n",
    "y_regr_tr  = y_regr[idx_tr]\n",
    "y_regr_va  = y_regr[idx_va]\n",
    "y_censor_tr = y_censor[idx_tr]\n",
    "y_censor_va = y_censor[idx_va]\n",
    "\n",
    "print(repr(y_class_tr), '\\n', repr(y_class_va))\n",
    "print(repr(y_regr_tr), '\\n', repr(y_regr_va))\n",
    "print(repr(y_censor_tr), '\\n', repr(y_censor_va))"
   ]
  },
  {
   "cell_type": "code",
   "execution_count": 234,
   "id": "53beb9ae",
   "metadata": {
    "ExecuteTime": {
     "end_time": "2021-09-14T05:26:02.069259Z",
     "start_time": "2021-09-14T05:26:02.045297Z"
    }
   },
   "outputs": [
    {
     "name": "stdout",
     "output_type": "stream",
     "text": [
      " num pos va : [115  31  17  54   7  18 203   3  55  76  63   1  42   0  75  36   0   1  43   2   7   7   0   3   0  21   1  37 330\n",
      "  11  86   0   0 142  27  25   4   7 111  12   7  79   0  97 129  15  10   9   9  38 272   1   2   0 285  63 185   1\n",
      "   0   4  19  21  13   0  18  12   0   0  93  55   1  73  29  41  18   0  46  37  14   0  40  18   6   8  10 330   6\n",
      "   4   1   0   0   0   8   0   0   0   3   0   1   0]  sum: 3804\n",
      " num neg va : [17  0  0  0  0  1  3  4  2  2  0  0  0  1  2  0  0  0  0  2  0  0 13  0  0  0  0  0  6  0  0 30  0  0  0  3  3  3  2\n",
      "  0  0  1  1  1 18  0  2  0 85  0  0  2 13 47  1 11  0  0  0  2  0  1  1  1  3  0  0  0  0  0 18  0  9  3  0  4  1  0\n",
      " 23 11  6  0  5  0  0 46  4  4 73  2  0  7  1  0  0  0  0  0  4  0]  sum: 505\n",
      " num regr va: []\n"
     ]
    }
   ],
   "source": [
    "num_pos_va  = np.array((y_class_va == +1).sum(0)).flatten()\n",
    "num_neg_va  = np.array((y_class_va == -1).sum(0)).flatten()\n",
    "num_regr_va = np.bincount(y_regr_va.indices, minlength=y_regr.shape[1])\n",
    "\n",
    "print(f' num pos va : {num_pos_va[:100]}  sum: {num_pos_va.sum()}')\n",
    "print(f' num neg va : {num_neg_va[:100]}  sum: {num_neg_va.sum()}')\n",
    "print(f' num regr va: {num_regr_va}')"
   ]
  },
  {
   "cell_type": "markdown",
   "id": "3d5b04aa",
   "metadata": {},
   "source": [
    "#### Determine Batch Size"
   ]
  },
  {
   "cell_type": "code",
   "execution_count": 235,
   "id": "5c2584fa",
   "metadata": {
    "ExecuteTime": {
     "end_time": "2021-09-14T05:26:03.449877Z",
     "start_time": "2021-09-14T05:26:03.417276Z"
    }
   },
   "outputs": [
    {
     "name": "stdout",
     "output_type": "stream",
     "text": [
      " internal_batch_max: None\n",
      " batch ratio:  0.1    idx_tr.shape: (14633,)\n",
      " batch ratio * idx_tr.shape[0] : 1463.3000000000002\n",
      " batch size:  1464 \n",
      "\n",
      "\n",
      " batch_size / args.internal_batch_max : 1.464\n",
      " num int_batches: 2\n",
      " batch_size / num_int_batches : 732.0\n",
      " batch_size: 732\n",
      " internal batch size:   732\n"
     ]
    }
   ],
   "source": [
    "batch_size  = int(np.ceil(args.batch_ratio * idx_tr.shape[0]))\n",
    "num_int_batches = 1\n",
    "print(f\" internal_batch_max: {args.internal_batch_max}\")\n",
    "print(f\" batch ratio:  {args.batch_ratio}    idx_tr.shape: {idx_tr.shape}\")\n",
    "print(f\" batch ratio * idx_tr.shape[0] : {(args.batch_ratio * idx_tr.shape[0])}\")\n",
    "print(f\" batch size:  {batch_size} \\n\\n\")\n",
    "\n",
    "args.internal_batch_max = 1000\n",
    "if args.internal_batch_max is not None:\n",
    "    if args.internal_batch_max < batch_size:\n",
    "       \n",
    "        print(f\" batch_size / args.internal_batch_max : {batch_size / args.internal_batch_max}\")\n",
    "        print(f\" num int_batches: {int(np.ceil(batch_size / args.internal_batch_max))}\")\n",
    "        num_int_batches = int(np.ceil(batch_size / args.internal_batch_max)) \n",
    "        \n",
    "        print(f\" batch_size / num_int_batches : {batch_size / num_int_batches}\")\n",
    "        print(f\" batch_size: {int(np.ceil(batch_size / num_int_batches))}\")\n",
    "        batch_size      = int(np.ceil(batch_size / num_int_batches))\n",
    "        \n",
    "\n",
    "vprint(f\" internal batch size:   {batch_size}\")"
   ]
  },
  {
   "cell_type": "markdown",
   "id": "141050a8",
   "metadata": {},
   "source": [
    "\n",
    "### Istantiate Data Loaders"
   ]
  },
  {
   "cell_type": "code",
   "execution_count": 236,
   "id": "427767e1",
   "metadata": {
    "ExecuteTime": {
     "end_time": "2021-09-14T05:26:06.202609Z",
     "start_time": "2021-09-14T05:26:06.182547Z"
    }
   },
   "outputs": [
    {
     "data": {
      "text/plain": [
       "<18388x85277 sparse matrix of type '<class 'numpy.float64'>'\n",
       "\twith 1494038 stored elements in Compressed Sparse Row format>"
      ]
     },
     "execution_count": 236,
     "metadata": {},
     "output_type": "execute_result"
    }
   ],
   "source": [
    "ecfp"
   ]
  },
  {
   "cell_type": "code",
   "execution_count": 237,
   "id": "21cfccde",
   "metadata": {
    "ExecuteTime": {
     "end_time": "2021-09-14T05:26:06.567477Z",
     "start_time": "2021-09-14T05:26:06.517563Z"
    }
   },
   "outputs": [],
   "source": [
    "dataset_tr = sc.ClassRegrSparseDataset(x=ecfp[idx_tr], y_class=y_class_tr, y_regr=y_regr_tr, y_censor=y_censor_tr)\n",
    "dataset_va = sc.ClassRegrSparseDataset(x=ecfp[idx_va], y_class=y_class_va, y_regr=y_regr_va, y_censor=y_censor_va)"
   ]
  },
  {
   "cell_type": "code",
   "execution_count": 238,
   "id": "0ad9f6d8",
   "metadata": {
    "ExecuteTime": {
     "end_time": "2021-09-14T05:26:06.892805Z",
     "start_time": "2021-09-14T05:26:06.873497Z"
    }
   },
   "outputs": [
    {
     "name": "stdout",
     "output_type": "stream",
     "text": [
      "<sparsechem.data.ClassRegrSparseDataset object at 0x7f3c81abd670>\n"
     ]
    }
   ],
   "source": [
    "print(dataset_tr)"
   ]
  },
  {
   "cell_type": "code",
   "execution_count": 239,
   "id": "865b6c75",
   "metadata": {
    "ExecuteTime": {
     "end_time": "2021-09-14T05:26:07.185401Z",
     "start_time": "2021-09-14T05:26:07.165545Z"
    }
   },
   "outputs": [],
   "source": [
    "loader_tr = DataLoader(dataset_tr, batch_size=batch_size, num_workers = 8, pin_memory=True, collate_fn=dataset_tr.collate, shuffle=True)\n",
    "loader_va = DataLoader(dataset_va, batch_size=batch_size, num_workers = 4, pin_memory=True, collate_fn=dataset_va.collate, shuffle=False)\n",
    "\n",
    "args.input_size  = dataset_tr.input_size\n",
    "args.output_size = dataset_tr.output_size\n",
    "\n",
    "args.class_output_size = dataset_tr.class_output_size\n",
    "args.regr_output_size  = dataset_tr.regr_output_size"
   ]
  },
  {
   "cell_type": "code",
   "execution_count": 240,
   "id": "da77597a",
   "metadata": {
    "ExecuteTime": {
     "end_time": "2021-09-14T05:26:07.781557Z",
     "start_time": "2021-09-14T05:26:07.762117Z"
    }
   },
   "outputs": [
    {
     "name": "stdout",
     "output_type": "stream",
     "text": [
      " input size        : 85277     output size: 100\n",
      " class output size : 100     regr_output_size : 0\n"
     ]
    }
   ],
   "source": [
    "print(f\" input size        : {dataset_tr.input_size}     output size: {dataset_tr.output_size}\")\n",
    "print(f\" class output size : {dataset_tr.class_output_size}     regr_output_size : {dataset_tr.regr_output_size}\")"
   ]
  },
  {
   "cell_type": "markdown",
   "id": "a7a812d8",
   "metadata": {},
   "source": [
    "## Model Definition"
   ]
  },
  {
   "cell_type": "markdown",
   "id": "349f9d15",
   "metadata": {},
   "source": [
    "### Instantiate Model"
   ]
  },
  {
   "cell_type": "code",
   "execution_count": 246,
   "id": "1fd8154a",
   "metadata": {
    "ExecuteTime": {
     "end_time": "2021-09-14T05:27:27.210059Z",
     "start_time": "2021-09-14T05:27:27.172154Z"
    }
   },
   "outputs": [
    {
     "name": "stdout",
     "output_type": "stream",
     "text": [
      "\n",
      "   Arguments passed :\n",
      "   --------------------\n",
      "   batch_ratio                    0.1\n",
      "   censored_loss                  1\n",
      "   class_output_size              100\n",
      "   dev                            cpu\n",
      "   epochs                         2\n",
      "   eval_frequency                 1\n",
      "   eval_train                     0\n",
      "   fold_inputs                    None\n",
      "   fold_te                        None\n",
      "   fold_va                        0\n",
      "   folding                        ./test_chembl23/chembl_23mini_folds.npy\n",
      "   hidden_sizes                   [20, 20]\n",
      "   input_size                     85277\n",
      "   input_size_freq                85277\n",
      "   input_transform                none\n",
      "   internal_batch_max             1000\n",
      "   last_dropout                   0.2\n",
      "   last_non_linearity             relu\n",
      "   lr                             0.001\n",
      "   lr_alpha                       0.3\n",
      "   lr_steps                       [1]\n",
      "   middle_dropout                 0.0\n",
      "   middle_non_linearity           relu\n",
      "   min_samples_auc                None\n",
      "   min_samples_class              5\n",
      "   min_samples_regr               10\n",
      "   normalize_loss                 None\n",
      "   output_dir                     ./test_chembl23/models-xasmphajqzej/\n",
      "   output_size                    100\n",
      "   prefix                         run\n",
      "   regr_output_size               0\n",
      "   run_name                       None\n",
      "   save_board                     1\n",
      "   save_model                     1\n",
      "   verbose                        1\n",
      "   weight_decay                   0.0\n",
      "   weights_class                  None\n",
      "   weights_regr                   None\n",
      "   x                              ./test_chembl23/chembl_23mini_x.npy\n",
      "   y_censor                       None\n",
      "   y_class                        ./test_chembl23/chembl_23mini_y.npy\n",
      "   y_regr                         None\n",
      "\n",
      "\n"
     ]
    }
   ],
   "source": [
    "display_input_parms(args)"
   ]
  },
  {
   "cell_type": "code",
   "execution_count": 250,
   "id": "0ad6fd91",
   "metadata": {
    "ExecuteTime": {
     "end_time": "2021-09-14T05:28:09.916771Z",
     "start_time": "2021-09-14T05:28:09.671545Z"
    }
   },
   "outputs": [
    {
     "name": "stdout",
     "output_type": "stream",
     "text": [
      "The autoreload extension is already loaded. To reload it, use:\n",
      "  %reload_ext autoreload\n"
     ]
    },
    {
     "ename": "NameError",
     "evalue": "name 'net' is not defined",
     "output_type": "error",
     "traceback": [
      "\u001b[0;31m---------------------------------------------------------------------------\u001b[0m",
      "\u001b[0;31mNameError\u001b[0m                                 Traceback (most recent call last)",
      "\u001b[0;32m<ipython-input-250-cc2983018e5d>\u001b[0m in \u001b[0;36m<module>\u001b[0;34m\u001b[0m\n\u001b[1;32m      1\u001b[0m \u001b[0mget_ipython\u001b[0m\u001b[0;34m(\u001b[0m\u001b[0;34m)\u001b[0m\u001b[0;34m.\u001b[0m\u001b[0mrun_line_magic\u001b[0m\u001b[0;34m(\u001b[0m\u001b[0;34m'load_ext'\u001b[0m\u001b[0;34m,\u001b[0m \u001b[0;34m'autoreload'\u001b[0m\u001b[0;34m)\u001b[0m\u001b[0;34m\u001b[0m\u001b[0;34m\u001b[0m\u001b[0m\n\u001b[1;32m      2\u001b[0m \u001b[0mget_ipython\u001b[0m\u001b[0;34m(\u001b[0m\u001b[0;34m)\u001b[0m\u001b[0;34m.\u001b[0m\u001b[0mrun_line_magic\u001b[0m\u001b[0;34m(\u001b[0m\u001b[0;34m'autoreload'\u001b[0m\u001b[0;34m,\u001b[0m \u001b[0;34m'2'\u001b[0m\u001b[0;34m)\u001b[0m\u001b[0;34m\u001b[0m\u001b[0;34m\u001b[0m\u001b[0m\n\u001b[0;32m----> 3\u001b[0;31m \u001b[0;32mdel\u001b[0m \u001b[0mnet\u001b[0m\u001b[0;34m\u001b[0m\u001b[0;34m\u001b[0m\u001b[0m\n\u001b[0m",
      "\u001b[0;31mNameError\u001b[0m: name 'net' is not defined"
     ]
    }
   ],
   "source": [
    "%load_ext autoreload\n",
    "%autoreload 2\n",
    "del net"
   ]
  },
  {
   "cell_type": "code",
   "execution_count": 251,
   "id": "e0d478fb",
   "metadata": {
    "ExecuteTime": {
     "end_time": "2021-09-14T05:28:10.268317Z",
     "start_time": "2021-09-14T05:28:10.212035Z"
    }
   },
   "outputs": [
    {
     "name": "stdout",
     "output_type": "stream",
     "text": [
      " defining SparseFFN\n",
      " input_size_freq: 85277    input_size: 85277\n",
      " self.input_splits: [85277, 0]\n",
      " dev: cpu\n",
      " Net: \n",
      " SparseFFN(\n",
      "  (net): Sequential(\n",
      "    (0): SparseInputNet(\n",
      "      (net_freq): SparseLinear(in_features=85277, out_features=20, bias=True)\n",
      "    )\n",
      "    (1): MiddleNet(\n",
      "      (net): Sequential(\n",
      "        (layer_0): Sequential(\n",
      "          (0): ReLU()\n",
      "          (1): Dropout(p=0.0, inplace=False)\n",
      "          (2): Linear(in_features=20, out_features=20, bias=True)\n",
      "        )\n",
      "      )\n",
      "    )\n",
      "    (2): LastNet(\n",
      "      (net): Sequential(\n",
      "        (0): ReLU()\n",
      "        (1): Dropout(p=0.2, inplace=False)\n",
      "        (2): Linear(in_features=20, out_features=100, bias=True)\n",
      "      )\n",
      "    )\n",
      "  )\n",
      ")\n"
     ]
    }
   ],
   "source": [
    "dev  = torch.device(args.dev)\n",
    "net  = sc.SparseFFN(args)\n",
    "# net  = sc.SparseFFN(args).to(dev)\n",
    "print(f\" dev: {dev}\")\n",
    "print(f\" Net: \\n {net}\")"
   ]
  },
  {
   "cell_type": "code",
   "execution_count": null,
   "id": "e074379c",
   "metadata": {},
   "outputs": [],
   "source": []
  },
  {
   "cell_type": "markdown",
   "id": "c2272407",
   "metadata": {},
   "source": [
    "    Summarize the given PyTorch model. Summarized information includes:\n",
    "        1) Layer names,\n",
    "        2) input/output shapes,\n",
    "        3) kernel shape,\n",
    "        4) # of parameters,\n",
    "        5) # of operations (Mult-Adds)\n",
    "\n",
    "    Args:\n",
    "        model (nn.Module):\n",
    "                PyTorch model to summarize. The model should be fully in either train()\n",
    "                or eval() mode. If layers are not all in the same mode, running summary\n",
    "                may have side effects on batchnorm or dropout statistics. If you\n",
    "                encounter an issue with this, please open a GitHub issue.\n",
    "\n",
    "    input_data (Sequence of Sizes or Tensors):\n",
    "            Example input tensor of the model (dtypes inferred from model input).\n",
    "            - OR -\n",
    "            Shape of input data as a List/Tuple/torch.Size\n",
    "            (dtypes must match model input, default is FloatTensors).\n",
    "            You should NOT include batch size in the tuple.\n",
    "            - OR -\n",
    "            If input_data is not provided, no forward pass through the network is\n",
    "            performed, and the provided model information is limited to layer names.\n",
    "            Default: None\n",
    "\n",
    "    batch_dim (int):\n",
    "            Batch_dimension of input data. If batch_dim is None, the input data\n",
    "            is assumed to contain the batch dimension.\n",
    "            WARNING: in a future version, the default will change to None.\n",
    "            Default: 0\n",
    "\n",
    "    branching (bool):\n",
    "            Whether to use the branching layout for the printed output.\n",
    "            Default: True\n",
    "\n",
    "    col_names (Iterable[str]):\n",
    "            Specify which columns to show in the output. Currently supported:\n",
    "            (\"input_size\", \"output_size\", \"num_params\", \"kernel_size\", \"mult_adds\")\n",
    "            If input_data is not provided, only \"num_params\" is used.\n",
    "            Default: (\"output_size\", \"num_params\")\n",
    "\n",
    "    col_width (int):\n",
    "            Width of each column.\n",
    "            Default: 25\n",
    "\n",
    "    depth (int):\n",
    "            Number of nested layers to traverse (e.g. Sequentials).\n",
    "            Default: 3\n",
    "\n",
    "    device (torch.Device):\n",
    "            Uses this torch device for model and input_data.\n",
    "            If not specified, uses result of torch.cuda.is_available().\n",
    "            Default: None\n",
    "\n",
    "    dtypes (List[torch.dtype]):\n",
    "            For multiple inputs, specify the size of both inputs, and\n",
    "            also specify the types of each parameter here.\n",
    "            Default: None\n",
    "\n",
    "    verbose (int):\n",
    "            0 (quiet): No output\n",
    "            1 (default): Print model summary\n",
    "            2 (verbose): Show weight and bias layers in full detail\n",
    "            Default: 1\n",
    "\n",
    "    *args, **kwargs:\n",
    "            Other arguments used in `model.forward` function.\n",
    "\n",
    "    Return:\n",
    "        ModelStatistics object\n",
    "                See torchsummary/model_statistics.py for more information."
   ]
  },
  {
   "cell_type": "markdown",
   "id": "5ed2615f",
   "metadata": {},
   "source": [
    "#### Display Model Summary"
   ]
  },
  {
   "cell_type": "code",
   "execution_count": 252,
   "id": "7301c71e",
   "metadata": {
    "ExecuteTime": {
     "end_time": "2021-09-14T05:28:27.870785Z",
     "start_time": "2021-09-14T05:28:27.719726Z"
    }
   },
   "outputs": [
    {
     "name": "stdout",
     "output_type": "stream",
     "text": [
      "==================================================================================================================================\n",
      "Layer (type (var_name):depth-idx)                  Input Shape      Output Shape     Param #          Kernel Shape     Mult-Adds\n",
      "==================================================================================================================================\n",
      "SparseFFN                                          --               --               --               --               --\n",
      "├─Sequential (net): 1-1                            [200, 85277]     [200, 100]       --               --               --\n",
      "│    └─0.net_freq.weight                                                             ├─1,705,540      [85277, 20]\n",
      "│    └─0.net_freq.bias                                                               ├─20             [20]\n",
      "│    └─1.net.layer_0.2.weight                                                        ├─400            [20, 20]\n",
      "│    └─1.net.layer_0.2.bias                                                          ├─20             [20]\n",
      "│    └─2.net.2.weight                                                                ├─2,000          [100, 20]\n",
      "│    └─2.net.2.bias                                                                  └─100            [100]\n",
      "│    └─SparseInputNet (0): 2-1                     [200, 85277]     [200, 20]        --               --               --\n",
      "│    │    └─net_freq.weight                                                          ├─1,705,540      [85277, 20]\n",
      "│    │    └─net_freq.bias                                                            └─20             [20]\n",
      "│    │    └─SparseLinear (net_freq): 3-1           [200, 85277]     [200, 20]        1,705,560        [20, 85277]      341,112,000\n",
      "│    │    │    └─weight                                                              ├─1,705,540      [20, 85277]\n",
      "│    │    │    └─bias                                                                └─20             [20]\n",
      "│    └─MiddleNet (1): 2-2                          [200, 20]        [200, 20]        --               --               --\n",
      "│    │    └─net.layer_0.2.weight                                                     ├─400            [20, 20]\n",
      "│    │    └─net.layer_0.2.bias                                                       └─20             [20]\n",
      "│    │    └─Sequential (net): 3-2                  [200, 20]        [200, 20]        --               --               --\n",
      "│    │    │    └─layer_0.2.weight                                                    ├─400            [20, 20]\n",
      "│    │    │    └─layer_0.2.bias                                                      └─20             [20]\n",
      "│    │    │    └─Sequential (layer_0): 4-1         [200, 20]        [200, 20]        --               --               --\n",
      "│    │    │    │    └─2.weight                                                       ├─400            [20, 20]\n",
      "│    │    │    │    └─2.bias                                                         └─20             [20]\n",
      "│    │    │    │    └─ReLU (0): 5-1                [200, 20]        [200, 20]        --               --               --\n",
      "│    │    │    │    └─Dropout (1): 5-2             [200, 20]        [200, 20]        --               --               --\n",
      "│    │    │    │    └─Linear (2): 5-3              [200, 20]        [200, 20]        420              [20, 20]         84,000\n",
      "│    │    │    │    │    └─weight                                                    ├─400            [20, 20]\n",
      "│    │    │    │    │    └─bias                                                      └─20             [20]\n",
      "│    └─LastNet (2): 2-3                            [200, 20]        [200, 100]       --               --               --\n",
      "│    │    └─net.2.weight                                                             ├─2,000          [100, 20]\n",
      "│    │    └─net.2.bias                                                               └─100            [100]\n",
      "│    │    └─Sequential (net): 3-3                  [200, 20]        [200, 100]       --               --               --\n",
      "│    │    │    └─2.weight                                                            ├─2,000          [100, 20]\n",
      "│    │    │    └─2.bias                                                              └─100            [100]\n",
      "│    │    │    └─ReLU (0): 4-2                     [200, 20]        [200, 20]        --               --               --\n",
      "│    │    │    └─Dropout (1): 4-3                  [200, 20]        [200, 20]        --               --               --\n",
      "│    │    │    └─Linear (2): 4-4                   [200, 20]        [200, 100]       2,100            [20, 100]        420,000\n",
      "│    │    │    │    └─weight                                                         ├─2,000          [20, 100]\n",
      "│    │    │    │    └─bias                                                           └─100            [100]\n",
      "==================================================================================================================================\n",
      "Total params: 1,708,080\n",
      "Trainable params: 1,708,080\n",
      "Non-trainable params: 0\n",
      "Total mult-adds (M): 341.62\n",
      "==================================================================================================================================\n",
      "Input size (MB): 68.22\n",
      "Forward/backward pass size (MB): 0.22\n",
      "Params size (MB): 6.83\n",
      "Estimated Total Size (MB): 75.28\n",
      "==================================================================================================================================\n"
     ]
    }
   ],
   "source": [
    "# summary(model, input_size=(batch_size, 1, 28, 28))\n",
    "\n",
    "summary(net, input_size=(200, 85277), \n",
    "        col_names=[\"input_size\", \"output_size\", \"num_params\", \"kernel_size\", \"mult_adds\"],\n",
    "        verbose=2,\n",
    "        depth = 6,\n",
    "        col_width=16,\n",
    "        row_settings=[\"depth\",\"var_names\"],);"
   ]
  },
  {
   "cell_type": "markdown",
   "id": "c8adb5b0",
   "metadata": {},
   "source": [
    "#### Loss functions , Weights, and Optimizer"
   ]
  },
  {
   "cell_type": "code",
   "execution_count": 91,
   "id": "ca06d4b8",
   "metadata": {
    "ExecuteTime": {
     "end_time": "2021-09-14T04:22:36.518330Z",
     "start_time": "2021-09-14T04:22:36.364347Z"
    }
   },
   "outputs": [],
   "source": [
    "loss_class = torch.nn.BCEWithLogitsLoss(reduction=\"none\")\n",
    "loss_regr  = sc.censored_mse_loss\n",
    "\n",
    "if not args.censored_loss:\n",
    "    loss_regr = functools.partial(loss_regr, censored_enabled=False)\n"
   ]
  },
  {
   "cell_type": "code",
   "execution_count": 93,
   "id": "43017f55",
   "metadata": {
    "ExecuteTime": {
     "end_time": "2021-09-14T04:23:00.296468Z",
     "start_time": "2021-09-14T04:23:00.277202Z"
    }
   },
   "outputs": [
    {
     "name": "stdout",
     "output_type": "stream",
     "text": [
      "<function censored_mse_loss at 0x7f3c8eecd280>\n",
      "BCEWithLogitsLoss()\n"
     ]
    }
   ],
   "source": [
    "print(repr(loss_regr))\n",
    "print(repr(loss_class))"
   ]
  },
  {
   "cell_type": "code",
   "execution_count": 94,
   "id": "4a39af9b",
   "metadata": {
    "ExecuteTime": {
     "end_time": "2021-09-14T04:23:09.511126Z",
     "start_time": "2021-09-14T04:23:09.492883Z"
    }
   },
   "outputs": [],
   "source": [
    "tasks_class.training_weight = tasks_class.training_weight.to(dev)\n",
    "tasks_regr.training_weight  = tasks_regr.training_weight.to(dev)\n",
    "tasks_regr.censored_weight  = tasks_regr.censored_weight.to(dev)\n",
    "\n",
    "optimizer = torch.optim.Adam(net.parameters(), lr=args.lr, weight_decay=args.weight_decay)\n",
    "scheduler = MultiStepLR(optimizer, milestones=args.lr_steps, gamma=args.lr_alpha)\n",
    "\n",
    "num_prints = 0"
   ]
  },
  {
   "cell_type": "code",
   "execution_count": 100,
   "id": "12ce589a",
   "metadata": {
    "ExecuteTime": {
     "end_time": "2021-09-14T04:24:52.372780Z",
     "start_time": "2021-09-14T04:24:52.352995Z"
    }
   },
   "outputs": [
    {
     "name": "stdout",
     "output_type": "stream",
     "text": [
      "Adam (\n",
      "Parameter Group 0\n",
      "    amsgrad: False\n",
      "    betas: (0.9, 0.999)\n",
      "    eps: 1e-08\n",
      "    initial_lr: 0.001\n",
      "    lr: 0.001\n",
      "    weight_decay: 0.0\n",
      ")\n",
      "LR steps: [1]   gamma: 0.3\n",
      "<torch.optim.lr_scheduler.MultiStepLR object at 0x7f3c842bcaf0>\n"
     ]
    }
   ],
   "source": [
    "print(optimizer)\n",
    "print(f\"LR steps: {args.lr_steps}   gamma: {args.lr_alpha}\")\n",
    "print(scheduler)"
   ]
  },
  {
   "cell_type": "code",
   "execution_count": 199,
   "id": "af065594",
   "metadata": {
    "ExecuteTime": {
     "end_time": "2021-09-14T05:11:04.890326Z",
     "start_time": "2021-09-14T05:11:04.863274Z"
    }
   },
   "outputs": [],
   "source": [
    "from sparsechem import Nothing\n",
    "# if args.save_board:\n",
    "#     tb_name = os.path.join(args.output_dir, \"boards\", name)\n",
    "#     vprint(f\"\\nargs.save_board is '{args.save_board}' - will be written to {tb_name}.\")\n",
    "#     writer  = SummaryWriter(tb_name)\n",
    "# else:\n",
    "writer = Nothing()"
   ]
  },
  {
   "cell_type": "markdown",
   "id": "597eea10",
   "metadata": {},
   "source": [
    "## training loop`"
   ]
  },
  {
   "cell_type": "code",
   "execution_count": 207,
   "id": "c88e5f0b",
   "metadata": {
    "ExecuteTime": {
     "end_time": "2021-09-14T05:14:50.139923Z",
     "start_time": "2021-09-14T05:14:50.121696Z"
    }
   },
   "outputs": [
    {
     "name": "stdout",
     "output_type": "stream",
     "text": [
      "20\n"
     ]
    }
   ],
   "source": [
    "args.epochs = 20\n",
    "print(args.epochs)\n"
   ]
  },
  {
   "cell_type": "code",
   "execution_count": 208,
   "id": "31d4b4a6",
   "metadata": {
    "ExecuteTime": {
     "end_time": "2021-09-14T05:15:10.047810Z",
     "start_time": "2021-09-14T05:14:51.797262Z"
    }
   },
   "outputs": [
    {
     "name": "stdout",
     "output_type": "stream",
     "text": [
      "0      |  0.26536  0.34916  0.94332  0.91358  0.92081 |       nan       nan       nan |    0.6 \n",
      "1      |  0.23169  0.31658  0.95294  0.91591  0.92100 |       nan       nan       nan |    0.6 \n",
      "2      |  0.20527  0.29097  0.95905  0.91940  0.92214 |       nan       nan       nan |    0.6 \n",
      "3      |  0.18349  0.26869  0.96191  0.92548  0.92384 |       nan       nan       nan |    0.6 \n",
      "4      |  0.16677  0.25243  0.96241  0.92780  0.92576 |       nan       nan       nan |    0.6 \n",
      "5      |  0.15307  0.23865  0.96367  0.93348  0.93068 |       nan       nan       nan |    0.6 \n",
      "6      |  0.14169  0.22536  0.96466  0.93519  0.93699 |       nan       nan       nan |    0.5 \n",
      "7      |  0.13215  0.21458  0.96564  0.93764  0.93718 |       nan       nan       nan |    0.6 \n",
      "8      |  0.12422  0.20382  0.96650  0.93777  0.93718 |       nan       nan       nan |    0.6 \n",
      "9      |  0.11759  0.19450  0.96663  0.93779  0.93718 |       nan       nan       nan |    0.6 \n",
      "10     |  0.11179  0.18523  0.96751  0.94688  0.94479 |       nan       nan       nan |    0.5 \n",
      "11     |  0.10692  0.17730  0.96795  0.94695  0.94655 |       nan       nan       nan |    0.5 \n",
      "12     |  0.10287  0.17191  0.96822  0.94699  0.94678 |       nan       nan       nan |    0.6 \n",
      "13     |  0.09910  0.16582  0.96809  0.94697  0.94703 |       nan       nan       nan |    0.6 \n",
      "14     |  0.09599  0.16116  0.96824  0.94699  0.94678 |       nan       nan       nan |    0.5 \n",
      "15     |  0.09319  0.15529  0.96824  0.94699  0.94678 |       nan       nan       nan |    0.6 \n",
      "16     |  0.09071  0.14986  0.96836  0.94701  0.94653 |       nan       nan       nan |    0.6 \n",
      "17     |  0.08869  0.14618  0.96841  0.94702  0.94653 |       nan       nan       nan |    0.6 \n",
      "Epoch  |     logl  bceloss   aucroc    aucpr   f1_max |      rmse  rsquared  corrcoef | tr_time \n",
      "18     |  0.08665  0.14207  0.96890  0.95273  0.94652 |       nan       nan       nan |    0.5 \n",
      "19     |  0.08497  0.13961  0.96930  0.95338  0.94632 |       nan       nan       nan |    0.6 \n",
      "\n",
      "Saving performance metrics (AUCs) and model.\n"
     ]
    }
   ],
   "source": [
    "##\n",
    "## Training loop\n",
    "##\n",
    "for epoch in range(args.epochs):\n",
    "    t0 = time.time()\n",
    "    sc.train_class_regr(\n",
    "        net, optimizer,\n",
    "        loader          = loader_tr,\n",
    "        loss_class      = loss_class,\n",
    "        loss_regr       = loss_regr,\n",
    "        dev             = dev,\n",
    "        weights_class   = tasks_class.training_weight,\n",
    "        weights_regr    = tasks_regr.training_weight,\n",
    "        censored_weight = tasks_regr.censored_weight,\n",
    "        normalize_loss  = args.normalize_loss,\n",
    "        num_int_batches = num_int_batches,\n",
    "        progress        = args.verbose >= 2)\n",
    "\n",
    "    t1 = time.time()\n",
    "\n",
    "    eval_round = (args.eval_frequency > 0) and ((epoch + 1) % args.eval_frequency == 0)\n",
    "    last_round = epoch == args.epochs - 1\n",
    "\n",
    "    if eval_round or last_round:\n",
    "        results_va = sc.evaluate_class_regr(net, loader_va, \n",
    "                                            loss_class, loss_regr, \n",
    "                                            tasks_class=tasks_class, tasks_regr=tasks_regr, \n",
    "                                            dev=dev, progress = args.verbose >= 2)\n",
    "        for key, val in results_va[\"classification_agg\"].items():\n",
    "            writer.add_scalar(key+\"/va\", val, epoch)\n",
    "        for key, val in results_va[\"regression_agg\"].items():\n",
    "            writer.add_scalar(key+\"/va\", val, epoch)\n",
    "\n",
    "        if args.eval_train:\n",
    "            results_tr = sc.evaluate_class_regr(net, loader_tr, \n",
    "                                                loss_class, loss_regr, \n",
    "                                                tasks_class=tasks_class, tasks_regr=tasks_regr, \n",
    "                                                dev=dev, progress = args.verbose >= 2)\n",
    "            for key, val in results_tr[\"classification_agg\"].items():\n",
    "                writer.add_scalar(key+\"/tr\", val, epoch)\n",
    "            for key, val in results_tr[\"regression_agg\"].items():\n",
    "                writer.add_scalar(key+\"/tr\", val, epoch)\n",
    "        else:\n",
    "            results_tr = None\n",
    "\n",
    "        if args.verbose:\n",
    "            ## printing a new header every 20 lines\n",
    "            header = num_prints % 20 == 0\n",
    "            num_prints += 1\n",
    "            sc.print_metrics_cr(epoch, t1 - t0, results_tr, results_va, header)\n",
    "\n",
    "    scheduler.step()\n",
    "\n",
    "writer.close()\n",
    "vprint()\n",
    "vprint(\"Saving performance metrics (AUCs) and model.\")"
   ]
  },
  {
   "cell_type": "markdown",
   "id": "373ffdf0",
   "metadata": {
    "heading_collapsed": true
   },
   "source": [
    "### `train_class_regr()`"
   ]
  },
  {
   "cell_type": "code",
   "execution_count": 123,
   "id": "160acf41",
   "metadata": {
    "ExecuteTime": {
     "end_time": "2021-09-14T04:35:21.709183Z",
     "start_time": "2021-09-14T04:35:21.688911Z"
    },
    "hidden": true
   },
   "outputs": [],
   "source": [
    "# def train_class_regr(net, optimizer, loader, loss_class, loss_regr, dev,\n",
    "#                      weights_class, weights_regr, censored_weight,\n",
    "#                      normalize_loss=None, num_int_batches=1, progress=True):\n",
    "#     sc.train_class_regr(\n",
    "#         net, \n",
    "#         optimizer,\n",
    "loader          = loader_tr\n",
    "#         loss_class      = loss_class,\n",
    "#         loss_regr       = loss_regr,\n",
    "#         dev             = dev,\n",
    "weights_class   = tasks_class.training_weight\n",
    "weights_regr    = tasks_regr.training_weight\n",
    "censored_weight = tasks_regr.censored_weight\n",
    "normalize_loss  = args.normalize_loss\n",
    "num_int_batches = 1\n",
    "progress        = args.verbose >= 2"
   ]
  },
  {
   "cell_type": "code",
   "execution_count": 124,
   "id": "042f81c5",
   "metadata": {
    "ExecuteTime": {
     "end_time": "2021-09-14T04:35:30.612494Z",
     "start_time": "2021-09-14T04:35:30.595184Z"
    },
    "hidden": true
   },
   "outputs": [],
   "source": [
    "net.train()\n",
    "int_count = 0"
   ]
  },
  {
   "cell_type": "code",
   "execution_count": 122,
   "id": "bdc080e7",
   "metadata": {
    "ExecuteTime": {
     "end_time": "2021-09-14T04:34:13.714016Z",
     "start_time": "2021-09-14T04:34:13.694947Z"
    },
    "hidden": true
   },
   "outputs": [
    {
     "name": "stdout",
     "output_type": "stream",
     "text": [
      "<class 'torch.utils.data.dataloader.DataLoader'>\n",
      "None\n",
      "2\n"
     ]
    }
   ],
   "source": [
    "# from tqdm  import tqdm\n",
    "print(type(loader))\n",
    "print(normalize_loss)\n",
    "print(num_int_batches)"
   ]
  },
  {
   "cell_type": "code",
   "execution_count": 105,
   "id": "bb231718",
   "metadata": {
    "ExecuteTime": {
     "end_time": "2021-09-14T04:26:57.705952Z",
     "start_time": "2021-09-14T04:26:57.411481Z"
    },
    "hidden": true
   },
   "outputs": [],
   "source": [
    "b = next(iter(loader))"
   ]
  },
  {
   "cell_type": "code",
   "execution_count": 128,
   "id": "6c60d3ad",
   "metadata": {
    "ExecuteTime": {
     "end_time": "2021-09-14T04:36:30.299708Z",
     "start_time": "2021-09-14T04:36:30.277056Z"
    },
    "hidden": true
   },
   "outputs": [
    {
     "name": "stdout",
     "output_type": "stream",
     "text": [
      "dict_keys(['x_ind', 'x_data', 'yc_ind', 'yc_data', 'ycen_ind', 'ycen_data', 'batch_size'])\n",
      " x_ind     :   torch.Size([2, 59843])\n",
      " x_data    :   torch.Size([59843])\n",
      " yc_ind    :   torch.Size([2, 842])\n",
      " yc_data   :   torch.Size([842])\n",
      " ycen_ind  :   None\n",
      " ycen_data :   None\n",
      " batch_size:   732\n"
     ]
    }
   ],
   "source": [
    "print( b.keys())\n",
    "for key in b.keys():\n",
    "    if isinstance(b[key], torch.Tensor):\n",
    "        print(f\" {key:10s}:   {b[key].shape}\")\n",
    "    elif isinstance(b[key], int):\n",
    "        print(f\" {key:10s}:   {b[key]}\")\n",
    "    else:\n",
    "        print(f\" {key:10s}:   {b[key]}\")"
   ]
  },
  {
   "cell_type": "code",
   "execution_count": null,
   "id": "bd7ec9d9",
   "metadata": {
    "ExecuteTime": {
     "end_time": "2021-09-14T04:36:39.388368Z",
     "start_time": "2021-09-14T04:36:39.361657Z"
    },
    "hidden": true
   },
   "outputs": [],
   "source": [
    "i = 0 ;\n",
    "# for b in tqdm(loader, leave=False, disable=(progress == False)):\n",
    "# b = next(iter(loader))\n",
    "print(i, b.keys())\n",
    "i+=1\n",
    "for key in b.keys():\n",
    "\n",
    "    if b[key] is None:\n",
    "        continue\n",
    "    if isinstance(b[key], torch.Tensor):\n",
    "        print(f\" {key:10s}:   {b[key].shape}\")\n",
    "    elif isinstance(b[key], int):\n",
    "        print(f\" {key}:   {b[key]}\")\n",
    "\n",
    "if int_count == 0:\n",
    "    print(\"optimizer.zero_grad()\")\n",
    "    optimizer.zero_grad()"
   ]
  },
  {
   "cell_type": "code",
   "execution_count": 187,
   "id": "6fde13f3",
   "metadata": {
    "ExecuteTime": {
     "end_time": "2021-09-14T05:02:06.223150Z",
     "start_time": "2021-09-14T05:02:06.198121Z"
    },
    "hidden": true
   },
   "outputs": [],
   "source": []
  },
  {
   "cell_type": "code",
   "execution_count": 188,
   "id": "3985e05c",
   "metadata": {
    "ExecuteTime": {
     "end_time": "2021-09-14T05:02:11.008991Z",
     "start_time": "2021-09-14T05:02:10.990340Z"
    },
    "hidden": true
   },
   "outputs": [
    {
     "name": "stdout",
     "output_type": "stream",
     "text": [
      "Normalize loss : None\n",
      "Normalize loss : 732\n"
     ]
    }
   ],
   "source": [
    "norm = normalize_loss\n",
    "print(f\"Normalize loss : {norm}\")\n",
    "if norm is None:\n",
    "    norm = b[\"batch_size\"] * num_int_batches\n",
    "print(f\"Normalize loss : {norm}\")\n",
    "\n",
    "    "
   ]
  },
  {
   "cell_type": "code",
   "execution_count": 180,
   "id": "18f66ac0",
   "metadata": {
    "ExecuteTime": {
     "end_time": "2021-09-14T04:59:13.029086Z",
     "start_time": "2021-09-14T04:59:13.011227Z"
    },
    "hidden": true
   },
   "outputs": [],
   "source": [
    "# fwd = batch_forward(net, b=b, \n",
    "#                     input_size=loader.dataset.input_size, \n",
    "#                     loss_class=loss_class, loss_regr=loss_regr, \n",
    "#                     weights_class=weights_class, weights_regr=weights_regr, censored_weight=censored_weight, \n",
    "#                     dev=dev)\n",
    "fwd = out"
   ]
  },
  {
   "cell_type": "code",
   "execution_count": 190,
   "id": "361c506d",
   "metadata": {
    "ExecuteTime": {
     "end_time": "2021-09-14T05:03:54.805310Z",
     "start_time": "2021-09-14T05:03:54.785473Z"
    },
    "hidden": true
   },
   "outputs": [
    {
     "name": "stdout",
     "output_type": "stream",
     "text": [
      " loss: 555.0751953125      loss_norm: 0.7582994699478149    <class 'torch.Tensor'>\n"
     ]
    }
   ],
   "source": [
    "loss = fwd[\"yc_loss\"] + fwd[\"yr_loss\"]\n",
    "loss_norm = loss / norm\n",
    "print(f\" loss: {loss}      loss_norm: {loss_norm}    {type(loss_norm)}\")\n"
   ]
  },
  {
   "cell_type": "code",
   "execution_count": 191,
   "id": "b405d5f9",
   "metadata": {
    "ExecuteTime": {
     "end_time": "2021-09-14T05:04:39.089099Z",
     "start_time": "2021-09-14T05:04:39.065186Z"
    },
    "hidden": true
   },
   "outputs": [],
   "source": [
    "loss_norm.backward()"
   ]
  },
  {
   "cell_type": "code",
   "execution_count": 192,
   "id": "fa516f0d",
   "metadata": {
    "ExecuteTime": {
     "end_time": "2021-09-14T05:05:02.920283Z",
     "start_time": "2021-09-14T05:05:02.901496Z"
    },
    "hidden": true
   },
   "outputs": [
    {
     "name": "stdout",
     "output_type": "stream",
     "text": [
      "1 1\n"
     ]
    }
   ],
   "source": [
    "int_count += 1\n",
    "print(int_count, num_int_batches)"
   ]
  },
  {
   "cell_type": "code",
   "execution_count": 193,
   "id": "1194862f",
   "metadata": {
    "ExecuteTime": {
     "end_time": "2021-09-14T05:05:20.428789Z",
     "start_time": "2021-09-14T05:05:20.396079Z"
    },
    "hidden": true
   },
   "outputs": [
    {
     "name": "stdout",
     "output_type": "stream",
     "text": [
      " optimizer.step()\n"
     ]
    }
   ],
   "source": [
    "if int_count == num_int_batches:\n",
    "    print(\" optimizer.step()\")\n",
    "    optimizer.step()\n",
    "    int_count = 0"
   ]
  },
  {
   "cell_type": "code",
   "execution_count": 194,
   "id": "068da2da",
   "metadata": {
    "ExecuteTime": {
     "end_time": "2021-09-14T05:06:54.896897Z",
     "start_time": "2021-09-14T05:06:54.879402Z"
    },
    "hidden": true
   },
   "outputs": [],
   "source": [
    "if int_count > 0:\n",
    "    ## process tail batch (should not happen)\n",
    "    optimizer.step()"
   ]
  },
  {
   "cell_type": "markdown",
   "id": "cc9146c5",
   "metadata": {
    "heading_collapsed": true
   },
   "source": [
    "###  `batch_forward()`"
   ]
  },
  {
   "cell_type": "code",
   "execution_count": 130,
   "id": "9049b5f7",
   "metadata": {
    "ExecuteTime": {
     "end_time": "2021-09-14T04:37:35.206388Z",
     "start_time": "2021-09-14T04:37:35.189198Z"
    },
    "hidden": true
   },
   "outputs": [],
   "source": [
    "# def batch_forward(net, b, input_size, loss_class, loss_regr, weights_class, weights_regr, censored_weight=[], dev=\"cpu\"):\n",
    "\n",
    "\n",
    "# fwd = batch_forward(net, b=b, \n",
    "#                     input_size=loader.dataset.input_size, \n",
    "#                     loss_class=loss_class, \n",
    "#                     loss_regr=loss_regr, \n",
    "#                     weights_class=weights_class, \n",
    "#                     weights_regr=weights_regr, \n",
    "#                     censored_weight=censored_weight, \n",
    "#                     dev=dev)"
   ]
  },
  {
   "cell_type": "code",
   "execution_count": 131,
   "id": "623cec91",
   "metadata": {
    "ExecuteTime": {
     "end_time": "2021-09-14T04:39:16.132993Z",
     "start_time": "2021-09-14T04:39:16.116388Z"
    },
    "hidden": true
   },
   "outputs": [],
   "source": [
    "input_size = loader.dataset.input_size\n",
    "#                     loss_class = loss_class\n",
    "#                     loss_regr  = loss_regr\n",
    "#                     weights_class=weights_class, \n",
    "#                     weights_regr=weights_regr, \n",
    "#                     censored_weight=censored_weight, \n",
    "#                     dev=dev)"
   ]
  },
  {
   "cell_type": "code",
   "execution_count": 137,
   "id": "5eba6da2",
   "metadata": {
    "ExecuteTime": {
     "end_time": "2021-09-14T04:41:39.009362Z",
     "start_time": "2021-09-14T04:41:38.987669Z"
    },
    "hidden": true
   },
   "outputs": [
    {
     "name": "stdout",
     "output_type": "stream",
     "text": [
      " input size : 85277\n",
      "tensor([[ 0,  0,  0,  0],\n",
      "        [10, 13, 26, 27]])\n",
      "tensor([[  731,   731,   731,   731],\n",
      "        [23093, 23094, 23550, 40168]])\n"
     ]
    }
   ],
   "source": [
    "print(f\" input size : {input_size}\")\n",
    "print(b[\"x_ind\"][:,:4])\n",
    "print(b[\"x_ind\"][:,-4:])"
   ]
  },
  {
   "cell_type": "code",
   "execution_count": 138,
   "id": "0d7e8371",
   "metadata": {
    "ExecuteTime": {
     "end_time": "2021-09-14T04:41:55.843811Z",
     "start_time": "2021-09-14T04:41:55.823900Z"
    },
    "hidden": true
   },
   "outputs": [
    {
     "name": "stdout",
     "output_type": "stream",
     "text": [
      "tensor(indices=tensor([[    0,     0,     0,  ...,   731,   731,   731],\n",
      "                       [   10,    13,    26,  ..., 23094, 23550, 40168]]),\n",
      "       values=tensor([1., 1., 1.,  ..., 1., 1., 1.]),\n",
      "       size=(732, 85277), nnz=59843, layout=torch.sparse_coo)\n"
     ]
    }
   ],
   "source": [
    "X = torch.sparse_coo_tensor(\n",
    "    b[\"x_ind\"],\n",
    "    b[\"x_data\"],\n",
    "    size = [b[\"batch_size\"], input_size]).to(dev, non_blocking=True)\n",
    "\n",
    "print(X)"
   ]
  },
  {
   "cell_type": "code",
   "execution_count": 139,
   "id": "b94ac430",
   "metadata": {
    "ExecuteTime": {
     "end_time": "2021-09-14T04:42:09.714465Z",
     "start_time": "2021-09-14T04:42:09.693651Z"
    },
    "hidden": true
   },
   "outputs": [],
   "source": [
    "\n",
    "yc_hat_all, yr_hat_all = net(X)\n"
   ]
  },
  {
   "cell_type": "code",
   "execution_count": 149,
   "id": "f295dfe5",
   "metadata": {
    "ExecuteTime": {
     "end_time": "2021-09-14T04:44:49.661051Z",
     "start_time": "2021-09-14T04:44:49.644279Z"
    },
    "hidden": true
   },
   "outputs": [],
   "source": [
    "np.set_printoptions( linewidth=120)\n",
    "torch.set_printoptions(linewidth=120)"
   ]
  },
  {
   "cell_type": "code",
   "execution_count": 150,
   "id": "3eace388",
   "metadata": {
    "ExecuteTime": {
     "end_time": "2021-09-14T04:44:50.221911Z",
     "start_time": "2021-09-14T04:44:50.201244Z"
    },
    "hidden": true
   },
   "outputs": [
    {
     "name": "stdout",
     "output_type": "stream",
     "text": [
      "torch.Size([732, 100])\n",
      "tensor([[ 0.1160, -0.0162,  0.1878,  0.1004, -0.0150,  0.0352,  0.0791,  0.0316,  0.2313,  0.2962],\n",
      "        [ 0.1471,  0.1062,  0.1394, -0.0030,  0.0516,  0.0937,  0.0319,  0.0841,  0.2850,  0.1720],\n",
      "        [ 0.2111,  0.0163,  0.1404,  0.0606, -0.0649,  0.1037,  0.0113,  0.0795,  0.2086,  0.2310],\n",
      "        [ 0.1436,  0.0634,  0.1619,  0.0455, -0.0168,  0.0054,  0.0352,  0.1109,  0.2324,  0.2464],\n",
      "        [ 0.1452,  0.0182,  0.2110,  0.0465,  0.0157,  0.1497,  0.1226,  0.0303,  0.2124,  0.1476]],\n",
      "       grad_fn=<SliceBackward>)\n",
      "torch.Size([732, 0])\n"
     ]
    }
   ],
   "source": [
    "print(yc_hat_all.shape)\n",
    "print(yc_hat_all[:5,:10])\n",
    "print(yr_hat_all.shape)"
   ]
  },
  {
   "cell_type": "code",
   "execution_count": 151,
   "id": "202bd317",
   "metadata": {
    "ExecuteTime": {
     "end_time": "2021-09-14T04:45:16.833611Z",
     "start_time": "2021-09-14T04:45:16.815755Z"
    },
    "hidden": true
   },
   "outputs": [],
   "source": [
    "out = {}\n",
    "out[\"yc_hat_all\"] = yc_hat_all\n",
    "out[\"yr_hat_all\"] = yr_hat_all\n",
    "out[\"yc_loss\"]    = 0\n",
    "out[\"yr_loss\"]    = 0\n",
    "out[\"yc_weights\"] = 0\n",
    "out[\"yr_weights\"] = 0"
   ]
  },
  {
   "cell_type": "code",
   "execution_count": 163,
   "id": "ecf58dad",
   "metadata": {
    "ExecuteTime": {
     "end_time": "2021-09-14T04:50:54.288584Z",
     "start_time": "2021-09-14T04:50:54.265133Z"
    },
    "hidden": true
   },
   "outputs": [
    {
     "name": "stdout",
     "output_type": "stream",
     "text": [
      "torch.Size([2, 842]) \n",
      " tensor([[ 0,  1,  2,  3,  3,  4,  5,  6,  7,  8,  9, 10, 11, 11, 12, 13, 14, 15, 16, 17],\n",
      "        [72, 33,  0, 31, 77, 50, 38, 50, 85,  8, 28, 85, 28, 64, 85, 34, 14,  0,  0, 33]])\n",
      "torch.Size([842]) \n",
      " tensor([1., 1., 1., 0., 1., 1., 1., 1., 1., 1., 1., 1., 1., 0., 1., 1., 1., 1., 1., 1.])\n"
     ]
    }
   ],
   "source": [
    "print(b[\"yc_ind\"].shape, '\\n', b[\"yc_ind\"][:,:20])\n",
    "print(b[\"yc_data\"].shape, '\\n', b[\"yc_data\"][:20])"
   ]
  },
  {
   "cell_type": "code",
   "execution_count": 174,
   "id": "409640b5",
   "metadata": {
    "ExecuteTime": {
     "end_time": "2021-09-14T04:55:16.884612Z",
     "start_time": "2021-09-14T04:55:16.864091Z"
    },
    "hidden": true
   },
   "outputs": [
    {
     "name": "stdout",
     "output_type": "stream",
     "text": [
      "100\n"
     ]
    }
   ],
   "source": [
    "if net.class_output_size > 0:\n",
    "    print(net.class_output_size)\n",
    "    yc_ind  = b[\"yc_ind\"].to(dev, non_blocking=True)\n",
    "    yc_w    = weights_class[yc_ind[1]]\n",
    "    yc_data = b[\"yc_data\"].to(dev, non_blocking=True)\n",
    "    yc_hat  = yc_hat_all[yc_ind[0], yc_ind[1]]\n",
    "    out[\"yc_ind\"]  = yc_ind\n",
    "    out[\"yc_data\"] = yc_data\n",
    "    out[\"yc_hat\"]  = yc_hat\n",
    "    out[\"yc_loss\"] = (loss_class(yc_hat, yc_data) * yc_w).sum()\n",
    "    out[\"yc_weights\"] = yc_w.sum()"
   ]
  },
  {
   "cell_type": "code",
   "execution_count": 177,
   "id": "4f67475c",
   "metadata": {
    "ExecuteTime": {
     "end_time": "2021-09-14T04:56:01.037600Z",
     "start_time": "2021-09-14T04:56:01.008366Z"
    },
    "hidden": true
   },
   "outputs": [
    {
     "name": "stdout",
     "output_type": "stream",
     "text": [
      "torch.Size([842]) \n",
      " tensor([1., 1., 1., 0., 1., 1., 1., 1., 1., 1., 1., 1., 1., 0., 1., 1., 1., 1., 1., 1.])\n",
      "torch.Size([842]) \n",
      " tensor([0.1159, 0.1720, 0.2111, 0.1034, 0.0087, 0.1060, 0.1078, 0.1717, 0.0474, 0.2050, 0.2578, 0.0888, 0.2508, 0.2273,\n",
      "        0.0260, 0.1242, 0.1250, 0.1783, 0.0751, 0.1576], grad_fn=<SliceBackward>)\n",
      "torch.Size([842]) \n",
      " tensor([1., 1., 1., 1., 1., 1., 1., 1., 1., 1., 1., 1., 1., 1., 1., 1., 1., 1., 1., 1.])\n",
      "torch.Size([842]) \n",
      " tensor([0.6369, 0.6109, 0.5931, 0.7462, 0.6888, 0.6416, 0.6407, 0.6110, 0.6697, 0.5959, 0.5725, 0.6497, 0.5756, 0.8132,\n",
      "        0.6802, 0.6330, 0.6326, 0.6080, 0.6563, 0.6174], grad_fn=<SliceBackward>)\n",
      "torch.Size([]) \n",
      " tensor(555.0752, grad_fn=<SumBackward0>)\n"
     ]
    }
   ],
   "source": [
    "print(b[\"yc_data\"].shape, '\\n', b[\"yc_data\"][:20])\n",
    "print(yc_hat.shape, '\\n', yc_hat[:20])\n",
    "print(yc_w.shape, '\\n' , yc_w[:20] )\n",
    "print(loss_class(yc_hat, yc_data).shape, '\\n', loss_class(yc_hat, yc_data)[:20])\n",
    "print(out[\"yc_loss\"].shape, '\\n', out[\"yc_loss\"])"
   ]
  },
  {
   "cell_type": "code",
   "execution_count": 178,
   "id": "5a919850",
   "metadata": {
    "ExecuteTime": {
     "end_time": "2021-09-14T04:57:05.393723Z",
     "start_time": "2021-09-14T04:57:05.373948Z"
    },
    "hidden": true
   },
   "outputs": [
    {
     "data": {
      "text/plain": [
       "0"
      ]
     },
     "execution_count": 178,
     "metadata": {},
     "output_type": "execute_result"
    }
   ],
   "source": [
    "net.regr_output_size"
   ]
  },
  {
   "cell_type": "code",
   "execution_count": 179,
   "id": "93210949",
   "metadata": {
    "ExecuteTime": {
     "end_time": "2021-09-14T04:57:27.497538Z",
     "start_time": "2021-09-14T04:57:27.475777Z"
    },
    "hidden": true
   },
   "outputs": [
    {
     "name": "stdout",
     "output_type": "stream",
     "text": [
      "net.regr_output_size is 0\n"
     ]
    }
   ],
   "source": [
    "if net.regr_output_size > 0:\n",
    "    yr_ind  = b[\"yr_ind\"].to(dev, non_blocking=True)\n",
    "    yr_w    = weights_regr[yr_ind[1]]\n",
    "    yr_data = b[\"yr_data\"].to(dev, non_blocking=True)\n",
    "    yr_hat  = yr_hat_all[yr_ind[0], yr_ind[1]]\n",
    "\n",
    "    out[\"ycen_data\"] = b[\"ycen_data\"]\n",
    "    if out[\"ycen_data\"] is not None:\n",
    "        out[\"ycen_data\"] = out[\"ycen_data\"].to(dev, non_blocking=True)\n",
    "\n",
    "        if len(censored_weight) > 0:\n",
    "            ## updating weights of censored data\n",
    "            yrcen_w = yr_w * censored_weight[yr_ind[1]]\n",
    "            yr_w    = torch.where(out[\"ycen_data\"] == 0, yr_w, yrcen_w)\n",
    "\n",
    "    out[\"yr_ind\"]  = yr_ind\n",
    "    out[\"yr_data\"] = yr_data\n",
    "    out[\"yr_hat\"]  = yr_hat\n",
    "    out[\"yr_loss\"] = (loss_regr(input=yr_hat, target=yr_data, censor=out[\"ycen_data\"]) * yr_w).sum()\n",
    "    out[\"yr_weights\"] = yr_w.sum()\n",
    "else:\n",
    "    print(\"net.regr_output_size is 0\")"
   ]
  },
  {
   "cell_type": "code",
   "execution_count": null,
   "id": "ebafd6ff",
   "metadata": {
    "hidden": true
   },
   "outputs": [],
   "source": []
  },
  {
   "cell_type": "code",
   "execution_count": null,
   "id": "5ba23e64",
   "metadata": {
    "hidden": true
   },
   "outputs": [],
   "source": []
  },
  {
   "cell_type": "code",
   "execution_count": null,
   "id": "d54e1edb",
   "metadata": {
    "hidden": true
   },
   "outputs": [],
   "source": []
  },
  {
   "cell_type": "code",
   "execution_count": null,
   "id": "8b5d0955",
   "metadata": {
    "hidden": true
   },
   "outputs": [],
   "source": []
  },
  {
   "cell_type": "code",
   "execution_count": 59,
   "id": "fdb86c62",
   "metadata": {
    "ExecuteTime": {
     "end_time": "2021-07-21T22:47:10.639523Z",
     "start_time": "2021-07-21T22:47:10.617490Z"
    },
    "hidden": true
   },
   "outputs": [],
   "source": [
    "\n",
    "# i = torch.LongTensor((np.arange(10),np.arange(10)))\n",
    "# v = torch.FloatTensor(np.random.normal(size=10))\n",
    "# G = torch.sparse.FloatTensor(i,v,torch.Size((100,100)))\n",
    "# x = torch.Tensor(np.random.normal(size=100))\n",
    "# device = torch.device('cpu')\n",
    "# x = x.to(device)\n",
    "# torch.mm(G, x.unsqueeze(1))"
   ]
  },
  {
   "cell_type": "markdown",
   "id": "02dc8e1d",
   "metadata": {},
   "source": [
    "### training functions "
   ]
  },
  {
   "cell_type": "code",
   "execution_count": 209,
   "id": "976b2357",
   "metadata": {
    "ExecuteTime": {
     "end_time": "2021-09-14T05:16:40.037358Z",
     "start_time": "2021-09-14T05:16:40.012310Z"
    }
   },
   "outputs": [],
   "source": [
    "\n",
    "def train_class_regr(net, optimizer, loader, loss_class, loss_regr, dev,\n",
    "                     weights_class, weights_regr, censored_weight,\n",
    "                     normalize_loss=None, num_int_batches=1, progress=True):\n",
    "    \n",
    "    ## Set the model in training mode.\n",
    "    net.train()\n",
    "\n",
    "    int_count = 0\n",
    "    for b in tqdm(loader, leave=False, disable=(progress == False)):\n",
    "        if int_count == 0:\n",
    "            optimizer.zero_grad()\n",
    "\n",
    "        norm = normalize_loss\n",
    "        if norm is None:\n",
    "            norm = b[\"batch_size\"] * num_int_batches\n",
    "\n",
    "        fwd = batch_forward(net, b=b, \n",
    "                            input_size=loader.dataset.input_size, \n",
    "                            loss_class=loss_class, loss_regr=loss_regr, \n",
    "                            weights_class=weights_class, weights_regr=weights_regr, censored_weight=censored_weight, \n",
    "                            dev=dev)\n",
    "        loss = fwd[\"yc_loss\"] + fwd[\"yr_loss\"]\n",
    "        loss_norm = loss / norm\n",
    "    \n",
    "        loss_norm.backward()\n",
    "\n",
    "        int_count += 1\n",
    "        if int_count == num_int_batches:\n",
    "            optimizer.step()\n",
    "            int_count = 0\n",
    "\n",
    "    if int_count > 0:\n",
    "        ## process tail batch (should not happen)\n",
    "        optimizer.step()\n"
   ]
  },
  {
   "cell_type": "code",
   "execution_count": 201,
   "id": "4a03bf6e",
   "metadata": {
    "ExecuteTime": {
     "end_time": "2021-09-14T05:12:47.467463Z",
     "start_time": "2021-09-14T05:12:47.444049Z"
    }
   },
   "outputs": [],
   "source": [
    "def batch_forward(net, b, input_size, loss_class, loss_regr, weights_class, weights_regr, censored_weight=[], dev=\"cpu\"):\n",
    "    \"\"\"returns full outputs from the network for the batch b\"\"\"\n",
    "    ## Convert CSR tensor to COO tensor.\n",
    "    X = torch.sparse_coo_tensor(\n",
    "        b[\"x_ind\"],\n",
    "        b[\"x_data\"],\n",
    "        size = [b[\"batch_size\"], input_size]).to(dev, non_blocking=True)\n",
    "\n",
    "    yc_hat_all, yr_hat_all = net(X)\n",
    "\n",
    "    out = {}\n",
    "    out[\"yc_hat_all\"] = yc_hat_all\n",
    "    out[\"yr_hat_all\"] = yr_hat_all\n",
    "    out[\"yc_loss\"]    = 0\n",
    "    out[\"yr_loss\"]    = 0\n",
    "    out[\"yc_weights\"] = 0\n",
    "    out[\"yr_weights\"] = 0\n",
    "\n",
    "    if net.class_output_size > 0:\n",
    "        yc_ind  = b[\"yc_ind\"].to(dev, non_blocking=True)\n",
    "        yc_w    = weights_class[yc_ind[1]]\n",
    "        yc_data = b[\"yc_data\"].to(dev, non_blocking=True)\n",
    "        yc_hat  = yc_hat_all[yc_ind[0], yc_ind[1]]\n",
    "        out[\"yc_ind\"]  = yc_ind\n",
    "        out[\"yc_data\"] = yc_data\n",
    "        out[\"yc_hat\"]  = yc_hat\n",
    "        out[\"yc_loss\"] = (loss_class(yc_hat, yc_data) * yc_w).sum()\n",
    "        out[\"yc_weights\"] = yc_w.sum()\n",
    "\n",
    "    if net.regr_output_size > 0:\n",
    "        yr_ind  = b[\"yr_ind\"].to(dev, non_blocking=True)\n",
    "        yr_w    = weights_regr[yr_ind[1]]\n",
    "        yr_data = b[\"yr_data\"].to(dev, non_blocking=True)\n",
    "        yr_hat  = yr_hat_all[yr_ind[0], yr_ind[1]]\n",
    "\n",
    "        out[\"ycen_data\"] = b[\"ycen_data\"]\n",
    "        if out[\"ycen_data\"] is not None:\n",
    "            out[\"ycen_data\"] = out[\"ycen_data\"].to(dev, non_blocking=True)\n",
    "            \n",
    "            if len(censored_weight) > 0:\n",
    "                ## updating weights of censored data\n",
    "                yrcen_w = yr_w * censored_weight[yr_ind[1]]\n",
    "                yr_w    = torch.where(out[\"ycen_data\"] == 0, yr_w, yrcen_w)\n",
    "\n",
    "        out[\"yr_ind\"]  = yr_ind\n",
    "        out[\"yr_data\"] = yr_data\n",
    "        out[\"yr_hat\"]  = yr_hat\n",
    "        out[\"yr_loss\"] = (loss_regr(input=yr_hat, target=yr_data, censor=out[\"ycen_data\"]) * yr_w).sum()\n",
    "        out[\"yr_weights\"] = yr_w.sum()\n",
    "\n",
    "    return out"
   ]
  },
  {
   "cell_type": "markdown",
   "id": "98a6813d",
   "metadata": {
    "heading_collapsed": true
   },
   "source": [
    "## Model Saving "
   ]
  },
  {
   "cell_type": "code",
   "execution_count": 210,
   "id": "59fa94ac",
   "metadata": {
    "ExecuteTime": {
     "end_time": "2021-09-14T05:17:59.461616Z",
     "start_time": "2021-09-14T05:17:59.431853Z"
    },
    "hidden": true
   },
   "outputs": [
    {
     "ename": "NameError",
     "evalue": "name 'name' is not defined",
     "output_type": "error",
     "traceback": [
      "\u001b[0;31m---------------------------------------------------------------------------\u001b[0m",
      "\u001b[0;31mNameError\u001b[0m                                 Traceback (most recent call last)",
      "\u001b[0;32m<ipython-input-210-d832e6b85dda>\u001b[0m in \u001b[0;36m<module>\u001b[0;34m\u001b[0m\n\u001b[1;32m      3\u001b[0m    \u001b[0mos\u001b[0m\u001b[0;34m.\u001b[0m\u001b[0mmakedirs\u001b[0m\u001b[0;34m(\u001b[0m\u001b[0margs\u001b[0m\u001b[0;34m.\u001b[0m\u001b[0moutput_dir\u001b[0m\u001b[0;34m)\u001b[0m\u001b[0;34m\u001b[0m\u001b[0;34m\u001b[0m\u001b[0m\n\u001b[1;32m      4\u001b[0m \u001b[0;34m\u001b[0m\u001b[0m\n\u001b[0;32m----> 5\u001b[0;31m \u001b[0mmodel_file\u001b[0m \u001b[0;34m=\u001b[0m \u001b[0;34mf\"{args.output_dir}/{name}.pt\"\u001b[0m\u001b[0;34m\u001b[0m\u001b[0;34m\u001b[0m\u001b[0m\n\u001b[0m\u001b[1;32m      6\u001b[0m \u001b[0mout_file\u001b[0m   \u001b[0;34m=\u001b[0m \u001b[0;34mf\"{args.output_dir}/{name}.json\"\u001b[0m\u001b[0;34m\u001b[0m\u001b[0;34m\u001b[0m\u001b[0m\n\u001b[1;32m      7\u001b[0m \u001b[0;34m\u001b[0m\u001b[0m\n",
      "\u001b[0;31mNameError\u001b[0m: name 'name' is not defined"
     ]
    }
   ],
   "source": [
    "#####   model saving   #####\n",
    "if not os.path.exists(args.output_dir):\n",
    "   os.makedirs(args.output_dir)\n",
    "\n",
    "model_file = f\"{args.output_dir}/{name}.pt\"\n",
    "out_file   = f\"{args.output_dir}/{name}.json\"\n",
    "\n",
    "if args.save_model:\n",
    "   torch.save(net.state_dict(), model_file)\n",
    "   vprint(f\"Saved model weights into '{model_file}'.\")\n",
    "\n",
    "results_va[\"classification\"][\"num_pos\"] = num_pos_va\n",
    "results_va[\"classification\"][\"num_neg\"] = num_neg_va\n",
    "results_va[\"regression\"][\"num_samples\"] = num_regr_va\n",
    "\n",
    "if results_tr is not None:\n",
    "    results_tr[\"classification\"][\"num_pos\"] = num_pos - num_pos_va\n",
    "    results_tr[\"classification\"][\"num_neg\"] = num_neg - num_neg_va\n",
    "    results_tr[\"regression\"][\"num_samples\"] = num_regr - num_regr_va\n",
    "\n",
    "sc.save_results(out_file, args, validation=results_va, training=results_tr)\n",
    "\n",
    "vprint(f\"Saved config and results into '{out_file}'.\\nYou can load the results by:\\n  import sparsechem as sc\\n  res = sc.load_results('{out_file}')\\n\")\n"
   ]
  },
  {
   "cell_type": "code",
   "execution_count": null,
   "id": "1dc71f21",
   "metadata": {
    "hidden": true
   },
   "outputs": [],
   "source": []
  }
 ],
 "metadata": {
  "kernelspec": {
   "display_name": "pyt-cpu",
   "language": "python",
   "name": "pyt-cpu"
  },
  "language_info": {
   "codemirror_mode": {
    "name": "ipython",
    "version": 3
   },
   "file_extension": ".py",
   "mimetype": "text/x-python",
   "name": "python",
   "nbconvert_exporter": "python",
   "pygments_lexer": "ipython3",
   "version": "3.8.11"
  },
  "toc": {
   "base_numbering": 1,
   "nav_menu": {},
   "number_sections": true,
   "sideBar": true,
   "skip_h1_title": false,
   "title_cell": "Table of Contents",
   "title_sidebar": "Contents",
   "toc_cell": false,
   "toc_position": {},
   "toc_section_display": true,
   "toc_window_display": false
  }
 },
 "nbformat": 4,
 "nbformat_minor": 5
}
